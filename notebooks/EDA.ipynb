{
 "cells": [
  {
   "cell_type": "code",
   "execution_count": 6,
   "metadata": {},
   "outputs": [
    {
     "name": "stderr",
     "output_type": "stream",
     "text": [
      "/usr/lib64/python2.7/site-packages/matplotlib/__init__.py:1405: UserWarning: \n",
      "This call to matplotlib.use() has no effect because the backend has already\n",
      "been chosen; matplotlib.use() must be called *before* pylab, matplotlib.pyplot,\n",
      "or matplotlib.backends is imported for the first time.\n",
      "\n",
      "  warnings.warn(_use_error_msg)\n"
     ]
    }
   ],
   "source": [
    "import numpy as np\n",
    "import pandas as pd\n",
    "import matplotlib.pyplot as plt\n",
    "%matplotlib inline\n",
    "import seaborn as sns"
   ]
  },
  {
   "cell_type": "code",
   "execution_count": 9,
   "metadata": {},
   "outputs": [],
   "source": [
    "train = pd.read_csv('./data/train.csv', na_values=\"-1\")"
   ]
  },
  {
   "cell_type": "code",
   "execution_count": 3,
   "metadata": {},
   "outputs": [
    {
     "name": "stdout",
     "output_type": "stream",
     "text": [
      "\n",
      "____________________\n",
      "\n",
      "number of features by feature type :\n",
      "____________________\n",
      "\n",
      "ind \t:\t18\n",
      "car \t:\t16\n",
      "calc \t:\t20\n",
      "reg \t:\t3\n",
      "\n",
      "____________________\n",
      "\n",
      "number of features by data type :\n",
      "____________________\n",
      "\n",
      "bin \t:\t17\n",
      "cont \t:\t26\n",
      "cat \t:\t14\n"
     ]
    }
   ],
   "source": [
    "features = { 'ind' : [], 'car' :[], 'calc':[], 'reg':[] }\n",
    "datatypes = { 'cat':[], 'bin':[], 'cont':[] }\n",
    "import re\n",
    "for i in train.columns :\n",
    "    for j in features.keys() :\n",
    "        if j in i : features[j].append(i)\n",
    "    for j in datatypes.keys() :\n",
    "        if j in i : datatypes[j].append(i)\n",
    "    \n",
    "    if re.match(re.compile('^ps_[a-z]+_[0-9]+$'), i) :\n",
    "        datatypes['cont'].append(i)\n",
    "#---------------------------------------------------------\n",
    "print \"\\n____________________\\n\"\n",
    "print \"number of features by feature type :\\n____________________\\n\"\n",
    "for i,j in features.items() :\n",
    "    print i, \"\\t:\\t\",len(j)\n",
    "print \"\\n____________________\\n\"\n",
    "print \"number of features by data type :\\n____________________\\n\"\n",
    "\n",
    "for i,j in datatypes.items() :\n",
    "    print i, \"\\t:\\t\",len(j)"
   ]
  },
  {
   "cell_type": "code",
   "execution_count": 11,
   "metadata": {},
   "outputs": [
    {
     "name": "stdout",
     "output_type": "stream",
     "text": [
      "NaN values percentage if above 30% by featues : \n",
      "________________\n",
      "ind  >>\n",
      "-------\n",
      "car  >>\n",
      "\tps_car_03_cat  >  69.09 %\n",
      "\tps_car_05_cat  >  44.78 %\n",
      "-------\n",
      "calc  >>\n",
      "-------\n",
      "reg  >>\n",
      "-------\n",
      "nNaN values percentage if above 30% by data types : \n",
      "________________\n",
      "bin  >>\n",
      "-------\n",
      "cont  >>\n",
      "-------\n",
      "cat  >>\n",
      "\tps_car_03_cat  >  69.09 %\n",
      "\tps_car_05_cat  >  44.78 %\n",
      "-------\n"
     ]
    }
   ],
   "source": [
    "\n",
    "def printNull(col,names):\n",
    "    global count\n",
    "    try :\n",
    "        p =  round(float(col.isnull().sum()) / train.shape[0] * 100.0,2)\n",
    "        if p >= 30 : print \"\\t\" ,names[count],' > ',p,\"%\"\n",
    "    except:\n",
    "        pass;\n",
    "    count+=1\n",
    "\n",
    "#------------------------------------------------\n",
    "print \"NaN values percentage if above 30% by featues : \\n________________\"\n",
    "for i,j in features.items():\n",
    "    print i,' >>'\n",
    "    count = 0\n",
    "    _ = train[j].apply(printNull, args=[j])\n",
    "    print \"-------\"\n",
    "#-------------------------\n",
    "print \"nNaN values percentage if above 30% by data types : \\n________________\"\n",
    "for i,j in datatypes.items():\n",
    "    print i,' >>'\n",
    "    count = 0;\n",
    "    _ = train[j].apply(printNull, args = [j])\n",
    "    print \"-------\"\n",
    "\n",
    "    \n",
    "    \n",
    "    \n",
    "#_ = train[datatypes['cat']].apply(printNull, axis=0)"
   ]
  },
  {
   "cell_type": "code",
   "execution_count": 11,
   "metadata": {
    "scrolled": false
   },
   "outputs": [
    {
     "name": "stdout",
     "output_type": "stream",
     "text": [
      "Important Correlations\n"
     ]
    },
    {
     "data": {
      "text/html": [
       "<div>\n",
       "<style>\n",
       "    .dataframe thead tr:only-child th {\n",
       "        text-align: right;\n",
       "    }\n",
       "\n",
       "    .dataframe thead th {\n",
       "        text-align: left;\n",
       "    }\n",
       "\n",
       "    .dataframe tbody tr th {\n",
       "        vertical-align: top;\n",
       "    }\n",
       "</style>\n",
       "<table border=\"1\" class=\"dataframe\">\n",
       "  <thead>\n",
       "    <tr style=\"text-align: right;\">\n",
       "      <th></th>\n",
       "      <th>ps_ind_12_bin</th>\n",
       "      <th>ps_ind_14</th>\n",
       "      <th>ps_reg_02</th>\n",
       "      <th>ps_reg_03</th>\n",
       "    </tr>\n",
       "  </thead>\n",
       "  <tbody>\n",
       "    <tr>\n",
       "      <th>ps_ind_12_bin</th>\n",
       "      <td>NaN</td>\n",
       "      <td>0.890127</td>\n",
       "      <td>NaN</td>\n",
       "      <td>NaN</td>\n",
       "    </tr>\n",
       "    <tr>\n",
       "      <th>ps_ind_14</th>\n",
       "      <td>0.890127</td>\n",
       "      <td>NaN</td>\n",
       "      <td>NaN</td>\n",
       "      <td>NaN</td>\n",
       "    </tr>\n",
       "    <tr>\n",
       "      <th>ps_reg_02</th>\n",
       "      <td>NaN</td>\n",
       "      <td>NaN</td>\n",
       "      <td>NaN</td>\n",
       "      <td>0.742668</td>\n",
       "    </tr>\n",
       "    <tr>\n",
       "      <th>ps_reg_03</th>\n",
       "      <td>NaN</td>\n",
       "      <td>NaN</td>\n",
       "      <td>0.742668</td>\n",
       "      <td>NaN</td>\n",
       "    </tr>\n",
       "  </tbody>\n",
       "</table>\n",
       "</div>"
      ],
      "text/plain": [
       "               ps_ind_12_bin  ps_ind_14  ps_reg_02  ps_reg_03\n",
       "ps_ind_12_bin            NaN   0.890127        NaN        NaN\n",
       "ps_ind_14           0.890127        NaN        NaN        NaN\n",
       "ps_reg_02                NaN        NaN        NaN   0.742668\n",
       "ps_reg_03                NaN        NaN   0.742668        NaN"
      ]
     },
     "execution_count": 11,
     "metadata": {},
     "output_type": "execute_result"
    },
    {
     "data": {
      "text/plain": [
       "<matplotlib.axes._subplots.AxesSubplot at 0x7f659f973050>"
      ]
     },
     "execution_count": 11,
     "metadata": {},
     "output_type": "execute_result"
    },
    {
     "data": {
      "image/png": "[encoded data removed]",
      "text/plain": [
       "<matplotlib.figure.Figure at 0x7f659f95a990>"
      ]
     },
     "metadata": {},
     "output_type": "display_data"
    }
   ],
   "source": [
    "print \"Important Correlations\"\n",
    "corrT = train.corr()\n",
    "corrT[corrT == 1] = 0\n",
    "corrT[corrT.abs() >= 0.7].dropna(how='all').dropna(how='all',axis=1)\n",
    "sns.heatmap(corrT[corrT.abs() >= 0.5].dropna(how='all').dropna(how='all',axis=1))\n",
    "del corrT"
   ]
  },
  {
   "cell_type": "markdown",
   "metadata": {},
   "source": [
    "------------------------"
   ]
  },
  {
   "cell_type": "code",
   "execution_count": null,
   "metadata": {},
   "outputs": [],
   "source": []
  }
 ],
 "metadata": {
  "kernelspec": {
   "display_name": "Python 2",
   "language": "python",
   "name": "python2"
  },
  "language_info": {
   "codemirror_mode": {
    "name": "ipython",
    "version": 2
   },
   "file_extension": ".py",
   "mimetype": "text/x-python",
   "name": "python",
   "nbconvert_exporter": "python",
   "pygments_lexer": "ipython2",
   "version": "2.7.13"
  }
 },
 "nbformat": 4,
 "nbformat_minor": 2
}
