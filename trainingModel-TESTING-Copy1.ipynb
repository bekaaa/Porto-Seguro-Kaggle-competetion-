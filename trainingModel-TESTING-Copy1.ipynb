{
 "cells": [
  {
   "cell_type": "code",
   "execution_count": 1,
   "metadata": {},
   "outputs": [],
   "source": [
    "import pandas as pd\n",
    "import numpy as np\n",
    "from sklearn.preprocessing import OneHotEncoder\n",
    "from sklearn.model_selection import train_test_split\n",
    "from sklearn.model_selection import GridSearchCV\n",
    "seed = 2\n",
    "from xgboost import XGBClassifier\n",
    "import pickle"
   ]
  },
  {
   "cell_type": "code",
   "execution_count": 2,
   "metadata": {},
   "outputs": [],
   "source": [
    "#train = pd.read_csv('./data/new_train.csv')\n",
    "train = pd.read_csv('./data/train_sample.csv')"
   ]
  },
  {
   "cell_type": "code",
   "execution_count": 3,
   "metadata": {},
   "outputs": [],
   "source": [
    "sample_size = int(1e2)\n",
    "try :\n",
    "    sample = train[train.target == 1].sample(n=sample_size/2, random_state=seed)\n",
    "    sample = sample.append( train[train.target == 0].sample(n=sample_size/2, random_state=seed))\n",
    "except ValueError :\n",
    "    sample = train[train.target == 1]\n",
    "    sample = sample.append( train[train.target == 0].sample(n=sample_size-21694, random_state=seed) )\n",
    "\n",
    "sample = sample.sample(frac=1, random_state=seed).reset_index(drop=True)\n",
    "#sample.to_csv('./data/train_sample.csv', index=False)\n",
    "train = sample"
   ]
  },
  {
   "cell_type": "code",
   "execution_count": 4,
   "metadata": {},
   "outputs": [],
   "source": [
    "target = train.target\n",
    "train.drop(['target','id'], inplace=True, axis=1)\n",
    "train.drop([ col for col in train.columns if col.startswith('ps_cont') ],axis=1, inplace=True)"
   ]
  },
  {
   "cell_type": "code",
   "execution_count": 5,
   "metadata": {},
   "outputs": [],
   "source": [
    "with open('./data/OneHotEncoder.clf', 'rb') as f:\n",
    "    encoders = pickle.load(f)"
   ]
  },
  {
   "cell_type": "code",
   "execution_count": 6,
   "metadata": {},
   "outputs": [],
   "source": [
    "enc_train = None\n",
    "\n",
    "for feature,encoder in zip(train.columns,encoders) :\n",
    "    encoded = encoder.transform(train[feature].values.reshape(-1,1))\n",
    "    if enc_train is None :\n",
    "        enc_train = encoded\n",
    "    else :\n",
    "        enc_train = np.concatenate((enc_train, encoded), axis=1)"
   ]
  },
  {
   "cell_type": "code",
   "execution_count": 7,
   "metadata": {},
   "outputs": [
    {
     "data": {
      "text/plain": [
       "(100, 52)"
      ]
     },
     "execution_count": 7,
     "metadata": {},
     "output_type": "execute_result"
    }
   ],
   "source": [
    "train.shape"
   ]
  },
  {
   "cell_type": "code",
   "execution_count": 8,
   "metadata": {},
   "outputs": [],
   "source": [
    "#with open('./data/model.pkl','rb') as f :\n",
    "#    model = pickle.load(f)"
   ]
  },
  {
   "cell_type": "code",
   "execution_count": 9,
   "metadata": {},
   "outputs": [],
   "source": [
    "#with open('./data/model.pkl', 'wb') as f:\n",
    "#    pickle.dump(file=f, obj=model)"
   ]
  },
  {
   "cell_type": "code",
   "execution_count": null,
   "metadata": {},
   "outputs": [],
   "source": []
  },
  {
   "cell_type": "code",
   "execution_count": null,
   "metadata": {},
   "outputs": [],
   "source": []
  },
  {
   "cell_type": "code",
   "execution_count": 10,
   "metadata": {},
   "outputs": [],
   "source": [
    "#def split_data(X, Y, ratio=0.1):\n",
    "#    test_ids = np.random.randint(0, X.shape[0], int(X.shape[0] * ratio))\n",
    "#    x_test = X[test_ids]\n",
    "#    y_test = Y[test_ids]\n",
    "#    x_train = np.delete(X, test_ids, axis=0)\n",
    "#    y_train = Y.drop(test_ids)\n",
    "#    return x_train, x_test, y_train, y_test\n",
    "\n",
    "#x_train, x_test, y_train, y_test = split_data(enc_train, target, .1)"
   ]
  },
  {
   "cell_type": "code",
   "execution_count": 11,
   "metadata": {},
   "outputs": [],
   "source": [
    "#model.fit(x_train,y_train)"
   ]
  },
  {
   "cell_type": "code",
   "execution_count": null,
   "metadata": {},
   "outputs": [],
   "source": []
  },
  {
   "cell_type": "code",
   "execution_count": 12,
   "metadata": {},
   "outputs": [],
   "source": [
    "#model = XGBClassifier(**params)"
   ]
  },
  {
   "cell_type": "code",
   "execution_count": 13,
   "metadata": {},
   "outputs": [],
   "source": [
    "#model.fit(enc_train, target)"
   ]
  },
  {
   "cell_type": "code",
   "execution_count": null,
   "metadata": {},
   "outputs": [],
   "source": []
  },
  {
   "cell_type": "code",
   "execution_count": 14,
   "metadata": {},
   "outputs": [],
   "source": [
    "#from sklearn.metrics import classification_report\n",
    "#pred = model.predict(enc_train)\n",
    "#print classification_report(y_true=target, y_pred=pred)"
   ]
  },
  {
   "cell_type": "code",
   "execution_count": 15,
   "metadata": {},
   "outputs": [],
   "source": [
    "#import xgboost_optimizer"
   ]
  },
  {
   "cell_type": "code",
   "execution_count": 16,
   "metadata": {},
   "outputs": [],
   "source": [
    "#xgboost_optimizer.xgboost_optimizer(enc_train, target)"
   ]
  },
  {
   "cell_type": "code",
   "execution_count": null,
   "metadata": {},
   "outputs": [],
   "source": []
  },
  {
   "cell_type": "code",
   "execution_count": null,
   "metadata": {},
   "outputs": [],
   "source": []
  },
  {
   "cell_type": "code",
   "execution_count": 17,
   "metadata": {},
   "outputs": [],
   "source": [
    "params = {\n",
    "\n",
    "    #-----------------------------------------------------------------------\n",
    "    # dealing with imblanced data\n",
    "    #-------------------------------------------------------------------------------\n",
    "    'max_delta_step':0,\n",
    "    #Maximum delta step we allow each tree's weight estimation to be. If the value is set to 0,\n",
    "    #it means there is no constraint. If it is set to a positive value, it can help making the update step more \n",
    "    #conservative. Usually this parameter is not needed, but it might help in logistic regression when class is\n",
    "    #extremely imbalanced. Set it to value of 1-10 might help control the update.\n",
    "    #default:0, range[0-inf]\n",
    "    'scale_pos_weight' : 1,  # control balance between +ve and -ve weights, default:1\n",
    "    \n",
    "    #--------------------------------------------------------------------------------------\n",
    "    #  Regularization\n",
    "    #-------------------------------------------------------------------------------\n",
    "    'alpha' : 0,\n",
    "    #L1 regularization term on weights, increase this value will make model more conservative, default:0\n",
    "    'lambda' : 1,\n",
    "    #L2 regularization term on weights, increase this value will make model more conservative, default1.\n",
    "    \n",
    "    #------------------------------------------------------\n",
    "    # add randomness to make training robust to noise\n",
    "    #----------------------------------------------------------------\n",
    "    'subsample' : 1,\n",
    "    #ratio of the training instance. Setting it to 0.5 means that XGBoost randomly collected half of the data \n",
    "    #instances to grow trees and this will prevent overfitting. default:1, range[0-1]\n",
    "    'colsample_bytree' : 1, #subsample ratio of columns when constructing each tree.default:1, range[0-1]\n",
    "    'colsample_bylevel' : 1, #subsample ratio of columns for each split, in each level. default:1, range[0-1]\n",
    "    \n",
    "    #-------------------------------------------------------------\n",
    "    # Tree parameters\n",
    "    #--------------------------------------------------\n",
    "    'min_child_weight': 4, # minimum sum of instance weight (hessian) needed in a child. \n",
    "    # the more conservative the algorithm will be. default:1, range[0-inf]\n",
    "    'max_depth' : 12,\n",
    "    # maximum depth of a tree, increase this value will make the model more complex / likely to be overfitting\n",
    "    # default : 6, range[0-inf]\n",
    "    \n",
    "    #-----------------------------------------------------------------------\n",
    "    # LOSS reduction\n",
    "    #------------------------------------------\n",
    "    'gamma':0, #minimum loss reduction required to make a further partition on a leaf node of the tree.\n",
    "    #The larger, the more conservative the algorithm will be. default : 0, range[0-inf]\n",
    "    'eta':0.3, #step size shrinkage used in update to prevents overfitting. default:0.3, range[0-1]\n",
    "    \n",
    "    #---------------------------------------------------------------------------------------------------\n",
    "    #Learning Task Parameters\n",
    "    #------------------------------------------------------------------------------\n",
    "    'objective': 'reg:logistic', # reg:linear, reg:logistic, binary:logistic, multi:softmax\n",
    "    'eval_metric' : 'logloss', # error for binary class., merror for multiclass classification,\n",
    "    # \"map\" Mean Average Precesion.\n",
    "    'random_seed' : 0,\n",
    "    'n_jobs' : 4\n",
    "}"
   ]
  },
  {
   "cell_type": "code",
   "execution_count": 18,
   "metadata": {},
   "outputs": [],
   "source": [
    "cv_params1 = {\n",
    "    'max_delta_step': range(0,3,2)\n",
    "}\n",
    "cv_params2 = {\n",
    "    'scale_pos_weight': range(1,10,2)\n",
    "}\n",
    "cv_params3 = {\n",
    "    'min_child_weight': range(3,10,2),\n",
    "    'max_depth' : range(3,10,2)\n",
    "}\n",
    "cv_params4 = {\n",
    "    'min_child_weight': [4,3],\n",
    "    'max_depth' : [10,11,12]\n",
    "}\n",
    "cv_params5 = {\n",
    "    'gamma': np.arange(0, 0.5, 0.1)\n",
    "}\n",
    "cv_params6 = {\n",
    "    'subsample': np.arange(0.1, 0.6, 0.1),\n",
    "    'colsample_bylevel': np.arange(0.1, 0.6, 0.1)\n",
    "}\n",
    "cv_params7 = {\n",
    " 'subsample':[.35,.4,.45],\n",
    " 'colsample_bylevel':[.35,.4,.45]\n",
    "}\n",
    "cv_params8 = {\n",
    " 'subsample':[.35,.4,.45],\n",
    " 'colsample_bylevel':[.35,.4,.45]\n",
    "}\n",
    "cv_params9 = {\n",
    " 'reg_alpha':[1e-5, 1e-2, 0.1, 1, 100],\n",
    " 'reg_lambda':[1e-5, 1e-2, 0.1, 1, 100]\n",
    "}\n"
   ]
  },
  {
   "cell_type": "code",
   "execution_count": 23,
   "metadata": {},
   "outputs": [],
   "source": [
    "model = XGBClassifier(**params)\n",
    "gsearch = GridSearchCV(model, param_grid = cv_params3, cv=2, verbose=50, scoring='f1' )\n"
   ]
  },
  {
   "cell_type": "code",
   "execution_count": 24,
   "metadata": {
    "scrolled": false
   },
   "outputs": [
    {
     "name": "stdout",
     "output_type": "stream",
     "text": [
      "Fitting 2 folds for each of 16 candidates, totalling 32 fits\n",
      "[CV] max_depth=3, min_child_weight=3 .................................\n",
      "[CV] .. max_depth=3, min_child_weight=3, score=0.500000, total=   0.1s\n",
      "[Parallel(n_jobs=1)]: Done   1 out of   1 | elapsed:    0.1s remaining:    0.0s\n",
      "[CV] max_depth=3, min_child_weight=3 .................................\n",
      "[CV] .. max_depth=3, min_child_weight=3, score=0.490566, total=   0.1s\n",
      "[Parallel(n_jobs=1)]: Done   2 out of   2 | elapsed:    0.2s remaining:    0.0s\n",
      "[CV] max_depth=3, min_child_weight=5 .................................\n",
      "[CV] .. max_depth=3, min_child_weight=5, score=0.576923, total=   0.1s\n",
      "[Parallel(n_jobs=1)]: Done   3 out of   3 | elapsed:    0.3s remaining:    0.0s\n",
      "[CV] max_depth=3, min_child_weight=5 .................................\n",
      "[CV] .. max_depth=3, min_child_weight=5, score=0.571429, total=   0.1s\n",
      "[Parallel(n_jobs=1)]: Done   4 out of   4 | elapsed:    0.4s remaining:    0.0s\n",
      "[CV] max_depth=3, min_child_weight=7 .................................\n"
     ]
    },
    {
     "name": "stderr",
     "output_type": "stream",
     "text": [
      "/usr/lib64/python2.7/site-packages/sklearn/metrics/classification.py:1113: UndefinedMetricWarning: F-score is ill-defined and being set to 0.0 due to no predicted samples.\n",
      "  'precision', 'predicted', average, warn_for)\n"
     ]
    },
    {
     "name": "stdout",
     "output_type": "stream",
     "text": [
      "[CV] .. max_depth=3, min_child_weight=7, score=0.000000, total=   0.1s\n",
      "[Parallel(n_jobs=1)]: Done   5 out of   5 | elapsed:    0.5s remaining:    0.0s\n",
      "[CV] max_depth=3, min_child_weight=7 .................................\n",
      "[CV] .. max_depth=3, min_child_weight=7, score=0.000000, total=   0.1s\n",
      "[Parallel(n_jobs=1)]: Done   6 out of   6 | elapsed:    0.5s remaining:    0.0s\n",
      "[CV] max_depth=3, min_child_weight=9 .................................\n",
      "[CV] .. max_depth=3, min_child_weight=9, score=0.000000, total=   0.1s\n",
      "[Parallel(n_jobs=1)]: Done   7 out of   7 | elapsed:    0.6s remaining:    0.0s\n",
      "[CV] max_depth=3, min_child_weight=9 .................................\n",
      "[CV] .. max_depth=3, min_child_weight=9, score=0.000000, total=   0.1s\n",
      "[Parallel(n_jobs=1)]: Done   8 out of   8 | elapsed:    0.7s remaining:    0.0s\n",
      "[CV] max_depth=5, min_child_weight=3 .................................\n",
      "[CV] .. max_depth=5, min_child_weight=3, score=0.500000, total=   0.1s\n",
      "[Parallel(n_jobs=1)]: Done   9 out of   9 | elapsed:    0.8s remaining:    0.0s\n",
      "[CV] max_depth=5, min_child_weight=3 .................................\n",
      "[CV] .. max_depth=5, min_child_weight=3, score=0.490566, total=   0.1s\n",
      "[Parallel(n_jobs=1)]: Done  10 out of  10 | elapsed:    0.9s remaining:    0.0s\n",
      "[CV] max_depth=5, min_child_weight=5 .................................\n",
      "[CV] .. max_depth=5, min_child_weight=5, score=0.576923, total=   0.1s\n",
      "[Parallel(n_jobs=1)]: Done  11 out of  11 | elapsed:    0.9s remaining:    0.0s\n",
      "[CV] max_depth=5, min_child_weight=5 .................................\n",
      "[CV] .. max_depth=5, min_child_weight=5, score=0.571429, total=   0.1s\n",
      "[Parallel(n_jobs=1)]: Done  12 out of  12 | elapsed:    1.0s remaining:    0.0s\n",
      "[CV] max_depth=5, min_child_weight=7 .................................\n",
      "[CV] .. max_depth=5, min_child_weight=7, score=0.000000, total=   0.0s\n",
      "[Parallel(n_jobs=1)]: Done  13 out of  13 | elapsed:    1.1s remaining:    0.0s\n",
      "[CV] max_depth=5, min_child_weight=7 .................................\n",
      "[CV] .. max_depth=5, min_child_weight=7, score=0.000000, total=   0.1s\n",
      "[Parallel(n_jobs=1)]: Done  14 out of  14 | elapsed:    1.2s remaining:    0.0s\n",
      "[CV] max_depth=5, min_child_weight=9 .................................\n",
      "[CV] .. max_depth=5, min_child_weight=9, score=0.000000, total=   0.2s\n",
      "[Parallel(n_jobs=1)]: Done  15 out of  15 | elapsed:    1.3s remaining:    0.0s\n",
      "[CV] max_depth=5, min_child_weight=9 .................................\n",
      "[CV] .. max_depth=5, min_child_weight=9, score=0.000000, total=   0.0s\n",
      "[Parallel(n_jobs=1)]: Done  16 out of  16 | elapsed:    1.4s remaining:    0.0s\n",
      "[CV] max_depth=7, min_child_weight=3 .................................\n",
      "[CV] .. max_depth=7, min_child_weight=3, score=0.500000, total=   0.1s\n",
      "[Parallel(n_jobs=1)]: Done  17 out of  17 | elapsed:    1.5s remaining:    0.0s\n",
      "[CV] max_depth=7, min_child_weight=3 .................................\n",
      "[CV] .. max_depth=7, min_child_weight=3, score=0.490566, total=   0.1s\n",
      "[Parallel(n_jobs=1)]: Done  18 out of  18 | elapsed:    1.6s remaining:    0.0s\n",
      "[CV] max_depth=7, min_child_weight=5 .................................\n",
      "[CV] .. max_depth=7, min_child_weight=5, score=0.576923, total=   0.1s\n",
      "[Parallel(n_jobs=1)]: Done  19 out of  19 | elapsed:    1.7s remaining:    0.0s\n",
      "[CV] max_depth=7, min_child_weight=5 .................................\n",
      "[CV] .. max_depth=7, min_child_weight=5, score=0.571429, total=   0.1s\n",
      "[Parallel(n_jobs=1)]: Done  20 out of  20 | elapsed:    1.8s remaining:    0.0s\n",
      "[CV] max_depth=7, min_child_weight=7 .................................\n",
      "[CV] .. max_depth=7, min_child_weight=7, score=0.000000, total=   0.1s\n",
      "[Parallel(n_jobs=1)]: Done  21 out of  21 | elapsed:    1.8s remaining:    0.0s\n",
      "[CV] max_depth=7, min_child_weight=7 .................................\n",
      "[CV] .. max_depth=7, min_child_weight=7, score=0.000000, total=   0.1s\n",
      "[Parallel(n_jobs=1)]: Done  22 out of  22 | elapsed:    1.9s remaining:    0.0s\n",
      "[CV] max_depth=7, min_child_weight=9 .................................\n",
      "[CV] .. max_depth=7, min_child_weight=9, score=0.000000, total=   0.1s\n",
      "[Parallel(n_jobs=1)]: Done  23 out of  23 | elapsed:    2.0s remaining:    0.0s\n",
      "[CV] max_depth=7, min_child_weight=9 .................................\n",
      "[CV] .. max_depth=7, min_child_weight=9, score=0.000000, total=   0.1s\n",
      "[Parallel(n_jobs=1)]: Done  24 out of  24 | elapsed:    2.1s remaining:    0.0s\n",
      "[CV] max_depth=9, min_child_weight=3 .................................\n",
      "[CV] .. max_depth=9, min_child_weight=3, score=0.500000, total=   0.1s\n",
      "[Parallel(n_jobs=1)]: Done  25 out of  25 | elapsed:    2.3s remaining:    0.0s\n",
      "[CV] max_depth=9, min_child_weight=3 .................................\n",
      "[CV] .. max_depth=9, min_child_weight=3, score=0.490566, total=   0.1s\n",
      "[Parallel(n_jobs=1)]: Done  26 out of  26 | elapsed:    2.4s remaining:    0.0s\n",
      "[CV] max_depth=9, min_child_weight=5 .................................\n",
      "[CV] .. max_depth=9, min_child_weight=5, score=0.576923, total=   0.1s\n",
      "[Parallel(n_jobs=1)]: Done  27 out of  27 | elapsed:    2.5s remaining:    0.0s\n",
      "[CV] max_depth=9, min_child_weight=5 .................................\n",
      "[CV] .. max_depth=9, min_child_weight=5, score=0.571429, total=   0.1s\n",
      "[Parallel(n_jobs=1)]: Done  28 out of  28 | elapsed:    2.6s remaining:    0.0s\n",
      "[CV] max_depth=9, min_child_weight=7 .................................\n",
      "[CV] .. max_depth=9, min_child_weight=7, score=0.000000, total=   0.0s\n",
      "[Parallel(n_jobs=1)]: Done  29 out of  29 | elapsed:    2.6s remaining:    0.0s\n",
      "[CV] max_depth=9, min_child_weight=7 .................................\n",
      "[CV] .. max_depth=9, min_child_weight=7, score=0.000000, total=   0.1s\n",
      "[Parallel(n_jobs=1)]: Done  30 out of  30 | elapsed:    2.7s remaining:    0.0s\n",
      "[CV] max_depth=9, min_child_weight=9 .................................\n",
      "[CV] .. max_depth=9, min_child_weight=9, score=0.000000, total=   0.0s\n",
      "[Parallel(n_jobs=1)]: Done  31 out of  31 | elapsed:    2.8s remaining:    0.0s\n",
      "[CV] max_depth=9, min_child_weight=9 .................................\n",
      "[CV] .. max_depth=9, min_child_weight=9, score=0.000000, total=   0.0s\n",
      "[Parallel(n_jobs=1)]: Done  32 out of  32 | elapsed:    2.8s remaining:    0.0s\n",
      "[Parallel(n_jobs=1)]: Done  32 out of  32 | elapsed:    2.8s finished\n"
     ]
    },
    {
     "data": {
      "text/plain": [
       "GridSearchCV(cv=2, error_score='raise',\n",
       "       estimator=XGBClassifier(alpha=0, base_score=0.5, booster='gbtree', colsample_bylevel=1,\n",
       "       colsample_bytree=1, eta=0.3, eval_metric='logloss', gamma=0,\n",
       "       lambda=1, learning_rate=0.1, max_delta_step=0, max_depth=12,\n",
       "       min_child_weight=4, missing=None, n_estimators=100, n_jobs=4,\n",
       "       nthread=None, objective='reg:logistic', random_seed=0,\n",
       "       random_state=0, reg_alpha=0, reg_lambda=1, scale_pos_weight=1,\n",
       "       seed=None, silent=True, subsample=1),\n",
       "       fit_params={}, iid=True, n_jobs=1,\n",
       "       param_grid={'max_depth': [3, 5, 7, 9], 'min_child_weight': [3, 5, 7, 9]},\n",
       "       pre_dispatch='2*n_jobs', refit=True, return_train_score=True,\n",
       "       scoring='f1', verbose=50)"
      ]
     },
     "execution_count": 24,
     "metadata": {},
     "output_type": "execute_result"
    },
    {
     "name": "stdout",
     "output_type": "stream",
     "text": [
      "{'max_depth': 3, 'min_child_weight': 5} \n",
      "0.574175824176\n"
     ]
    }
   ],
   "source": [
    "gsearch.fit(enc_train, target)\n",
    "print gsearch.best_params_,'\\n' ,gsearch.best_score_\n"
   ]
  },
  {
   "cell_type": "code",
   "execution_count": null,
   "metadata": {},
   "outputs": [],
   "source": [
    "n_jobs=4,pre_dispatch=4,"
   ]
  },
  {
   "cell_type": "code",
   "execution_count": null,
   "metadata": {},
   "outputs": [],
   "source": [
    "import sys\n",
    "#importlib.reload(GridSearchCV)"
   ]
  },
  {
   "cell_type": "code",
   "execution_count": null,
   "metadata": {},
   "outputs": [],
   "source": [
    "reload(sys.modules['sklearn.model_selection']).GridSearchCV"
   ]
  }
 ],
 "metadata": {
  "kernelspec": {
   "display_name": "Python 2",
   "language": "python",
   "name": "python2"
  },
  "language_info": {
   "codemirror_mode": {
    "name": "ipython",
    "version": 2
   },
   "file_extension": ".py",
   "mimetype": "text/x-python",
   "name": "python",
   "nbconvert_exporter": "python",
   "pygments_lexer": "ipython2",
   "version": "2.7.13"
  }
 },
 "nbformat": 4,
 "nbformat_minor": 2
}
