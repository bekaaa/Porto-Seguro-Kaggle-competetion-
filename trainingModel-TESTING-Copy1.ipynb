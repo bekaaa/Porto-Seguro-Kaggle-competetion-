{
 "cells": [
  {
   "cell_type": "code",
   "execution_count": 1,
   "metadata": {},
   "outputs": [],
   "source": [
    "import pandas as pd\n",
    "import numpy as np\n",
    "from sklearn.preprocessing import OneHotEncoder\n",
    "from sklearn.model_selection import train_test_split\n",
    "from sklearn.model_selection import GridSearchCV\n",
    "seed = 2\n",
    "from xgboost import XGBClassifier\n",
    "import pickle"
   ]
  },
  {
   "cell_type": "code",
   "execution_count": 2,
   "metadata": {},
   "outputs": [],
   "source": [
    "#train = pd.read_csv('./data/new_train.csv')\n",
    "train = pd.read_csv('./data/train_sample.csv')"
   ]
  },
  {
   "cell_type": "code",
   "execution_count": 3,
   "metadata": {},
   "outputs": [],
   "source": [
    "sample_size = int(1e4)\n",
    "try :\n",
    "    sample = train[train.target == 1].sample(n=sample_size/2, random_state=seed)\n",
    "    sample = sample.append( train[train.target == 0].sample(n=sample_size/2, random_state=seed))\n",
    "except ValueError :\n",
    "    sample = train[train.target == 1]\n",
    "    sample = sample.append( train[train.target == 0].sample(n=sample_size-21694, random_state=seed) )\n",
    "\n",
    "sample = sample.sample(frac=1, random_state=seed).reset_index(drop=True)\n",
    "#sample.to_csv('./data/train_sample.csv', index=False)\n",
    "train = sample"
   ]
  },
  {
   "cell_type": "code",
   "execution_count": 4,
   "metadata": {},
   "outputs": [],
   "source": [
    "target = train.target\n",
    "train.drop(['target','id'], inplace=True, axis=1)\n",
    "train.drop([ col for col in train.columns if col.startswith('ps_cont') ],axis=1, inplace=True)"
   ]
  },
  {
   "cell_type": "code",
   "execution_count": 5,
   "metadata": {},
   "outputs": [],
   "source": [
    "with open('./data/OneHotEncoder.clf', 'rb') as f:\n",
    "    encoders = pickle.load(f)"
   ]
  },
  {
   "cell_type": "code",
   "execution_count": 6,
   "metadata": {},
   "outputs": [],
   "source": [
    "enc_train = None\n",
    "\n",
    "for feature,encoder in zip(train.columns,encoders) :\n",
    "    encoded = encoder.transform(train[feature].values.reshape(-1,1))\n",
    "    if enc_train is None :\n",
    "        enc_train = encoded\n",
    "    else :\n",
    "        enc_train = np.concatenate((enc_train, encoded), axis=1)"
   ]
  },
  {
   "cell_type": "code",
   "execution_count": 7,
   "metadata": {},
   "outputs": [
    {
     "data": {
      "text/plain": [
       "(10000, 52)"
      ]
     },
     "execution_count": 7,
     "metadata": {},
     "output_type": "execute_result"
    }
   ],
   "source": [
    "train.shape"
   ]
  },
  {
   "cell_type": "code",
   "execution_count": 8,
   "metadata": {},
   "outputs": [],
   "source": [
    "#with open('./data/model.pkl','rb') as f :\n",
    "#    model = pickle.load(f)"
   ]
  },
  {
   "cell_type": "code",
   "execution_count": 9,
   "metadata": {},
   "outputs": [],
   "source": [
    "#with open('./data/model.pkl', 'wb') as f:\n",
    "#    pickle.dump(file=f, obj=model)"
   ]
  },
  {
   "cell_type": "code",
   "execution_count": null,
   "metadata": {},
   "outputs": [],
   "source": []
  },
  {
   "cell_type": "code",
   "execution_count": null,
   "metadata": {},
   "outputs": [],
   "source": []
  },
  {
   "cell_type": "code",
   "execution_count": 10,
   "metadata": {},
   "outputs": [],
   "source": [
    "#def split_data(X, Y, ratio=0.1):\n",
    "#    test_ids = np.random.randint(0, X.shape[0], int(X.shape[0] * ratio))\n",
    "#    x_test = X[test_ids]\n",
    "#    y_test = Y[test_ids]\n",
    "#    x_train = np.delete(X, test_ids, axis=0)\n",
    "#    y_train = Y.drop(test_ids)\n",
    "#    return x_train, x_test, y_train, y_test\n",
    "\n",
    "#x_train, x_test, y_train, y_test = split_data(enc_train, target, .1)"
   ]
  },
  {
   "cell_type": "code",
   "execution_count": 11,
   "metadata": {},
   "outputs": [],
   "source": [
    "#model.fit(x_train,y_train)"
   ]
  },
  {
   "cell_type": "code",
   "execution_count": null,
   "metadata": {},
   "outputs": [],
   "source": []
  },
  {
   "cell_type": "code",
   "execution_count": 12,
   "metadata": {},
   "outputs": [],
   "source": [
    "#model = XGBClassifier(**params)"
   ]
  },
  {
   "cell_type": "code",
   "execution_count": 13,
   "metadata": {},
   "outputs": [],
   "source": [
    "#model.fit(enc_train, target)"
   ]
  },
  {
   "cell_type": "code",
   "execution_count": null,
   "metadata": {},
   "outputs": [],
   "source": []
  },
  {
   "cell_type": "code",
   "execution_count": 14,
   "metadata": {},
   "outputs": [],
   "source": [
    "#from sklearn.metrics import classification_report\n",
    "#pred = model.predict(enc_train)\n",
    "#print classification_report(y_true=target, y_pred=pred)"
   ]
  },
  {
   "cell_type": "code",
   "execution_count": null,
   "metadata": {},
   "outputs": [],
   "source": []
  },
  {
   "cell_type": "code",
   "execution_count": null,
   "metadata": {},
   "outputs": [],
   "source": []
  },
  {
   "cell_type": "code",
   "execution_count": 15,
   "metadata": {},
   "outputs": [],
   "source": [
    "params = {\n",
    "\n",
    "    #-----------------------------------------------------------------------\n",
    "    # dealing with imblanced data\n",
    "    #-------------------------------------------------------------------------------\n",
    "    'max_delta_step':0,\n",
    "    #Maximum delta step we allow each tree's weight estimation to be. If the value is set to 0,\n",
    "    #it means there is no constraint. If it is set to a positive value, it can help making the update step more \n",
    "    #conservative. Usually this parameter is not needed, but it might help in logistic regression when class is\n",
    "    #extremely imbalanced. Set it to value of 1-10 might help control the update.\n",
    "    #default:0, range[0-inf]\n",
    "    'scale_pos_weight' : 1,  # control balance between +ve and -ve weights, default:1\n",
    "    \n",
    "    #--------------------------------------------------------------------------------------\n",
    "    #  Regularization\n",
    "    #-------------------------------------------------------------------------------\n",
    "    'alpha' : 0,\n",
    "    #L1 regularization term on weights, increase this value will make model more conservative, default:0\n",
    "    'lambda' : 1,\n",
    "    #L2 regularization term on weights, increase this value will make model more conservative, default1.\n",
    "    \n",
    "    #------------------------------------------------------\n",
    "    # add randomness to make training robust to noise\n",
    "    #----------------------------------------------------------------\n",
    "    'subsample' : 1,\n",
    "    #ratio of the training instance. Setting it to 0.5 means that XGBoost randomly collected half of the data \n",
    "    #instances to grow trees and this will prevent overfitting. default:1, range[0-1]\n",
    "    'colsample_bytree' : 1, #subsample ratio of columns when constructing each tree.default:1, range[0-1]\n",
    "    'colsample_bylevel' : 1, #subsample ratio of columns for each split, in each level. default:1, range[0-1]\n",
    "    \n",
    "    #-------------------------------------------------------------\n",
    "    # Tree parameters\n",
    "    #--------------------------------------------------\n",
    "    'min_child_weight': 4, # minimum sum of instance weight (hessian) needed in a child. \n",
    "    # the more conservative the algorithm will be. default:1, range[0-inf]\n",
    "    'max_depth' : 12,\n",
    "    # maximum depth of a tree, increase this value will make the model more complex / likely to be overfitting\n",
    "    # default : 6, range[0-inf]\n",
    "    \n",
    "    #-----------------------------------------------------------------------\n",
    "    # LOSS reduction\n",
    "    #------------------------------------------\n",
    "    'gamma':0, #minimum loss reduction required to make a further partition on a leaf node of the tree.\n",
    "    #The larger, the more conservative the algorithm will be. default : 0, range[0-inf]\n",
    "    'eta':0.3, #step size shrinkage used in update to prevents overfitting. default:0.3, range[0-1]\n",
    "    \n",
    "    #---------------------------------------------------------------------------------------------------\n",
    "    #Learning Task Parameters\n",
    "    #------------------------------------------------------------------------------\n",
    "    'objective': 'reg:logistic', # reg:linear, reg:logistic, binary:logistic, multi:softmax\n",
    "    'eval_metric' : 'logloss', # error for binary class., merror for multiclass classification,\n",
    "    # \"map\" Mean Average Precesion.\n",
    "    'random_seed' : 0,\n",
    "    'n_jobs' : 4\n",
    "}"
   ]
  },
  {
   "cell_type": "code",
   "execution_count": 16,
   "metadata": {},
   "outputs": [],
   "source": [
    "cv_params1 = {\n",
    "    'max_delta_step': range(0,10,2)\n",
    "}\n",
    "cv_params2 = {\n",
    "    'scale_pos_weight': range(1,10,2)\n",
    "}\n",
    "cv_params3 = {\n",
    "    'min_child_weight': range(3,10,2),\n",
    "    'max_depth' : range(3,10,2)\n",
    "}\n",
    "cv_params4 = {\n",
    "    'min_child_weight': [4,3],\n",
    "    'max_depth' : [10,11,12]\n",
    "}\n",
    "cv_params5 = {\n",
    "    'gamma': np.arange(0, 0.5, 0.1)\n",
    "}\n",
    "cv_params6 = {\n",
    "    'subsample': np.arange(0.1, 0.6, 0.1),\n",
    "    'colsample_bylevel': np.arange(0.1, 0.6, 0.1)\n",
    "}\n",
    "cv_params7 = {\n",
    " 'subsample':[.35,.4,.45],\n",
    " 'colsample_bylevel':[.35,.4,.45]\n",
    "}\n",
    "cv_params8 = {\n",
    " 'subsample':[.35,.4,.45],\n",
    " 'colsample_bylevel':[.35,.4,.45]\n",
    "}\n",
    "cv_params9 = {\n",
    " 'reg_alpha':[1e-5, 1e-2, 0.1, 1, 100],\n",
    " 'reg_lambda':[1e-5, 1e-2, 0.1, 1, 100]\n",
    "}\n"
   ]
  },
  {
   "cell_type": "code",
   "execution_count": 17,
   "metadata": {},
   "outputs": [],
   "source": [
    "model = XGBClassifier(**params)"
   ]
  },
  {
   "cell_type": "code",
   "execution_count": 18,
   "metadata": {
    "scrolled": false
   },
   "outputs": [
    {
     "name": "stdout",
     "output_type": "stream",
     "text": [
      "Fitting 2 folds for each of 6 candidates, totalling 12 fits\n",
      "[CV] max_depth=10, min_child_weight=4 ................................\n",
      "[CV] max_depth=10, min_child_weight=4 ................................\n",
      "[CV] max_depth=10, min_child_weight=3 ................................\n",
      "[CV] max_depth=10, min_child_weight=3 ................................\n",
      "[CV] . max_depth=10, min_child_weight=4, score=0.551484, total= 2.8min\n",
      "[Parallel(n_jobs=4)]: Done   1 tasks      | elapsed:  2.8min\n",
      "[CV] max_depth=11, min_child_weight=4 ................................\n",
      "[CV] . max_depth=10, min_child_weight=4, score=0.544115, total= 2.8min\n",
      "[CV] max_depth=11, min_child_weight=4 ................................\n",
      "[Parallel(n_jobs=4)]: Done   2 tasks      | elapsed:  2.8min\n",
      "[CV] . max_depth=10, min_child_weight=3, score=0.551809, total= 3.0min\n",
      "[CV] max_depth=11, min_child_weight=3 ................................\n",
      "[Parallel(n_jobs=4)]: Done   3 tasks      | elapsed:  3.0min\n",
      "[CV] . max_depth=10, min_child_weight=3, score=0.554335, total= 3.1min\n",
      "[CV] max_depth=11, min_child_weight=3 ................................\n",
      "[Parallel(n_jobs=4)]: Done   4 tasks      | elapsed:  3.1min\n",
      "[CV] . max_depth=11, min_child_weight=4, score=0.547197, total= 3.0min\n",
      "[CV] max_depth=12, min_child_weight=4 ................................\n",
      "[Parallel(n_jobs=4)]: Done   5 tasks      | elapsed:  5.8min\n",
      "[CV] . max_depth=11, min_child_weight=4, score=0.539493, total= 3.0min\n",
      "[CV] max_depth=12, min_child_weight=4 ................................\n",
      "[Parallel(n_jobs=4)]: Done   6 tasks      | elapsed:  5.8min\n",
      "[CV] . max_depth=11, min_child_weight=3, score=0.554046, total= 3.1min\n",
      "[CV] max_depth=12, min_child_weight=3 ................................\n",
      "[Parallel(n_jobs=4)]: Done   7 tasks      | elapsed:  6.2min\n",
      "[CV] . max_depth=11, min_child_weight=3, score=0.540640, total= 3.3min\n",
      "[CV] max_depth=12, min_child_weight=3 ................................\n",
      "[Parallel(n_jobs=4)]: Done   8 tasks      | elapsed:  6.4min\n",
      "[CV] . max_depth=12, min_child_weight=4, score=0.553406, total= 3.3min\n",
      "[Parallel(n_jobs=4)]: Done   9 tasks      | elapsed:  9.1min\n",
      "[CV] . max_depth=12, min_child_weight=4, score=0.555010, total= 3.3min\n",
      "[Parallel(n_jobs=4)]: Done  10 out of  12 | elapsed:  9.1min remaining:  1.8min\n",
      "[CV] . max_depth=12, min_child_weight=3, score=0.549828, total= 3.2min\n",
      "[CV] . max_depth=12, min_child_weight=3, score=0.549253, total= 3.0min\n",
      "[Parallel(n_jobs=4)]: Done  12 out of  12 | elapsed:  9.4min remaining:    0.0s\n",
      "[Parallel(n_jobs=4)]: Done  12 out of  12 | elapsed:  9.4min finished\n"
     ]
    },
    {
     "data": {
      "text/plain": [
       "GridSearchCV(cv=2, error_score='raise',\n",
       "       estimator=XGBClassifier(alpha=0, base_score=0.5, booster='gbtree', colsample_bylevel=1,\n",
       "       colsample_bytree=1, eta=0.3, eval_metric='logloss', gamma=0,\n",
       "       lambda=1, learning_rate=0.1, max_delta_step=0, max_depth=6,\n",
       "       min_child_weight=1, missing=None, n_estimators=100, n_jobs=4,\n",
       "       nthread=None, objective='reg:logistic', random_seed=0,\n",
       "       random_state=0, reg_alpha=0, reg_lambda=1, scale_pos_weight=1,\n",
       "       seed=None, silent=True, subsample=1),\n",
       "       fit_params={}, iid=True, n_jobs=4,\n",
       "       param_grid={'max_depth': [10, 11, 12], 'min_child_weight': [4, 3]},\n",
       "       pre_dispatch=4, refit=True, return_train_score=True, scoring='f1',\n",
       "       verbose=50)"
      ]
     },
     "execution_count": 18,
     "metadata": {},
     "output_type": "execute_result"
    },
    {
     "name": "stdout",
     "output_type": "stream",
     "text": [
      "{'max_depth': 12, 'min_child_weight': 4} \n",
      "0.554208054836\n"
     ]
    }
   ],
   "source": [
    "gsearch = GridSearchCV(model, param_grid = cv_params4,n_jobs=4,pre_dispatch=4, cv=2, verbose=50, scoring='f1' )\n",
    "gsearch.fit(enc_train, target)\n",
    "print gsearch.best_params_,'\\n' ,gsearch.best_score_\n"
   ]
  },
  {
   "cell_type": "code",
   "execution_count": 20,
   "metadata": {},
   "outputs": [
    {
     "data": {
      "text/plain": [
       "12"
      ]
     },
     "execution_count": 20,
     "metadata": {},
     "output_type": "execute_result"
    }
   ],
   "source": [
    "gsearch.best_params"
   ]
  }
 ],
 "metadata": {
  "kernelspec": {
   "display_name": "Python 2",
   "language": "python",
   "name": "python2"
  },
  "language_info": {
   "codemirror_mode": {
    "name": "ipython",
    "version": 2
   },
   "file_extension": ".py",
   "mimetype": "text/x-python",
   "name": "python",
   "nbconvert_exporter": "python",
   "pygments_lexer": "ipython2",
   "version": "2.7.13"
  }
 },
 "nbformat": 4,
 "nbformat_minor": 2
}
