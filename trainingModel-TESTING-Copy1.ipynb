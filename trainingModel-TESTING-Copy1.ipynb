{
 "cells": [
  {
   "cell_type": "code",
   "execution_count": 1,
   "metadata": {},
   "outputs": [],
   "source": [
    "import pandas as pd\n",
    "import numpy as np\n",
    "from sklearn.preprocessing import OneHotEncoder\n",
    "from sklearn.model_selection import train_test_split\n",
    "from sklearn.model_selection import GridSearchCV\n",
    "seed = 2\n",
    "from xgboost import XGBClassifier\n",
    "import pickle"
   ]
  },
  {
   "cell_type": "code",
   "execution_count": 2,
   "metadata": {},
   "outputs": [],
   "source": [
    "#train = pd.read_csv('./data/new_train.csv')\n",
    "train = pd.read_csv('./data/train_sample.csv')"
   ]
  },
  {
   "cell_type": "code",
   "execution_count": 3,
   "metadata": {},
   "outputs": [],
   "source": [
    "sample_size = int(1e4)\n",
    "try :\n",
    "    sample = train[train.target == 1].sample(n=sample_size/2, random_state=seed)\n",
    "    sample = sample.append( train[train.target == 0].sample(n=sample_size/2, random_state=seed))\n",
    "except ValueError :\n",
    "    sample = train[train.target == 1]\n",
    "    sample = sample.append( train[train.target == 0].sample(n=sample_size-21694, random_state=seed) )\n",
    "\n",
    "sample = sample.sample(frac=1, random_state=seed).reset_index(drop=True)\n",
    "#sample.to_csv('./data/train_sample.csv', index=False)\n",
    "train = sample"
   ]
  },
  {
   "cell_type": "code",
   "execution_count": 4,
   "metadata": {},
   "outputs": [],
   "source": [
    "target = train.target\n",
    "train.drop(['target','id'], inplace=True, axis=1)\n",
    "train.drop([ col for col in train.columns if col.startswith('ps_cont') ],axis=1, inplace=True)"
   ]
  },
  {
   "cell_type": "code",
   "execution_count": 5,
   "metadata": {},
   "outputs": [],
   "source": [
    "with open('./data/OneHotEncoder.clf', 'rb') as f:\n",
    "    encoders = pickle.load(f)"
   ]
  },
  {
   "cell_type": "code",
   "execution_count": 6,
   "metadata": {},
   "outputs": [],
   "source": [
    "enc_train = None\n",
    "\n",
    "for feature,encoder in zip(train.columns,encoders) :\n",
    "    encoded = encoder.transform(train[feature].values.reshape(-1,1))\n",
    "    if enc_train is None :\n",
    "        enc_train = encoded\n",
    "    else :\n",
    "        enc_train = np.concatenate((enc_train, encoded), axis=1)"
   ]
  },
  {
   "cell_type": "code",
   "execution_count": null,
   "metadata": {},
   "outputs": [],
   "source": [
    "train = sample\n",
    "#del train\n",
    "#del enc_train"
   ]
  },
  {
   "cell_type": "code",
   "execution_count": null,
   "metadata": {},
   "outputs": [],
   "source": [
    "with open('./data/model.pkl','rb') as f :\n",
    "    model = pickle.load(f)"
   ]
  },
  {
   "cell_type": "code",
   "execution_count": 13,
   "metadata": {},
   "outputs": [],
   "source": [
    "pred = model.predict(x_test)"
   ]
  },
  {
   "cell_type": "code",
   "execution_count": 14,
   "metadata": {},
   "outputs": [],
   "source": []
  },
  {
   "cell_type": "code",
   "execution_count": 15,
   "metadata": {},
   "outputs": [
    {
     "name": "stdout",
     "output_type": "stream",
     "text": [
      "             precision    recall  f1-score   support\n",
      "\n",
      "          0       0.57      0.63      0.60       511\n",
      "          1       0.57      0.51      0.54       489\n",
      "\n",
      "avg / total       0.57      0.57      0.57      1000\n",
      "\n"
     ]
    }
   ],
   "source": [
    "from sklearn.metrics import classification_report\n",
    "print classification_report(y_true=y_test, y_pred=pred)"
   ]
  },
  {
   "cell_type": "code",
   "execution_count": 10,
   "metadata": {},
   "outputs": [],
   "source": [
    "def split_data(X, Y, ratio=0.1):\n",
    "    test_ids = np.random.randint(0, X.shape[0], int(X.shape[0] * ratio))\n",
    "    x_test = X[test_ids]\n",
    "    y_test = Y[test_ids]\n",
    "    x_train = np.delete(X, test_ids, axis=0)\n",
    "    y_train = Y.drop(test_ids)\n",
    "    return x_train, x_test, y_train, y_test\n",
    "\n",
    "x_train, x_test, y_train, y_test = split_data(enc_train, target, .1)"
   ]
  },
  {
   "cell_type": "code",
   "execution_count": 12,
   "metadata": {},
   "outputs": [
    {
     "data": {
      "text/plain": [
       "XGBClassifier(base_score=0.5, booster='gbtree', colsample_bylevel=1,\n",
       "       colsample_bytree=0.4, eval_metric='error', gamma=0,\n",
       "       learning_rate=0.2, max_delta_step=0, max_depth=1,\n",
       "       min_child_weight=7, missing=None, n_estimators=100, n_jobs=4,\n",
       "       nthread=None, objective='binary:logistic', random_state=2,\n",
       "       reg_alpha=0, reg_lambda=1, scale_pos_weight=1, seed=None,\n",
       "       silent=True, subsample=0.4)"
      ]
     },
     "execution_count": 12,
     "metadata": {},
     "output_type": "execute_result"
    }
   ],
   "source": [
    "model.fit(x_train,y_train)"
   ]
  },
  {
   "cell_type": "code",
   "execution_count": 9,
   "metadata": {},
   "outputs": [],
   "source": [
    "model = XGBClassifier(\n",
    "\tobjective = 'binary:logistic',\n",
    "\tn_jobs = 4,\n",
    "\trandom_state = seed,\n",
    "\teval_metric = \"error\",\n",
    "\t#-------\n",
    "\tmax_depth = 1,\n",
    "\tmin_child_weight = 7,\n",
    "\t#----------\n",
    "\tgamma = 0,\n",
    "\t#----------\n",
    "\tsubsample = 0.4,\n",
    "\tcolsample_bytree = 0.4,\n",
    "\t#------------\n",
    "\tscale_pos_weight = 1,\n",
    "\t#-----------\n",
    "\treg_alpha = 0,\n",
    "\treg_lambda = 1,\n",
    "\t#------------\n",
    "\tlearning_rate = 0.2\n",
    "\n",
    "\t#n_estimators = 1000,\n",
    "\t)"
   ]
  },
  {
   "cell_type": "code",
   "execution_count": null,
   "metadata": {},
   "outputs": [],
   "source": [
    "with open('./data/model.pkl', 'wb') as f:\n",
    "    pickle.dump(file=f, obj=model)"
   ]
  },
  {
   "cell_type": "code",
   "execution_count": null,
   "metadata": {},
   "outputs": [],
   "source": []
  },
  {
   "cell_type": "code",
   "execution_count": null,
   "metadata": {},
   "outputs": [],
   "source": []
  },
  {
   "cell_type": "code",
   "execution_count": null,
   "metadata": {},
   "outputs": [],
   "source": []
  },
  {
   "cell_type": "code",
   "execution_count": 2,
   "metadata": {},
   "outputs": [
    {
     "ename": "SyntaxError",
     "evalue": "invalid syntax (<ipython-input-2-b8f2eead6bb3>, line 30)",
     "output_type": "error",
     "traceback": [
      "\u001b[0;36m  File \u001b[0;32m\"<ipython-input-2-b8f2eead6bb3>\"\u001b[0;36m, line \u001b[0;32m30\u001b[0m\n\u001b[0;31m    '''# minimum sum of instance weight (hessian) needed in a child. default:1, range[0-inf]\u001b[0m\n\u001b[0m                    ^\u001b[0m\n\u001b[0;31mSyntaxError\u001b[0m\u001b[0;31m:\u001b[0m invalid syntax\n"
     ]
    }
   ],
   "source": [
    "params = {\n",
    "    \n",
    "    #-----------------------------------------------------------------------\n",
    "    # dealing with imblanced data\n",
    "    #-------------------------------------------------------------------------------\n",
    "    'max_delta_step':0,\n",
    "    #Maximum delta step we allow each tree's weight estimation to be. If the value is set to 0,\n",
    "    #it means there is no constraint. If it is set to a positive value, it can help making the update step more \n",
    "    #conservative. Usually this parameter is not needed, but it might help in logistic regression when class is\n",
    "    #extremely imbalanced. Set it to value of 1-10 might help control the update.\n",
    "    #default:0, range[0-inf]\n",
    "    'scale_pos_weight' : 1,  # control balance between +ve and -ve weights, default:1\n",
    "    \n",
    "    #--------------------------------------------------------------------------------------\n",
    "    #  Regularization\n",
    "    #-------------------------------------------------------------------------------\n",
    "    'alpha' : 0,\n",
    "    #L1 regularization term on weights, increase this value will make model more conservative, default:0\n",
    "    'lambda' : 1,\n",
    "    #L2 regularization term on weights, increase this value will make model more conservative, default1.\n",
    "    \n",
    "    #------------------------------------------------------\n",
    "    # add randomness to make training robust to noise\n",
    "    #----------------------------------------------------------------\n",
    "    'subsample' : 1,\n",
    "    #ratio of the training instance. Setting it to 0.5 means that XGBoost randomly collected half of the data \n",
    "    #instances to grow trees and this will prevent overfitting. default:1, range[0-1]\n",
    "    'colsample_bytree' : 1, #subsample ratio of columns when constructing each tree.default:1, range[0-1]\n",
    "    'colsample_bylevel' : 1, #subsample ratio of columns for each split, in each level. default:1, range[0-1]\n",
    "    \n",
    "    #-------------------------------------------------------------\n",
    "    # Tree parameters\n",
    "    #--------------------------------------------------\n",
    "    'min_child_weight': 1, # minimum sum of instance weight (hessian) needed in a child. \n",
    "    # the more conservative the algorithm will be. default:1, range[0-inf]\n",
    "    'max_depth' : 6,\n",
    "    # maximum depth of a tree, increase this value will make the model more complex / likely to be overfitting\n",
    "    # default : 6, range[0-inf]\n",
    "    \n",
    "    #-----------------------------------------------------------------------\n",
    "    # LOSS reduction\n",
    "    #------------------------------------------\n",
    "    'gamma':0, #minimum loss reduction required to make a further partition on a leaf node of the tree.\n",
    "    #The larger, the more conservative the algorithm will be. default : 0, range[0-inf]\n",
    "    'eta':0.3, #step size shrinkage used in update to prevents overfitting. default:0.3, range[0-1]\n",
    "    \n",
    "    #---------------------------------------------------------------------------------------------------\n",
    "    #Learning Task Parameters\n",
    "    #------------------------------------------------------------------------------\n",
    "    'objective': 'reg:linear', # reg:logistic, binary:logistic, multi:softmax\n",
    "    'eval_metric' : 'error', # error for binary class., merror for multiclass classification.\n",
    "    'seed' : 0\n",
    "}"
   ]
  },
  {
   "cell_type": "code",
   "execution_count": null,
   "metadata": {},
   "outputs": [],
   "source": []
  },
  {
   "cell_type": "code",
   "execution_count": null,
   "metadata": {},
   "outputs": [],
   "source": []
  },
  {
   "cell_type": "code",
   "execution_count": null,
   "metadata": {},
   "outputs": [],
   "source": []
  },
  {
   "cell_type": "code",
   "execution_count": null,
   "metadata": {},
   "outputs": [],
   "source": []
  }
 ],
 "metadata": {
  "kernelspec": {
   "display_name": "Python 2",
   "language": "python",
   "name": "python2"
  },
  "language_info": {
   "codemirror_mode": {
    "name": "ipython",
    "version": 2
   },
   "file_extension": ".py",
   "mimetype": "text/x-python",
   "name": "python",
   "nbconvert_exporter": "python",
   "pygments_lexer": "ipython2",
   "version": "2.7.13"
  }
 },
 "nbformat": 4,
 "nbformat_minor": 2
}
