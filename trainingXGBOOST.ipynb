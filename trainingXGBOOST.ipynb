{
 "cells": [
  {
   "cell_type": "code",
   "execution_count": 1,
   "metadata": {},
   "outputs": [],
   "source": [
    "import pandas as pd\n",
    "import numpy as np\n",
    "from sklearn.preprocessing import OneHotEncoder\n",
    "from sklearn.model_selection import train_test_split\n",
    "seed = 2\n",
    "from xgboost import XGBClassifier\n",
    "import pickle"
   ]
  },
  {
   "cell_type": "code",
   "execution_count": 2,
   "metadata": {},
   "outputs": [],
   "source": [
    "train = pd.read_csv('./data/new_train.csv')"
   ]
  },
  {
   "cell_type": "code",
   "execution_count": null,
   "metadata": {},
   "outputs": [],
   "source": [
    "sample_size = int(1e4)\n",
    "sample = train[train.target == 1].sample(n=sample_size/2, random_state=seed)\n",
    "sample = sample.append( train[train.target == 0].sample(n=sample_size/2, random_state=seed))\n",
    "sample = sample.sample(frac=1, random_state=seed).reset_index(drop=True)\n",
    "#sample.to_csv('./data/train_sample.csv', index=False)"
   ]
  },
  {
   "cell_type": "code",
   "execution_count": 3,
   "metadata": {},
   "outputs": [],
   "source": [
    "target = train.target\n",
    "train.drop(['target','id'], inplace=True, axis=1)\n",
    "train.drop([ col for col in train.columns if col.startswith('ps_cont') ],axis=1, inplace=True)"
   ]
  },
  {
   "cell_type": "code",
   "execution_count": null,
   "metadata": {},
   "outputs": [],
   "source": []
  },
  {
   "cell_type": "code",
   "execution_count": null,
   "metadata": {},
   "outputs": [],
   "source": []
  },
  {
   "cell_type": "code",
   "execution_count": 4,
   "metadata": {},
   "outputs": [],
   "source": [
    "with open('./data/OneHotEncoder.clf', 'rb') as f:\n",
    "    encoders = pickle.load(f)"
   ]
  },
  {
   "cell_type": "code",
   "execution_count": 6,
   "metadata": {},
   "outputs": [],
   "source": [
    "enc_train = None\n",
    "\n",
    "for feature,encoder in zip(train.columns,encoders) :\n",
    "    encoded = encoder.transform(train[feature].values.reshape(-1,1))\n",
    "    if enc_train is None :\n",
    "        enc_train = encoded\n",
    "    else :\n",
    "        enc_train = np.concatenate((enc_train, encoded), axis=1)"
   ]
  },
  {
   "cell_type": "code",
   "execution_count": null,
   "metadata": {},
   "outputs": [],
   "source": [
    "del train"
   ]
  },
  {
   "cell_type": "code",
   "execution_count": null,
   "metadata": {},
   "outputs": [],
   "source": [
    "x_train, x_test, y_train, y_test = train_test_split(enc_train, target, test_size=.2, random_state=seed)"
   ]
  },
  {
   "cell_type": "code",
   "execution_count": 7,
   "metadata": {},
   "outputs": [],
   "source": [
    "model = XGBClassifier(\n",
    "\tobjective = 'binary:logistic',\n",
    "\tn_jobs = 4,\n",
    "\trandom_state = seed,\n",
    "\teval_metric = \"error\",\n",
    "\t#-------\n",
    "\tmax_depth = 1,\n",
    "\tmin_child_weight = 2,\n",
    "\t#----------\n",
    "\tgamma = 0,\n",
    "\t#----------\n",
    "\tsubsample = 0.1,\n",
    "\tcolsample_bytree = 0.1,\n",
    "\t#------------\n",
    "\tscale_pos_weight = 1,\n",
    "\t#-----------\n",
    "\treg_alpha = 0,\n",
    "\treg_lambda = 0,\n",
    "\t#------------\n",
    "\tlearning_rate = 0.1,\n",
    "\n",
    "\t#n_estimators = 1000,\n",
    "\t)"
   ]
  },
  {
   "cell_type": "code",
   "execution_count": 8,
   "metadata": {},
   "outputs": [
    {
     "data": {
      "text/plain": [
       "XGBClassifier(base_score=0.5, booster='gbtree', colsample_bylevel=1,\n",
       "       colsample_bytree=0.1, eval_metric='error', gamma=0,\n",
       "       learning_rate=0.1, max_delta_step=0, max_depth=1,\n",
       "       min_child_weight=2, missing=None, n_estimators=100, n_jobs=4,\n",
       "       nthread=None, objective='binary:logistic', random_state=2,\n",
       "       reg_alpha=0, reg_lambda=0, scale_pos_weight=1, seed=None,\n",
       "       silent=True, subsample=0.1)"
      ]
     },
     "execution_count": 8,
     "metadata": {},
     "output_type": "execute_result"
    }
   ],
   "source": [
    "model.fit(enc_train, target)"
   ]
  },
  {
   "cell_type": "code",
   "execution_count": 9,
   "metadata": {},
   "outputs": [],
   "source": [
    "with open('./data/model.pkl', 'wb') as f:\n",
    "    pickle.dump(file=f, obj=model)"
   ]
  },
  {
   "cell_type": "code",
   "execution_count": 11,
   "metadata": {},
   "outputs": [
    {
     "data": {
      "text/plain": [
       "(595212, 385)"
      ]
     },
     "execution_count": 11,
     "metadata": {},
     "output_type": "execute_result"
    }
   ],
   "source": [
    "enc_train.shape"
   ]
  },
  {
   "cell_type": "code",
   "execution_count": null,
   "metadata": {},
   "outputs": [],
   "source": [
    "encoder.fit_transform(train.ps_cat_ind_02.values.reshape(-1,1))"
   ]
  },
  {
   "cell_type": "code",
   "execution_count": null,
   "metadata": {},
   "outputs": [],
   "source": [
    "train.ps_cat_ind_02.value_counts()"
   ]
  },
  {
   "cell_type": "code",
   "execution_count": 10,
   "metadata": {},
   "outputs": [
    {
     "data": {
      "text/plain": [
       "(595212, 52)"
      ]
     },
     "execution_count": 10,
     "metadata": {},
     "output_type": "execute_result"
    }
   ],
   "source": [
    "train.shape\n"
   ]
  }
 ],
 "metadata": {
  "kernelspec": {
   "display_name": "Python 2",
   "language": "python",
   "name": "python2"
  },
  "language_info": {
   "codemirror_mode": {
    "name": "ipython",
    "version": 2
   },
   "file_extension": ".py",
   "mimetype": "text/x-python",
   "name": "python",
   "nbconvert_exporter": "python",
   "pygments_lexer": "ipython2",
   "version": "2.7.13"
  }
 },
 "nbformat": 4,
 "nbformat_minor": 2
}
