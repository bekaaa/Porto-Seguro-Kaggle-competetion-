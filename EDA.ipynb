{
 "cells": [
  {
   "cell_type": "code",
   "execution_count": 1,
   "metadata": {},
   "outputs": [],
   "source": [
    "import numpy as np\n",
    "import pandas as pd\n",
    "import matplotlib.pyplot as plt\n",
    "%matplotlib inline\n",
    "import seaborn as sns"
   ]
  },
  {
   "cell_type": "code",
   "execution_count": 2,
   "metadata": {},
   "outputs": [
    {
     "name": "stdout",
     "output_type": "stream",
     "text": [
      "Train:\t (595212, 59)\n",
      "Test:\t (892816, 58)\n"
     ]
    }
   ],
   "source": [
    "train = pd.read_csv('./data/train.csv')\n",
    "test = pd.read_csv('./data/test.csv')\n",
    "print('Train:\\t',train.shape)\n",
    "print('Test:\\t', test.shape)"
   ]
  },
  {
   "cell_type": "code",
   "execution_count": 3,
   "metadata": {},
   "outputs": [
    {
     "name": "stderr",
     "output_type": "stream",
     "text": [
      "/home/beka/.local/lib/python3.6/site-packages/ipykernel_launcher.py:4: FutureWarning: The signature of `Series.to_csv` was aligned to that of `DataFrame.to_csv`, and argument 'header' will change its default value from False to True: please pass an explicit value to suppress this warning.\n",
      "  after removing the cwd from sys.path.\n"
     ]
    },
    {
     "name": "stdout",
     "output_type": "stream",
     "text": [
      "Train:\t (595212, 57)\n",
      "Test:\t (892816, 57)\n"
     ]
    }
   ],
   "source": [
    "target = train.target\n",
    "train.drop(['target','id'], axis=1, inplace=True)\n",
    "test.drop(['id'], axis=1, inplace=True)\n",
    "target.to_csv('./data/target', index=False)\n",
    "print('Train:\\t',train.shape)\n",
    "print('Test:\\t', test.shape)"
   ]
  },
  {
   "cell_type": "code",
   "execution_count": 6,
   "metadata": {},
   "outputs": [
    {
     "name": "stdout",
     "output_type": "stream",
     "text": [
      "Data:\t (1488028, 57)\n"
     ]
    }
   ],
   "source": [
    "data = pd.concat((train, test))\n",
    "print('Data:\\t', data.shape)"
   ]
  },
  {
   "cell_type": "code",
   "execution_count": 7,
   "metadata": {},
   "outputs": [
    {
     "name": "stdout",
     "output_type": "stream",
     "text": [
      "\n",
      "____________________\n",
      "\n",
      "number of features by feature type :\n",
      "____________________\n",
      "\n",
      "ind \t:\t 18\n",
      "car \t:\t 16\n",
      "calc \t:\t 20\n",
      "reg \t:\t 3\n",
      "\n",
      "____________________\n",
      "\n",
      "number of features by data type :\n",
      "____________________\n",
      "\n",
      "cat \t:\t 14\n",
      "bin \t:\t 17\n",
      "cont \t:\t 26\n"
     ]
    }
   ],
   "source": [
    "# column's feature-name and data-type are included in the column's title, example: ps_ind_04_cat.\n",
    "# avaiable data-types are categorical, binary, and continuous.\n",
    "# Some of the titles don't have datatype specified, example: 'ps_calc_14' but I'll count them as categorical.\\\n",
    "\n",
    "\n",
    "features = { 'ind' : [], 'car' :[], 'calc':[], 'reg':[] }\n",
    "datatypes = { 'cat':[], 'bin':[], 'cont':[] }\n",
    "import re\n",
    "for i in data.columns :\n",
    "    for j in features.keys() :\n",
    "        if j in i : features[j].append(i)\n",
    "    for j in datatypes.keys() :\n",
    "        if j in i : datatypes[j].append(i)\n",
    "    \n",
    "    if re.match(re.compile('^ps_[a-z]+_[0-9]+$'), i) :\n",
    "        datatypes['cont'].append(i)\n",
    "#---------------------------------------------------------\n",
    "print (\"\\n____________________\\n\")\n",
    "print (\"number of features by feature type :\\n____________________\\n\")\n",
    "for i,j in features.items() :\n",
    "    print( i, \"\\t:\\t\",len(j))\n",
    "print( \"\\n____________________\\n\")\n",
    "print( \"number of features by data type :\\n____________________\\n\")\n",
    "\n",
    "for i,j in datatypes.items() :\n",
    "    print( i, \"\\t:\\t\",len(j))"
   ]
  },
  {
   "cell_type": "code",
   "execution_count": 8,
   "metadata": {},
   "outputs": [
    {
     "name": "stdout",
     "output_type": "stream",
     "text": [
      "NaN values percentage if above 30% by featues : \n",
      "________________\n",
      "ind  >>\n",
      "-------\n",
      "car  >>\n",
      "-------\n",
      "calc  >>\n",
      "-------\n",
      "reg  >>\n",
      "-------\n",
      "nNaN values percentage if above 30% by data types : \n",
      "________________\n",
      "cat  >>\n",
      "-------\n",
      "bin  >>\n",
      "-------\n",
      "cont  >>\n",
      "-------\n"
     ]
    }
   ],
   "source": [
    "\n",
    "def printNull(col,names):\n",
    "    global count\n",
    "    try :\n",
    "        p =  round(float(col.isnull().sum()) / data.shape[0] * 100.0,2)\n",
    "        if p >= 30 : print (\"\\t\" ,names[count],' > ',p,\"%\")\n",
    "    except:\n",
    "        pass;\n",
    "    count+=1\n",
    "\n",
    "#------------------------------------------------\n",
    "print (\"NaN values percentage if above 30% by featues : \\n________________\")\n",
    "for i,j in features.items():\n",
    "    print (i,' >>')\n",
    "    count = 0\n",
    "    _ = data[j].apply(printNull, args=[j])\n",
    "    print (\"-------\")\n",
    "#-------------------------\n",
    "print (\"nNaN values percentage if above 30% by data types : \\n________________\")\n",
    "for i,j in datatypes.items():\n",
    "    print (i,' >>')\n",
    "    count = 0;\n",
    "    _ = data[j].apply(printNull, args = [j])\n",
    "    print (\"-------\")\n",
    "\n",
    "    \n",
    "    \n",
    "    \n",
    "#_ = train[datatypes['cat']].apply(printNull, axis=0)"
   ]
  },
  {
   "cell_type": "code",
   "execution_count": 9,
   "metadata": {},
   "outputs": [
    {
     "name": "stdout",
     "output_type": "stream",
     "text": [
      "Important Correlations\n"
     ]
    }
   ],
   "source": [
    "# getting correlations while dropping all na\n",
    "print (\"Important Correlations\")\n",
    "corrT = data.corr()\n",
    "corrT[corrT == 1] = 0\n",
    "corrT = corrT[corrT.abs() >= 0.5].dropna(how='all').dropna(how='all',axis=1)\n",
    "#sns.heatmap(corrT[corrT.abs() >= 0.7].dropna(how='all').dropna(how='all',axis=1))\n"
   ]
  },
  {
   "cell_type": "code",
   "execution_count": 10,
   "metadata": {},
   "outputs": [
    {
     "name": "stdout",
     "output_type": "stream",
     "text": [
      "ps_ind_11_bin \t&\t  ps_ind_14 \t=\t 0.5628001013861134\n",
      "ps_ind_12_bin \t&\t  ps_ind_14 \t=\t 0.8895876235043348\n",
      "ps_ind_16_bin \t&\t  ps_ind_17_bin \t=\t -0.5169182996351427\n",
      "ps_ind_16_bin \t&\t  ps_ind_18_bin \t=\t -0.5961732884195359\n",
      "ps_reg_01 \t&\t  ps_reg_03 \t=\t 0.6375737560124001\n",
      "ps_reg_02 \t&\t  ps_reg_03 \t=\t 0.5166058349359899\n",
      "ps_car_04_cat \t&\t  ps_car_12 \t=\t 0.570315955470469\n",
      "ps_car_04_cat \t&\t  ps_car_13 \t=\t 0.5956919111843783\n",
      "ps_car_12 \t&\t  ps_car_13 \t=\t 0.6726911212351823\n",
      "ps_car_13 \t&\t  ps_car_15 \t=\t 0.528718742952357\n"
     ]
    }
   ],
   "source": [
    "for i in range(corrT.shape[0]):\n",
    "    for j in range(i, corrT.shape[0]):\n",
    "        if not np.isnan(corrT.iloc[i,j]):\n",
    "            print(corrT.columns[i], '\\t&\\t ', corrT.columns[j],'\\t=\\t', corrT.iloc[i,j])"
   ]
  },
  {
   "cell_type": "markdown",
   "metadata": {},
   "source": [
    "------------------------"
   ]
  },
  {
   "cell_type": "code",
   "execution_count": 11,
   "metadata": {},
   "outputs": [],
   "source": [
    "data.to_csv('./data/data', index=False)"
   ]
  },
  {
   "cell_type": "code",
   "execution_count": null,
   "metadata": {},
   "outputs": [],
   "source": []
  },
  {
   "cell_type": "code",
   "execution_count": null,
   "metadata": {},
   "outputs": [],
   "source": []
  }
 ],
 "metadata": {
  "kernelspec": {
   "display_name": "Python 3",
   "language": "python",
   "name": "python3"
  },
  "language_info": {
   "codemirror_mode": {
    "name": "ipython",
    "version": 3
   },
   "file_extension": ".py",
   "mimetype": "text/x-python",
   "name": "python",
   "nbconvert_exporter": "python",
   "pygments_lexer": "ipython3",
   "version": "3.6.9"
  }
 },
 "nbformat": 4,
 "nbformat_minor": 2
}
