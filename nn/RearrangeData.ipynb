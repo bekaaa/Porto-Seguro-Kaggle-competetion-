{
 "cells": [
  {
   "cell_type": "markdown",
   "metadata": {},
   "source": [
    "# Convert data to arrays and encode categorical data "
   ]
  },
  {
   "cell_type": "code",
   "execution_count": 1,
   "metadata": {},
   "outputs": [],
   "source": [
    "import pandas as pd\n",
    "import numpy as np\n",
    "from sklearn.preprocessing import OneHotEncoder, StandardScaler"
   ]
  },
  {
   "cell_type": "code",
   "execution_count": 2,
   "metadata": {},
   "outputs": [],
   "source": [
    "train = pd.read_csv('../data/train.csv')#, na_values=-1)\n",
    "test = pd.read_csv('../data/test.csv')#, na_values=-1)"
   ]
  },
  {
   "cell_type": "code",
   "execution_count": 3,
   "metadata": {},
   "outputs": [],
   "source": [
    "#test = train.iloc[:10000].copy()"
   ]
  },
  {
   "cell_type": "code",
   "execution_count": 4,
   "metadata": {},
   "outputs": [],
   "source": [
    "cat = [ i for i in train.columns if \"cat\" in i ]\n",
    "train[cat] = train[cat].apply( lambda d: d.replace(-1, d.max()+1), axis=0 )\n",
    "test[cat] = test[cat].apply( lambda d: d.replace(-1, d.max()+1), axis=0 )\n",
    "\n",
    "test_ids = test['id']\n",
    "train.drop(['ps_car_11_cat','id'] ,axis=1,inplace=True)\n",
    "test.drop(['ps_car_11_cat','id'] ,axis=1,inplace=True)\n",
    "\n",
    "train = train.sample(frac=1).reset_index(drop=True)\n",
    "#test  = test.sample(frac=1).reset_index(drop=True)\n"
   ]
  },
  {
   "cell_type": "code",
   "execution_count": 5,
   "metadata": {},
   "outputs": [
    {
     "name": "stderr",
     "output_type": "stream",
     "text": [
      "/usr/lib64/python2.7/site-packages/sklearn/utils/validation.py:429: DataConversionWarning: Data with input dtype int64 was converted to float64 by StandardScaler.\n",
      "  warnings.warn(msg, _DataConversionWarning)\n"
     ]
    },
    {
     "name": "stdout",
     "output_type": "stream",
     "text": [
      "categorical column :\tps_ind_02_cat  -  5\n",
      "categorical column :\tps_ind_04_cat  -  3\n",
      "categorical column :\tps_ind_05_cat  -  8\n",
      "categorical column :\tps_car_01_cat  -  13\n",
      "categorical column :\tps_car_02_cat  -  3\n",
      "categorical column :\tps_car_03_cat  -  3\n",
      "categorical column :\tps_car_04_cat  -  10\n",
      "categorical column :\tps_car_05_cat  -  3\n",
      "categorical column :\tps_car_06_cat  -  18\n",
      "categorical column :\tps_car_07_cat  -  3\n",
      "categorical column :\tps_car_08_cat  -  2\n",
      "categorical column :\tps_car_09_cat  -  6\n",
      "categorical column :\tps_car_10_cat  -  3\n",
      "\n",
      "\n",
      "new train shape :  (595212, 124)\n",
      "\n",
      "\n",
      "new test shape :  (892816, 123)\n"
     ]
    }
   ],
   "source": [
    "encoder = OneHotEncoder(sparse=False)\n",
    "train_arr = train['target'].values.reshape(-1,1)\n",
    "test_arr = np.empty([test.shape[0],0])\n",
    "scaler = StandardScaler()\n",
    "\n",
    "for feature in train.columns[1:] :\n",
    "    \n",
    "    if \"cat\" in feature :\n",
    "        print \"categorical column :\\t\", feature, \" - \", train[feature].value_counts().shape[0]\n",
    "        \n",
    "        _ = encoder.fit(np.concatenate((train[feature].values,test[feature].values)).reshape(-1,1))\n",
    "        train_arr = np.append(train_arr, encoder.transform(train[feature].values.reshape(-1,1)), axis=1)\n",
    "        test_arr = np.append(test_arr, encoder.transform(test[feature].values.reshape(-1,1)), axis=1)\n",
    "    \n",
    "    elif \"bin\" in feature :\n",
    "        train_arr = np.append(train_arr, train[feature].values.reshape(-1,1), axis=1)\n",
    "        test_arr = np.append(test_arr, test[feature].values.reshape(-1,1), axis=1)\n",
    "    \n",
    "    else :\n",
    "        #_ = scaler.fit(train[feature].values.reshape(-1,1))\n",
    "        _ = scaler.fit(np.concatenate((train[feature].values,test[feature].values)).reshape(-1,1))\n",
    "        train_arr = np.append(train_arr, scaler.transform(train[feature].values.reshape(-1,1)), axis=1)\n",
    "        test_arr = np.append(test_arr, scaler.transform(test[feature].values.reshape(-1,1)), axis=1)\n",
    "        \n",
    "print \"\\n\\nnew train shape : \", train_arr.shape\n",
    "print \"\\n\\nnew test shape : \", test_arr.shape\n",
    "# the column [:,0] is for labels."
   ]
  },
  {
   "cell_type": "code",
   "execution_count": null,
   "metadata": {},
   "outputs": [],
   "source": [
    "    \n",
    "    "
   ]
  },
  {
   "cell_type": "code",
   "execution_count": null,
   "metadata": {},
   "outputs": [],
   "source": []
  },
  {
   "cell_type": "code",
   "execution_count": null,
   "metadata": {},
   "outputs": [],
   "source": []
  },
  {
   "cell_type": "code",
   "execution_count": null,
   "metadata": {},
   "outputs": [],
   "source": []
  },
  {
   "cell_type": "code",
   "execution_count": null,
   "metadata": {},
   "outputs": [],
   "source": []
  },
  {
   "cell_type": "code",
   "execution_count": 6,
   "metadata": {},
   "outputs": [],
   "source": [
    "# save to disk\n",
    "np.save('../nn/data/train_scaled.npy',train_arr)\n",
    "np.save('../nn/data/test_scaled.npy',test_arr)\n",
    "#np.save('../nn/data/test_ids.npy', test_ids)"
   ]
  },
  {
   "cell_type": "code",
   "execution_count": 7,
   "metadata": {},
   "outputs": [],
   "source": [
    "# save samples to disk\n",
    "np.save('../nn/data/train_scaled_sample.npy',train_arr[0:100000,:])\n",
    "np.save('../nn/data/test_scaled_sample.npy', test_arr[0:100000,:])"
   ]
  },
  {
   "cell_type": "code",
   "execution_count": 8,
   "metadata": {},
   "outputs": [
    {
     "data": {
      "text/plain": [
       "(595212, 124)"
      ]
     },
     "execution_count": 8,
     "metadata": {},
     "output_type": "execute_result"
    }
   ],
   "source": [
    "train_arr.shape"
   ]
  },
  {
   "cell_type": "code",
   "execution_count": null,
   "metadata": {},
   "outputs": [],
   "source": []
  },
  {
   "cell_type": "code",
   "execution_count": null,
   "metadata": {},
   "outputs": [],
   "source": []
  },
  {
   "cell_type": "code",
   "execution_count": null,
   "metadata": {},
   "outputs": [],
   "source": []
  },
  {
   "cell_type": "code",
   "execution_count": null,
   "metadata": {},
   "outputs": [],
   "source": []
  },
  {
   "cell_type": "markdown",
   "metadata": {},
   "source": [
    "--------------"
   ]
  }
 ],
 "metadata": {
  "kernelspec": {
   "display_name": "Python 2",
   "language": "python",
   "name": "python2"
  },
  "language_info": {
   "codemirror_mode": {
    "name": "ipython",
    "version": 2
   },
   "file_extension": ".py",
   "mimetype": "text/x-python",
   "name": "python",
   "nbconvert_exporter": "python",
   "pygments_lexer": "ipython2",
   "version": "2.7.13"
  }
 },
 "nbformat": 4,
 "nbformat_minor": 2
}
