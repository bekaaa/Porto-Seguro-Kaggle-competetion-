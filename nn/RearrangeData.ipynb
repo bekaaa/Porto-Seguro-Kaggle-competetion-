{
 "cells": [
  {
   "cell_type": "markdown",
   "metadata": {},
   "source": [
    "# Convert data to arrays and encode categorical data "
   ]
  },
  {
   "cell_type": "code",
   "execution_count": 1,
   "metadata": {},
   "outputs": [],
   "source": [
    "import pandas as pd\n",
    "import numpy as np\n",
    "from sklearn.preprocessing import OneHotEncoder"
   ]
  },
  {
   "cell_type": "code",
   "execution_count": 2,
   "metadata": {},
   "outputs": [],
   "source": [
    "train = pd.read_csv('../data/train.csv', na_values=-1)\n",
    "test = pd.read_csv('../data/test.csv', na_values=-1)"
   ]
  },
  {
   "cell_type": "code",
   "execution_count": 3,
   "metadata": {},
   "outputs": [],
   "source": [
    "cat = [ i for i in train.columns if \"cat\" in i ]\n",
    "train[cat] = train[cat].apply( lambda d: d.fillna(d.max()+1), axis=0 )\n",
    "test[cat] = test[cat].apply( lambda d: d.fillna(d.max()+1), axis=0 )\n",
    "\n",
    "train.drop(['ps_car_11_cat','id'] ,axis=1,inplace=True)\n",
    "test.drop(['ps_car_11_cat','id'] ,axis=1,inplace=True)"
   ]
  },
  {
   "cell_type": "code",
   "execution_count": 4,
   "metadata": {},
   "outputs": [
    {
     "name": "stdout",
     "output_type": "stream",
     "text": [
      "categorical column :\tps_ind_02_cat  -  5\n",
      "categorical column :\tps_ind_04_cat  -  3\n",
      "categorical column :\tps_ind_05_cat  -  8\n",
      "categorical column :\tps_car_01_cat  -  13\n",
      "categorical column :\tps_car_02_cat  -  3\n",
      "categorical column :\tps_car_03_cat  -  3\n",
      "categorical column :\tps_car_04_cat  -  10\n",
      "categorical column :\tps_car_05_cat  -  3\n",
      "categorical column :\tps_car_06_cat  -  18\n",
      "categorical column :\tps_car_07_cat  -  3\n",
      "categorical column :\tps_car_08_cat  -  2\n",
      "categorical column :\tps_car_09_cat  -  6\n",
      "categorical column :\tps_car_10_cat  -  3\n",
      "\n",
      "\n",
      "new shape :  (595212, 124)\n"
     ]
    }
   ],
   "source": [
    "encoder = OneHotEncoder(sparse=False)\n",
    "train_arr = np.empty([train.shape[0],0])\n",
    "\n",
    "for feature in train.columns :\n",
    "    if \"cat\" in feature :\n",
    "        print \"categorical column :\\t\", feature, \" - \", train[feature].value_counts().shape[0]\n",
    "        t = encoder.fit_transform(train[feature].values.reshape(-1,1))\n",
    "        train_arr = np.append(train_arr, t, axis=1)\n",
    "    else :\n",
    "        train_arr = np.append(train_arr, train[feature].values.reshape(-1,1), axis=1)\n",
    "        \n",
    "        \n",
    "print \"\\n\\nnew shape : \", train_arr.shape\n",
    "# the column [:,0] is for labels."
   ]
  },
  {
   "cell_type": "code",
   "execution_count": 5,
   "metadata": {},
   "outputs": [
    {
     "name": "stdout",
     "output_type": "stream",
     "text": [
      "categorical column :\tps_ind_02_cat  -  5\n",
      "categorical column :\tps_ind_04_cat  -  3\n",
      "categorical column :\tps_ind_05_cat  -  8\n",
      "categorical column :\tps_car_01_cat  -  13\n",
      "categorical column :\tps_car_02_cat  -  3\n",
      "categorical column :\tps_car_03_cat  -  3\n",
      "categorical column :\tps_car_04_cat  -  10\n",
      "categorical column :\tps_car_05_cat  -  3\n",
      "categorical column :\tps_car_06_cat  -  18\n",
      "categorical column :\tps_car_07_cat  -  3\n",
      "categorical column :\tps_car_08_cat  -  2\n",
      "categorical column :\tps_car_09_cat  -  6\n",
      "categorical column :\tps_car_10_cat  -  3\n",
      "\n",
      "\n",
      "new shape :  (892816, 123)\n"
     ]
    }
   ],
   "source": [
    "encoder = OneHotEncoder(sparse=False)\n",
    "test_arr = np.empty([test.shape[0],0])\n",
    "\n",
    "\n",
    "for feature in test.columns :\n",
    "    if \"cat\" in feature :\n",
    "        print \"categorical column :\\t\", feature, \" - \", test[feature].value_counts().shape[0]\n",
    "        t = encoder.fit_transform(test[feature].values.reshape(-1,1))\n",
    "        test_arr = np.append(test_arr, t, axis=1)\n",
    "    else :\n",
    "        test_arr = np.append(test_arr, test[feature].values.reshape(-1,1), axis=1)\n",
    "        \n",
    "        \n",
    "print \"\\n\\nnew shape : \", test_arr.shape"
   ]
  },
  {
   "cell_type": "code",
   "execution_count": 6,
   "metadata": {},
   "outputs": [
    {
     "ename": "IOError",
     "evalue": "[Errno 2] No such file or directory: '../nn/data/train.npy'",
     "output_type": "error",
     "traceback": [
      "\u001b[0;31m---------------------------------------------------------------------------\u001b[0m",
      "\u001b[0;31mIOError\u001b[0m                                   Traceback (most recent call last)",
      "\u001b[0;32m<ipython-input-6-4044bc11ab12>\u001b[0m in \u001b[0;36m<module>\u001b[0;34m()\u001b[0m\n\u001b[1;32m      1\u001b[0m \u001b[0;31m# save to disk\u001b[0m\u001b[0;34m\u001b[0m\u001b[0;34m\u001b[0m\u001b[0m\n\u001b[0;32m----> 2\u001b[0;31m \u001b[0mnp\u001b[0m\u001b[0;34m.\u001b[0m\u001b[0msave\u001b[0m\u001b[0;34m(\u001b[0m\u001b[0;34m'../nn/data/train.npy'\u001b[0m\u001b[0;34m,\u001b[0m\u001b[0mtrain_arr\u001b[0m\u001b[0;34m)\u001b[0m\u001b[0;34m\u001b[0m\u001b[0m\n\u001b[0m\u001b[1;32m      3\u001b[0m \u001b[0mnp\u001b[0m\u001b[0;34m.\u001b[0m\u001b[0msave\u001b[0m\u001b[0;34m(\u001b[0m\u001b[0;34m'../nn/data/test.npy'\u001b[0m\u001b[0;34m,\u001b[0m\u001b[0mtest_arr\u001b[0m\u001b[0;34m)\u001b[0m\u001b[0;34m\u001b[0m\u001b[0m\n",
      "\u001b[0;32m/home/bekora/.local/lib/python2.7/site-packages/numpy/lib/npyio.pyc\u001b[0m in \u001b[0;36msave\u001b[0;34m(file, arr, allow_pickle, fix_imports)\u001b[0m\n\u001b[1;32m    488\u001b[0m         \u001b[0;32mif\u001b[0m \u001b[0;32mnot\u001b[0m \u001b[0mfile\u001b[0m\u001b[0;34m.\u001b[0m\u001b[0mendswith\u001b[0m\u001b[0;34m(\u001b[0m\u001b[0;34m'.npy'\u001b[0m\u001b[0;34m)\u001b[0m\u001b[0;34m:\u001b[0m\u001b[0;34m\u001b[0m\u001b[0m\n\u001b[1;32m    489\u001b[0m             \u001b[0mfile\u001b[0m \u001b[0;34m=\u001b[0m \u001b[0mfile\u001b[0m \u001b[0;34m+\u001b[0m \u001b[0;34m'.npy'\u001b[0m\u001b[0;34m\u001b[0m\u001b[0m\n\u001b[0;32m--> 490\u001b[0;31m         \u001b[0mfid\u001b[0m \u001b[0;34m=\u001b[0m \u001b[0mopen\u001b[0m\u001b[0;34m(\u001b[0m\u001b[0mfile\u001b[0m\u001b[0;34m,\u001b[0m \u001b[0;34m\"wb\"\u001b[0m\u001b[0;34m)\u001b[0m\u001b[0;34m\u001b[0m\u001b[0m\n\u001b[0m\u001b[1;32m    491\u001b[0m         \u001b[0mown_fid\u001b[0m \u001b[0;34m=\u001b[0m \u001b[0mTrue\u001b[0m\u001b[0;34m\u001b[0m\u001b[0m\n\u001b[1;32m    492\u001b[0m     \u001b[0;32melif\u001b[0m \u001b[0mis_pathlib_path\u001b[0m\u001b[0;34m(\u001b[0m\u001b[0mfile\u001b[0m\u001b[0;34m)\u001b[0m\u001b[0;34m:\u001b[0m\u001b[0;34m\u001b[0m\u001b[0m\n",
      "\u001b[0;31mIOError\u001b[0m: [Errno 2] No such file or directory: '../nn/data/train.npy'"
     ]
    }
   ],
   "source": [
    "# save to disk\n",
    "np.save('../nn/data/train.npy',train_arr)\n",
    "np.save('../nn/data/test.npy',test_arr)"
   ]
  },
  {
   "cell_type": "code",
   "execution_count": null,
   "metadata": {},
   "outputs": [],
   "source": [
    "# save samples to disk\n",
    "np.save('../nn/data/train_sample.npy',train_arr[100000,:])\n",
    "np.save('../nn/data/test_sample.npy', test_arr[100000,:])"
   ]
  },
  {
   "cell_type": "code",
   "execution_count": null,
   "metadata": {
    "scrolled": false
   },
   "outputs": [],
   "source": []
  },
  {
   "cell_type": "code",
   "execution_count": null,
   "metadata": {},
   "outputs": [],
   "source": []
  },
  {
   "cell_type": "code",
   "execution_count": null,
   "metadata": {},
   "outputs": [],
   "source": []
  },
  {
   "cell_type": "markdown",
   "metadata": {},
   "source": [
    "-----------"
   ]
  },
  {
   "cell_type": "code",
   "execution_count": null,
   "metadata": {},
   "outputs": [],
   "source": []
  }
 ],
 "metadata": {
  "kernelspec": {
   "display_name": "Python 2",
   "language": "python",
   "name": "python2"
  },
  "language_info": {
   "codemirror_mode": {
    "name": "ipython",
    "version": 2
   },
   "file_extension": ".py",
   "mimetype": "text/x-python",
   "name": "python",
   "nbconvert_exporter": "python",
   "pygments_lexer": "ipython2",
   "version": "2.7.13"
  }
 },
 "nbformat": 4,
 "nbformat_minor": 2
}
