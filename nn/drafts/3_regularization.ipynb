{
 "cells": [
  {
   "cell_type": "markdown",
   "metadata": {
    "colab_type": "text",
    "id": "kR-4eNdK6lYS"
   },
   "source": [
    "Deep Learning\n",
    "=============\n",
    "\n",
    "Assignment 3\n",
    "------------\n",
    "\n",
    "Previously in `2_fullyconnected.ipynb`, you trained a logistic regression and a neural network model.\n",
    "\n",
    "The goal of this assignment is to explore regularization techniques."
   ]
  },
  {
   "cell_type": "code",
   "execution_count": 1,
   "metadata": {
    "cellView": "both",
    "colab": {
     "autoexec": {
      "startup": false,
      "wait_interval": 0
     }
    },
    "colab_type": "code",
    "collapsed": true,
    "id": "JLpLa8Jt7Vu4"
   },
   "outputs": [],
   "source": [
    "# These are all the modules we'll be using later. Make sure you can import them\n",
    "# before proceeding further.\n",
    "from __future__ import print_function\n",
    "import numpy as np\n",
    "import tensorflow as tf\n",
    "from six.moves import cPickle as pickle"
   ]
  },
  {
   "cell_type": "markdown",
   "metadata": {
    "colab_type": "text",
    "id": "1HrCK6e17WzV"
   },
   "source": [
    "First reload the data we generated in `1_notmnist.ipynb`."
   ]
  },
  {
   "cell_type": "code",
   "execution_count": 2,
   "metadata": {
    "cellView": "both",
    "colab": {
     "autoexec": {
      "startup": false,
      "wait_interval": 0
     },
     "output_extras": [
      {
       "item_id": 1
      }
     ]
    },
    "colab_type": "code",
    "executionInfo": {
     "elapsed": 11777,
     "status": "ok",
     "timestamp": 1449849322348,
     "user": {
      "color": "",
      "displayName": "",
      "isAnonymous": false,
      "isMe": true,
      "permissionId": "",
      "photoUrl": "",
      "sessionId": "0",
      "userId": ""
     },
     "user_tz": 480
    },
    "id": "y3-cj1bpmuxc",
    "outputId": "e03576f1-ebbe-4838-c388-f1777bcc9873"
   },
   "outputs": [
    {
     "name": "stdout",
     "output_type": "stream",
     "text": [
      "Training set (20000, 28, 28) (20000,)\n",
      "Validation set (1000, 28, 28) (1000,)\n",
      "Test set (1000, 28, 28) (1000,)\n"
     ]
    }
   ],
   "source": [
    "pickle_file = 'notMNIST.pickle'\n",
    "\n",
    "with open(pickle_file, 'rb') as f:\n",
    "  save = pickle.load(f)\n",
    "  train_dataset = save['train_dataset']\n",
    "  train_labels = save['train_labels']\n",
    "  valid_dataset = save['valid_dataset']\n",
    "  valid_labels = save['valid_labels']\n",
    "  test_dataset = save['test_dataset']\n",
    "  test_labels = save['test_labels']\n",
    "  del save  # hint to help gc free up memory\n",
    "  print('Training set', train_dataset.shape, train_labels.shape)\n",
    "  print('Validation set', valid_dataset.shape, valid_labels.shape)\n",
    "  print('Test set', test_dataset.shape, test_labels.shape)"
   ]
  },
  {
   "cell_type": "markdown",
   "metadata": {
    "colab_type": "text",
    "id": "L7aHrm6nGDMB"
   },
   "source": [
    "Reformat into a shape that's more adapted to the models we're going to train:\n",
    "- data as a flat matrix,\n",
    "- labels as float 1-hot encodings."
   ]
  },
  {
   "cell_type": "code",
   "execution_count": 3,
   "metadata": {
    "cellView": "both",
    "colab": {
     "autoexec": {
      "startup": false,
      "wait_interval": 0
     },
     "output_extras": [
      {
       "item_id": 1
      }
     ]
    },
    "colab_type": "code",
    "executionInfo": {
     "elapsed": 11728,
     "status": "ok",
     "timestamp": 1449849322356,
     "user": {
      "color": "",
      "displayName": "",
      "isAnonymous": false,
      "isMe": true,
      "permissionId": "",
      "photoUrl": "",
      "sessionId": "0",
      "userId": ""
     },
     "user_tz": 480
    },
    "id": "IRSyYiIIGIzS",
    "outputId": "3f8996ee-3574-4f44-c953-5c8a04636582"
   },
   "outputs": [
    {
     "name": "stdout",
     "output_type": "stream",
     "text": [
      "Training set (20000, 784) (20000, 10)\n",
      "Validation set (1000, 784) (1000, 10)\n",
      "Test set (1000, 784) (1000, 10)\n"
     ]
    }
   ],
   "source": [
    "image_size = 28\n",
    "num_labels = 10\n",
    "\n",
    "def reformat(dataset, labels):\n",
    "  dataset = dataset.reshape((-1, image_size * image_size)).astype(np.float32)\n",
    "  # Map 1 to [0.0, 1.0, 0.0 ...], 2 to [0.0, 0.0, 1.0 ...]\n",
    "  labels = (np.arange(num_labels) == labels[:,None]).astype(np.float32)\n",
    "  return dataset, labels\n",
    "train_dataset, train_labels = reformat(train_dataset, train_labels)\n",
    "valid_dataset, valid_labels = reformat(valid_dataset, valid_labels)\n",
    "test_dataset, test_labels = reformat(test_dataset, test_labels)\n",
    "print('Training set', train_dataset.shape, train_labels.shape)\n",
    "print('Validation set', valid_dataset.shape, valid_labels.shape)\n",
    "print('Test set', test_dataset.shape, test_labels.shape)"
   ]
  },
  {
   "cell_type": "code",
   "execution_count": 4,
   "metadata": {
    "cellView": "both",
    "colab": {
     "autoexec": {
      "startup": false,
      "wait_interval": 0
     }
    },
    "colab_type": "code",
    "collapsed": true,
    "id": "RajPLaL_ZW6w"
   },
   "outputs": [],
   "source": [
    "def accuracy(predictions, labels):\n",
    "  return (100.0 * np.sum(np.argmax(predictions, 1) == np.argmax(labels, 1))\n",
    "          / predictions.shape[0])"
   ]
  },
  {
   "cell_type": "markdown",
   "metadata": {
    "colab_type": "text",
    "id": "sgLbUAQ1CW-1"
   },
   "source": [
    "---\n",
    "Problem 1\n",
    "---------\n",
    "\n",
    "Introduce and tune L2 regularization for both logistic and neural network models. Remember that L2 amounts to adding a penalty on the norm of the weights to the loss. In TensorFlow, you can compute the L2 loss for a tensor `t` using `nn.l2_loss(t)`. The right amount of regularization should improve your validation / test accuracy.\n",
    "\n",
    "---"
   ]
  },
  {
   "cell_type": "code",
   "execution_count": 20,
   "metadata": {},
   "outputs": [],
   "source": [
    "train_subset = 10000\n",
    "beta = 0.01\n",
    "\n",
    "graph = tf.Graph()\n",
    "#using simple gradient discent.\n",
    "with graph.as_default() :\n",
    "    tf_train_dataset = tf.constant(train_dataset[:train_subset,:])\n",
    "    tf_train_labels  = tf.constant(train_labels[:train_subset,:])\n",
    "    tf_valid_dataset = tf.constant(valid_dataset)\n",
    "    tf_test_dataset  = tf.constant(test_dataset)\n",
    "    \n",
    "    weights = tf.Variable(tf.truncated_normal([image_size*image_size, num_labels]))\n",
    "    biases  = tf.Variable(tf.zeros(num_labels))\n",
    "    \n",
    "    logits = tf.matmul(tf_train_dataset, weights) + biases\n",
    "    loss   = tf.reduce_mean(tf.nn.softmax_cross_entropy_with_logits(labels=tf_train_labels,logits=logits))\n",
    "    \n",
    "    regualizer = tf.nn.l2_loss(weights)\n",
    "    loss   = tf.reduce_mean(loss + beta * regualizer)\n",
    "    \n",
    "    optimizer = tf.train.GradientDescentOptimizer(.5).minimize(loss)\n",
    "    \n",
    "    train_predictions = tf.nn.softmax(logits)\n",
    "    valid_predictions = tf.nn.softmax(tf.matmul(tf_valid_dataset, weights) + biases)\n",
    "    test_predictions  = tf.nn.softmax(tf.matmul(tf_test_dataset, weights) + biases)\n",
    "    \n",
    "    \n",
    "\n"
   ]
  },
  {
   "cell_type": "code",
   "execution_count": 21,
   "metadata": {},
   "outputs": [
    {
     "name": "stdout",
     "output_type": "stream",
     "text": [
      "initialized\n",
      "done 0 steps with loss 50.5388\n",
      "accuracy on training data = 8.01\n",
      "validation accuarcy = 11.00\n",
      "test accuarcy = 10.30\n",
      "done 100 steps with loss 12.0614\n",
      "accuracy on training data = 74.24\n",
      "validation accuarcy = 72.20\n",
      "test accuarcy = 80.40\n",
      "done 200 steps with loss 4.5433\n",
      "accuracy on training data = 79.27\n",
      "validation accuarcy = 77.90\n",
      "test accuarcy = 84.20\n",
      "done 300 steps with loss 1.9893\n",
      "accuracy on training data = 82.41\n",
      "validation accuarcy = 80.00\n",
      "test accuarcy = 86.20\n",
      "done 400 steps with loss 1.1255\n",
      "accuracy on training data = 83.89\n",
      "validation accuarcy = 82.10\n",
      "test accuarcy = 87.90\n",
      "done 500 steps with loss 0.8299\n",
      "accuracy on training data = 84.38\n",
      "validation accuarcy = 82.80\n",
      "test accuarcy = 87.70\n",
      "done 600 steps with loss 0.7274\n",
      "accuracy on training data = 84.62\n",
      "validation accuarcy = 83.30\n",
      "test accuarcy = 87.70\n",
      "done 700 steps with loss 0.6915\n",
      "accuracy on training data = 84.67\n",
      "validation accuarcy = 83.20\n",
      "test accuarcy = 88.00\n",
      "done 800 steps with loss 0.6788\n",
      "accuracy on training data = 84.68\n",
      "validation accuarcy = 83.20\n",
      "test accuarcy = 88.20\n"
     ]
    }
   ],
   "source": [
    "num_steps = 801\n",
    "def accuarcy(predictions, labels):\n",
    "    return 100.0 * np.sum( np.argmax(predictions,1) == np.argmax(labels,1) ) / labels.shape[0]\n",
    "\n",
    "with tf.Session(graph=graph) as session :\n",
    "    \n",
    "    tf.global_variables_initializer().run()\n",
    "    print(\"initialized\")\n",
    "    \n",
    "    for i in range(num_steps) :\n",
    "        _, l, predictions = session.run([optimizer, loss, train_predictions])\n",
    "        \n",
    "        if i%100 == 0 :\n",
    "            print (\"done %d steps with loss %.4f\" % (i, l))\n",
    "            print (\"accuracy on training data = %.2f\" % accuarcy(predictions, train_labels[:train_subset,:]))\n",
    "            print (\"validation accuarcy = %.2f\" % accuarcy(valid_predictions.eval(), valid_labels))\n",
    "            print (\"test accuarcy = %.2f\" % accuarcy(test_predictions.eval(), test_labels))\n",
    "\n",
    "\n",
    "\n"
   ]
  },
  {
   "cell_type": "code",
   "execution_count": 40,
   "metadata": {
    "collapsed": true
   },
   "outputs": [],
   "source": [
    "train_subset = 10000\n",
    "beta = 0.01\n",
    "batch_size = 128\n",
    "num_nodes = 1024\n",
    "# using sophiastic gradient discent and l2 regularization and hidden layer, and dropout.\n",
    "\n",
    "graph = tf.Graph()\n",
    "\n",
    "\n",
    "with graph.as_default() :\n",
    "    tf_train_dataset = tf.placeholder(tf.float32, shape=(batch_size, image_size*image_size))\n",
    "    tf_train_labels  = tf.placeholder(tf.float32, shape=(batch_size, num_labels))\n",
    "    tf_valid_dataset = tf.constant(valid_dataset)\n",
    "    tf_test_dataset  = tf.constant(test_dataset)\n",
    "    \n",
    "    weights1 = tf.Variable(tf.truncated_normal([image_size*image_size, num_nodes]))\n",
    "    weights2 = tf.Variable(tf.truncated_normal([ num_nodes, num_labels ]))\n",
    "    biases1  = tf.Variable(tf.zeros(num_nodes))\n",
    "    biases2  = tf.Variable(tf.zeros(num_labels))\n",
    "    \n",
    "    logits1    = tf.matmul(tf_train_dataset, weights1) + biases1\n",
    "    relu_layer = tf.nn.relu(logits1)\n",
    "    keep_prob  = tf.placeholder(tf.float32)\n",
    "    relu_layer_dropout = tf.nn.dropout(relu_layer, keep_prob)\n",
    "    logits2    = tf.matmul(relu_layer_dropout, weights2) + biases2 \n",
    "    \n",
    "    loss   = tf.reduce_mean(tf.nn.softmax_cross_entropy_with_logits(labels=tf_train_labels,logits=logits2))\n",
    "    \n",
    "    regualizer = tf.nn.l2_loss(weights1) + tf.nn.l2_loss(weights2)\n",
    "    loss   = tf.reduce_mean(loss + beta * regualizer)\n",
    "    \n",
    "    optimizer = tf.train.GradientDescentOptimizer(.5).minimize(loss)\n",
    "    \n",
    "    train_predictions = tf.nn.softmax(logits2)\n",
    "    \n",
    "    # valid predictions\n",
    "    logits1    = tf.matmul(tf_valid_dataset, weights1) + biases1\n",
    "    relu_layer = tf.nn.relu(logits1)\n",
    "    logits2    = tf.matmul(relu_layer, weights2) + biases2 \n",
    "    valid_predictions = tf.nn.softmax(logits2)\n",
    "    # test predictions\n",
    "    logits1    = tf.matmul(tf_test_dataset, weights1) + biases1\n",
    "    relu_layer = tf.nn.relu(logits1)\n",
    "    logits2    = tf.matmul(relu_layer, weights2) + biases2 \n",
    "    test_predictions  = tf.nn.softmax(logits2)"
   ]
  },
  {
   "cell_type": "code",
   "execution_count": 41,
   "metadata": {},
   "outputs": [
    {
     "name": "stdout",
     "output_type": "stream",
     "text": [
      "initialized\n",
      "done 0 steps with loss 3628.9812\n",
      "accuracy on training data = 7.81\n",
      "validation accuarcy = 29.50\n",
      "test accuarcy = 30.50\n",
      "done 100 steps with loss 1170.1752\n",
      "accuracy on training data = 72.66\n",
      "validation accuarcy = 80.00\n",
      "test accuarcy = 85.10\n",
      "done 200 steps with loss 427.9018\n",
      "accuracy on training data = 75.00\n",
      "validation accuarcy = 82.10\n",
      "test accuarcy = 86.20\n",
      "done 300 steps with loss 155.1611\n",
      "accuracy on training data = 81.25\n",
      "validation accuarcy = 82.10\n",
      "test accuarcy = 88.00\n",
      "done 400 steps with loss 57.3587\n",
      "accuracy on training data = 81.25\n",
      "validation accuarcy = 83.80\n",
      "test accuarcy = 90.60\n",
      "done 500 steps with loss 21.4804\n",
      "accuracy on training data = 85.94\n",
      "validation accuarcy = 85.00\n",
      "test accuarcy = 91.00\n",
      "done 600 steps with loss 8.4197\n",
      "accuracy on training data = 82.03\n",
      "validation accuarcy = 84.50\n",
      "test accuarcy = 89.70\n",
      "done 700 steps with loss 3.6003\n",
      "accuracy on training data = 86.72\n",
      "validation accuarcy = 84.60\n",
      "test accuarcy = 90.20\n",
      "done 800 steps with loss 1.8610\n",
      "accuracy on training data = 80.47\n",
      "validation accuarcy = 84.30\n",
      "test accuarcy = 89.80\n"
     ]
    }
   ],
   "source": [
    "num_steps = 801\n",
    "\n",
    "\n",
    "with tf.Session(graph=graph) as session :\n",
    "    \n",
    "    tf.global_variables_initializer().run()\n",
    "    print(\"initialized\")\n",
    "    \n",
    "    for i in range(num_steps) :\n",
    "        \n",
    "        offset = (i * batch_size) % (train_dataset.shape[0] - batch_size)\n",
    "        batch_data   = train_dataset[offset:(offset + batch_size), :]\n",
    "        batch_labels = train_labels[offset:(offset + batch_size), :]\n",
    "        \n",
    "        feed_dict = { tf_train_dataset : batch_data, tf_train_labels : batch_labels, keep_prob : .5 }\n",
    "        \n",
    "        _, l, predictions = session.run([optimizer, loss, train_predictions], feed_dict=feed_dict)\n",
    "        \n",
    "        if i%100 == 0 :\n",
    "            print (\"done %d steps with loss %.4f\" % (i, l))\n",
    "            print (\"accuracy on training data = %.2f\" % accuarcy(predictions,\n",
    "                                                                 train_labels[offset:(offset + batch_size),:]))\n",
    "            print (\"validation accuarcy = %.2f\" % accuarcy(valid_predictions.eval(), valid_labels))\n",
    "            print (\"test accuarcy = %.2f\" % accuarcy(test_predictions.eval(), test_labels))\n",
    "\n",
    "\n",
    "\n"
   ]
  },
  {
   "cell_type": "markdown",
   "metadata": {
    "colab_type": "text",
    "id": "na8xX2yHZzNF"
   },
   "source": [
    "---\n",
    "Problem 2\n",
    "---------\n",
    "Let's demonstrate an extreme case of overfitting. Restrict your training data to just a few batches. What happens?\n",
    "\n",
    "---"
   ]
  },
  {
   "cell_type": "markdown",
   "metadata": {
    "colab_type": "text",
    "id": "ww3SCBUdlkRc"
   },
   "source": [
    "---\n",
    "Problem 3\n",
    "---------\n",
    "Introduce Dropout on the hidden layer of the neural network. Remember: Dropout should only be introduced during training, not evaluation, otherwise your evaluation results would be stochastic as well. TensorFlow provides `nn.dropout()` for that, but you have to make sure it's only inserted during training.\n",
    "\n",
    "What happens to our extreme overfitting case?\n",
    "\n",
    "---"
   ]
  },
  {
   "cell_type": "markdown",
   "metadata": {
    "colab_type": "text",
    "id": "-b1hTz3VWZjw"
   },
   "source": [
    "---\n",
    "Problem 4\n",
    "---------\n",
    "\n",
    "Try to get the best performance you can using a multi-layer model! The best reported test accuracy using a deep network is [97.1%](http://yaroslavvb.blogspot.com/2011/09/notmnist-dataset.html?showComment=1391023266211#c8758720086795711595).\n",
    "\n",
    "One avenue you can explore is to add multiple layers.\n",
    "\n",
    "Another one is to use learning rate decay:\n",
    "\n",
    "    global_step = tf.Variable(0)  # count the number of steps taken.\n",
    "    learning_rate = tf.train.exponential_decay(0.5, global_step, ...)\n",
    "    optimizer = tf.train.GradientDescentOptimizer(learning_rate).minimize(loss, global_step=global_step)\n",
    " \n",
    " ---\n"
   ]
  }
 ],
 "metadata": {
  "colab": {
   "default_view": {},
   "name": "3_regularization.ipynb",
   "provenance": [],
   "version": "0.3.2",
   "views": {}
  },
  "kernelspec": {
   "display_name": "Python 2",
   "language": "python",
   "name": "python2"
  },
  "language_info": {
   "codemirror_mode": {
    "name": "ipython",
    "version": 2
   },
   "file_extension": ".py",
   "mimetype": "text/x-python",
   "name": "python",
   "nbconvert_exporter": "python",
   "pygments_lexer": "ipython2",
   "version": "2.7.13"
  }
 },
 "nbformat": 4,
 "nbformat_minor": 1
}
