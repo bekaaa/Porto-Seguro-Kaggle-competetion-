{
 "cells": [
  {
   "cell_type": "code",
   "execution_count": null,
   "metadata": {
    "scrolled": true
   },
   "outputs": [],
   "source": [
    "import numpy as np\n",
    "from sklearn.model_selection import train_test_split\n",
    "import xgboost as xgb\n",
    "#from sklearn.metrics import roc_auc_score\n",
    "#import matplotlib\n",
    "#import matplotlib.pyplot as py\n",
    "\n",
    "#import log\n",
    "from xgb_tuner import xgb_tuner\n",
    "\n",
    "#%matplotlib inline\n",
    "seed = 0\n",
    "np.random.seed(seed)"
   ]
  },
  {
   "cell_type": "code",
   "execution_count": null,
   "metadata": {},
   "outputs": [],
   "source": [
    "# preparing training data.\n",
    "train_sample_size = 10000\n",
    "val_size = 3000\n",
    "\n",
    "train = np.load('../../nn/data/train_scaled.npy')\n",
    "\n",
    "#train = train[:train_sample_size,:]\n",
    "labels = train[:,0]   \n",
    "train = train[:,1:]\n",
    "\n",
    "zero_important_features = [3, 5, 15, 22, 23, 24, 25, 26, 35, 39, 45, 48, 49, 56, 57, 58, 59, 60,\\\n",
    "                           62, 68, 71, 72, 73, 74, 79, 80, 83, 88, 91, 94, 95, 96, 97, 118, 119, 120]\n",
    "\n",
    "above_0_important_features = [ i for i in range(train.shape[1]) if i not in zero_important_features ]\n",
    "train = train[:, above_0_important_features]\n",
    "\n",
    "x_train, x_valid, y_train, y_valid = train_test_split(train,labels,random_state=seed,test_size=val_size)\n",
    "\n",
    "dtrain = xgb.DMatrix(x_train, label=y_train)\n",
    "dvalid = xgb.DMatrix(x_valid, label=y_valid)\n",
    "\n",
    "del train, labels, x_train, x_valid, y_train, y_valid"
   ]
  },
  {
   "cell_type": "code",
   "execution_count": null,
   "metadata": {},
   "outputs": [],
   "source": [
    "# preparing test data.\n",
    "if 0 :\n",
    "    test = np.load('../../nn/data/test_scaled.npy')\n",
    "    test = test[:, above_0_important_features]\n",
    "    dtest = xgb.DMatrix(test)\n",
    "    del test"
   ]
  },
  {
   "cell_type": "code",
   "execution_count": 1,
   "metadata": {},
   "outputs": [],
   "source": [
    "from xgb_parameterizing import parametizer"
   ]
  },
  {
   "cell_type": "code",
   "execution_count": 2,
   "metadata": {},
   "outputs": [],
   "source": [
    "def preproc(train, test=None) :\n",
    "    train_sample_size = 10000\n",
    "    train = train[:train_sample_size,:]\n",
    "    \n",
    "    labels = train[:,0]\n",
    "    train = train[:,1:]\n",
    "    \n",
    "    zero_important_features = [3, 5, 15, 22, 23, 24, 25, 26, 35, 39, 45, 48, 49, 56, 57, 58, 59, 60,\\\n",
    "                           62, 68, 71, 72, 73, 74, 79, 80, 83, 88, 91, 94, 95, 96, 97, 118, 119, 120]\n",
    "\n",
    "    above_0_important_features = [ i for i in range(train.shape[1]) if i not in zero_important_features ]\n",
    "    train = train[:, above_0_important_features]\n",
    "    return train, labels, test"
   ]
  },
  {
   "cell_type": "code",
   "execution_count": 3,
   "metadata": {},
   "outputs": [],
   "source": [
    "rizer = parametizer('../../nn/data/train_scaled.npy', preproc=preproc, log_file_index=0)"
   ]
  },
  {
   "cell_type": "code",
   "execution_count": 4,
   "metadata": {
    "scrolled": false
   },
   "outputs": [
    {
     "name": "stdout",
     "output_type": "stream",
     "text": [
      "best dev score : 0.211777, best fold-train score : 0.714775, best fold-dev score : 0.599022, best n_trees = 23, best max_depth = 1, best min_child_weight = 9, \n",
      "-*-*-*-*-*-*-*-*-*-*-*-*-*-*-*\n",
      "\n",
      "best dev score : 0.214094, best fold-train score : 0.714775, best fold-dev score : 0.599022, best n_trees = 23, best max_depth = 1, best min_child_weight = 10, \n",
      "-*-*-*-*-*-*-*-*-*-*-*-*-*-*-*\n",
      "\n"
     ]
    },
    {
     "ename": "XGBoostError",
     "evalue": "Invalid Parameter format for max_depth expect int but value='0.4'",
     "output_type": "error",
     "traceback": [
      "\u001b[0;31m---------------------------------------------------------------------------\u001b[0m",
      "\u001b[0;31mXGBoostError\u001b[0m                              Traceback (most recent call last)",
      "\u001b[0;32m<ipython-input-4-9bdb64b8a1d7>\u001b[0m in \u001b[0;36m<module>\u001b[0;34m()\u001b[0m\n\u001b[0;32m----> 1\u001b[0;31m \u001b[0mrizer\u001b[0m\u001b[0;34m.\u001b[0m\u001b[0mtune_model_complexity\u001b[0m\u001b[0;34m(\u001b[0m\u001b[0;34m)\u001b[0m\u001b[0;34m\u001b[0m\u001b[0m\n\u001b[0m",
      "\u001b[0;32m/home/bekora/Documents/programming/my_projects/Porto Seguro[Kaggle]/xgboost/notebooks/xgb_parameterizing.pyc\u001b[0m in \u001b[0;36mtune_model_complexity\u001b[0;34m(self, drop)\u001b[0m\n\u001b[1;32m    199\u001b[0m \u001b[0;34m\u001b[0m\u001b[0m\n\u001b[1;32m    200\u001b[0m                 \u001b[0mgrids\u001b[0m \u001b[0;34m=\u001b[0m \u001b[0;34m[\u001b[0m \u001b[0;34m(\u001b[0m\u001b[0mp1\u001b[0m\u001b[0;34m,\u001b[0m \u001b[0mp2\u001b[0m\u001b[0;34m)\u001b[0m \u001b[0;32mfor\u001b[0m \u001b[0mp1\u001b[0m \u001b[0;32min\u001b[0m \u001b[0mpa1\u001b[0m \u001b[0;32mfor\u001b[0m \u001b[0mp2\u001b[0m \u001b[0;32min\u001b[0m \u001b[0mpa2\u001b[0m \u001b[0;34m]\u001b[0m\u001b[0;34m\u001b[0m\u001b[0m\n\u001b[0;32m--> 201\u001b[0;31m                 \u001b[0mbst\u001b[0m \u001b[0;34m=\u001b[0m \u001b[0mself\u001b[0m\u001b[0;34m.\u001b[0m\u001b[0mtuner\u001b[0m\u001b[0;34m(\u001b[0m\u001b[0mterms\u001b[0m\u001b[0;34m,\u001b[0m \u001b[0mgrids\u001b[0m\u001b[0;34m)\u001b[0m\u001b[0;34m\u001b[0m\u001b[0m\n\u001b[0m\u001b[1;32m    202\u001b[0m                 \u001b[0;31m#----------------------------------------------[5-7]/3\u001b[0m\u001b[0;34m\u001b[0m\u001b[0;34m\u001b[0m\u001b[0m\n\u001b[1;32m    203\u001b[0m                 \u001b[0;32mif\u001b[0m \u001b[0mbst\u001b[0m\u001b[0;34m[\u001b[0m\u001b[0;36m0\u001b[0m\u001b[0;34m]\u001b[0m \u001b[0;34m>=\u001b[0m \u001b[0;36m10\u001b[0m \u001b[0;34m:\u001b[0m\u001b[0;34m\u001b[0m\u001b[0m\n",
      "\u001b[0;32m/home/bekora/Documents/programming/my_projects/Porto Seguro[Kaggle]/xgboost/notebooks/xgb_tuner.py\u001b[0m in \u001b[0;36m__call__\u001b[0;34m(self, param_names, param_grid)\u001b[0m\n\u001b[1;32m     38\u001b[0m                 \u001b[0;32mfor\u001b[0m \u001b[0mp\u001b[0m \u001b[0;32min\u001b[0m \u001b[0mparam_names\u001b[0m \u001b[0;34m:\u001b[0m \u001b[0;32massert\u001b[0m \u001b[0mp\u001b[0m \u001b[0;32min\u001b[0m \u001b[0mself\u001b[0m\u001b[0;34m.\u001b[0m\u001b[0mparams\u001b[0m\u001b[0;34m.\u001b[0m\u001b[0mkeys\u001b[0m\u001b[0;34m(\u001b[0m\u001b[0;34m)\u001b[0m\u001b[0;34m\u001b[0m\u001b[0m\n\u001b[1;32m     39\u001b[0m                 \u001b[0;31m#---------------------------------------\u001b[0m\u001b[0;34m\u001b[0m\u001b[0;34m\u001b[0m\u001b[0m\n\u001b[0;32m---> 40\u001b[0;31m                 \u001b[0mself\u001b[0m\u001b[0;34m.\u001b[0m\u001b[0mbest_grid\u001b[0m \u001b[0;34m=\u001b[0m \u001b[0mself\u001b[0m\u001b[0;34m.\u001b[0m\u001b[0m__tune\u001b[0m\u001b[0;34m(\u001b[0m\u001b[0mparam_names\u001b[0m\u001b[0;34m,\u001b[0m \u001b[0mparam_grid\u001b[0m\u001b[0;34m)\u001b[0m\u001b[0;34m\u001b[0m\u001b[0m\n\u001b[0m\u001b[1;32m     41\u001b[0m                 \u001b[0;31m#----------------------------------------\u001b[0m\u001b[0;34m\u001b[0m\u001b[0;34m\u001b[0m\u001b[0m\n\u001b[1;32m     42\u001b[0m                 \u001b[0;32mreturn\u001b[0m \u001b[0mself\u001b[0m\u001b[0;34m.\u001b[0m\u001b[0mbest_grid\u001b[0m\u001b[0;34m\u001b[0m\u001b[0m\n",
      "\u001b[0;32m/home/bekora/Documents/programming/my_projects/Porto Seguro[Kaggle]/xgboost/notebooks/xgb_tuner.py\u001b[0m in \u001b[0;36m__tune\u001b[0;34m(self, param_names, param_grid)\u001b[0m\n\u001b[1;32m     64\u001b[0m                         \u001b[0;31m#------------------------------------------------------------\u001b[0m\u001b[0;34m\u001b[0m\u001b[0;34m\u001b[0m\u001b[0m\n\u001b[1;32m     65\u001b[0m                         \u001b[0;31m#-------- call step_cv function on each grid -----------------\u001b[0m\u001b[0;34m\u001b[0m\u001b[0;34m\u001b[0m\u001b[0m\n\u001b[0;32m---> 66\u001b[0;31m                         \u001b[0mf_train_sc\u001b[0m\u001b[0;34m,\u001b[0m \u001b[0mf_dev_sc\u001b[0m\u001b[0;34m,\u001b[0m \u001b[0mdev_sc\u001b[0m\u001b[0;34m,\u001b[0m \u001b[0mn_trees\u001b[0m\u001b[0;34m,\u001b[0m \u001b[0mstep_time\u001b[0m \u001b[0;34m=\u001b[0m \u001b[0mself\u001b[0m\u001b[0;34m.\u001b[0m\u001b[0m__step_cv\u001b[0m\u001b[0;34m(\u001b[0m\u001b[0mparam_names\u001b[0m\u001b[0;34m,\u001b[0m \u001b[0mgrid\u001b[0m\u001b[0;34m)\u001b[0m\u001b[0;34m\u001b[0m\u001b[0m\n\u001b[0m\u001b[1;32m     67\u001b[0m                         \u001b[0;31m#------------------------------------------------------------\u001b[0m\u001b[0;34m\u001b[0m\u001b[0;34m\u001b[0m\u001b[0m\n\u001b[1;32m     68\u001b[0m                         \u001b[0;31m# ------------ another log message ---------------\u001b[0m\u001b[0;34m\u001b[0m\u001b[0;34m\u001b[0m\u001b[0m\n",
      "\u001b[0;32m/home/bekora/Documents/programming/my_projects/Porto Seguro[Kaggle]/xgboost/notebooks/xgb_tuner.py\u001b[0m in \u001b[0;36m__step_cv\u001b[0;34m(self, param_names, grid)\u001b[0m\n\u001b[1;32m    121\u001b[0m                                                 \u001b[0mfpreproc\u001b[0m\u001b[0;34m=\u001b[0m\u001b[0mself\u001b[0m\u001b[0;34m.\u001b[0m\u001b[0m__fpreproc\u001b[0m\u001b[0;34m,\u001b[0m\u001b[0;34m\u001b[0m\u001b[0m\n\u001b[1;32m    122\u001b[0m                                                 \u001b[0mverbose_eval\u001b[0m \u001b[0;34m=\u001b[0m \u001b[0mFalse\u001b[0m\u001b[0;34m,\u001b[0m\u001b[0;34m\u001b[0m\u001b[0m\n\u001b[0;32m--> 123\u001b[0;31m                                                 \u001b[0mcallbacks\u001b[0m\u001b[0;34m=\u001b[0m\u001b[0;34m[\u001b[0m\u001b[0mself\u001b[0m\u001b[0;34m.\u001b[0m\u001b[0m__GetBestCVFolds\u001b[0m\u001b[0;34m(\u001b[0m\u001b[0;34m)\u001b[0m\u001b[0;34m]\u001b[0m\u001b[0;34m\u001b[0m\u001b[0m\n\u001b[0m\u001b[1;32m    124\u001b[0m \t\t\t\t\t\t)\n\u001b[1;32m    125\u001b[0m                 \u001b[0;31m#-----------------------\u001b[0m\u001b[0;34m\u001b[0m\u001b[0;34m\u001b[0m\u001b[0m\n",
      "\u001b[0;32m/usr/lib/python2.7/site-packages/xgboost-0.6-py2.7.egg/xgboost/training.pyc\u001b[0m in \u001b[0;36mcv\u001b[0;34m(params, dtrain, num_boost_round, nfold, stratified, folds, metrics, obj, feval, maximize, early_stopping_rounds, fpreproc, as_pandas, verbose_eval, show_stdv, seed, callbacks, shuffle)\u001b[0m\n\u001b[1;32m    405\u001b[0m                            evaluation_result_list=None))\n\u001b[1;32m    406\u001b[0m         \u001b[0;32mfor\u001b[0m \u001b[0mfold\u001b[0m \u001b[0;32min\u001b[0m \u001b[0mcvfolds\u001b[0m\u001b[0;34m:\u001b[0m\u001b[0;34m\u001b[0m\u001b[0m\n\u001b[0;32m--> 407\u001b[0;31m             \u001b[0mfold\u001b[0m\u001b[0;34m.\u001b[0m\u001b[0mupdate\u001b[0m\u001b[0;34m(\u001b[0m\u001b[0mi\u001b[0m\u001b[0;34m,\u001b[0m \u001b[0mobj\u001b[0m\u001b[0;34m)\u001b[0m\u001b[0;34m\u001b[0m\u001b[0m\n\u001b[0m\u001b[1;32m    408\u001b[0m         \u001b[0mres\u001b[0m \u001b[0;34m=\u001b[0m \u001b[0maggcv\u001b[0m\u001b[0;34m(\u001b[0m\u001b[0;34m[\u001b[0m\u001b[0mf\u001b[0m\u001b[0;34m.\u001b[0m\u001b[0meval\u001b[0m\u001b[0;34m(\u001b[0m\u001b[0mi\u001b[0m\u001b[0;34m,\u001b[0m \u001b[0mfeval\u001b[0m\u001b[0;34m)\u001b[0m \u001b[0;32mfor\u001b[0m \u001b[0mf\u001b[0m \u001b[0;32min\u001b[0m \u001b[0mcvfolds\u001b[0m\u001b[0;34m]\u001b[0m\u001b[0;34m)\u001b[0m\u001b[0;34m\u001b[0m\u001b[0m\n\u001b[1;32m    409\u001b[0m \u001b[0;34m\u001b[0m\u001b[0m\n",
      "\u001b[0;32m/usr/lib/python2.7/site-packages/xgboost-0.6-py2.7.egg/xgboost/training.pyc\u001b[0m in \u001b[0;36mupdate\u001b[0;34m(self, iteration, fobj)\u001b[0m\n\u001b[1;32m    216\u001b[0m     \u001b[0;32mdef\u001b[0m \u001b[0mupdate\u001b[0m\u001b[0;34m(\u001b[0m\u001b[0mself\u001b[0m\u001b[0;34m,\u001b[0m \u001b[0miteration\u001b[0m\u001b[0;34m,\u001b[0m \u001b[0mfobj\u001b[0m\u001b[0;34m)\u001b[0m\u001b[0;34m:\u001b[0m\u001b[0;34m\u001b[0m\u001b[0m\n\u001b[1;32m    217\u001b[0m         \u001b[0;34m\"\"\"\"Update the boosters for one iteration\"\"\"\u001b[0m\u001b[0;34m\u001b[0m\u001b[0m\n\u001b[0;32m--> 218\u001b[0;31m         \u001b[0mself\u001b[0m\u001b[0;34m.\u001b[0m\u001b[0mbst\u001b[0m\u001b[0;34m.\u001b[0m\u001b[0mupdate\u001b[0m\u001b[0;34m(\u001b[0m\u001b[0mself\u001b[0m\u001b[0;34m.\u001b[0m\u001b[0mdtrain\u001b[0m\u001b[0;34m,\u001b[0m \u001b[0miteration\u001b[0m\u001b[0;34m,\u001b[0m \u001b[0mfobj\u001b[0m\u001b[0;34m)\u001b[0m\u001b[0;34m\u001b[0m\u001b[0m\n\u001b[0m\u001b[1;32m    219\u001b[0m \u001b[0;34m\u001b[0m\u001b[0m\n\u001b[1;32m    220\u001b[0m     \u001b[0;32mdef\u001b[0m \u001b[0meval\u001b[0m\u001b[0;34m(\u001b[0m\u001b[0mself\u001b[0m\u001b[0;34m,\u001b[0m \u001b[0miteration\u001b[0m\u001b[0;34m,\u001b[0m \u001b[0mfeval\u001b[0m\u001b[0;34m)\u001b[0m\u001b[0;34m:\u001b[0m\u001b[0;34m\u001b[0m\u001b[0m\n",
      "\u001b[0;32m/usr/lib/python2.7/site-packages/xgboost-0.6-py2.7.egg/xgboost/core.pyc\u001b[0m in \u001b[0;36mupdate\u001b[0;34m(self, dtrain, iteration, fobj)\u001b[0m\n\u001b[1;32m    825\u001b[0m         \u001b[0;32mif\u001b[0m \u001b[0mfobj\u001b[0m \u001b[0;32mis\u001b[0m \u001b[0mNone\u001b[0m\u001b[0;34m:\u001b[0m\u001b[0;34m\u001b[0m\u001b[0m\n\u001b[1;32m    826\u001b[0m             _check_call(_LIB.XGBoosterUpdateOneIter(self.handle, ctypes.c_int(iteration),\n\u001b[0;32m--> 827\u001b[0;31m                                                     dtrain.handle))\n\u001b[0m\u001b[1;32m    828\u001b[0m         \u001b[0;32melse\u001b[0m\u001b[0;34m:\u001b[0m\u001b[0;34m\u001b[0m\u001b[0m\n\u001b[1;32m    829\u001b[0m             \u001b[0mpred\u001b[0m \u001b[0;34m=\u001b[0m \u001b[0mself\u001b[0m\u001b[0;34m.\u001b[0m\u001b[0mpredict\u001b[0m\u001b[0;34m(\u001b[0m\u001b[0mdtrain\u001b[0m\u001b[0;34m)\u001b[0m\u001b[0;34m\u001b[0m\u001b[0m\n",
      "\u001b[0;32m/usr/lib/python2.7/site-packages/xgboost-0.6-py2.7.egg/xgboost/core.pyc\u001b[0m in \u001b[0;36m_check_call\u001b[0;34m(ret)\u001b[0m\n\u001b[1;32m    128\u001b[0m     \"\"\"\n\u001b[1;32m    129\u001b[0m     \u001b[0;32mif\u001b[0m \u001b[0mret\u001b[0m \u001b[0;34m!=\u001b[0m \u001b[0;36m0\u001b[0m\u001b[0;34m:\u001b[0m\u001b[0;34m\u001b[0m\u001b[0m\n\u001b[0;32m--> 130\u001b[0;31m         \u001b[0;32mraise\u001b[0m \u001b[0mXGBoostError\u001b[0m\u001b[0;34m(\u001b[0m\u001b[0m_LIB\u001b[0m\u001b[0;34m.\u001b[0m\u001b[0mXGBGetLastError\u001b[0m\u001b[0;34m(\u001b[0m\u001b[0;34m)\u001b[0m\u001b[0;34m)\u001b[0m\u001b[0;34m\u001b[0m\u001b[0m\n\u001b[0m\u001b[1;32m    131\u001b[0m \u001b[0;34m\u001b[0m\u001b[0m\n\u001b[1;32m    132\u001b[0m \u001b[0;34m\u001b[0m\u001b[0m\n",
      "\u001b[0;31mXGBoostError\u001b[0m: Invalid Parameter format for max_depth expect int but value='0.4'"
     ]
    }
   ],
   "source": [
    "rizer.tune_model_complexity()"
   ]
  },
  {
   "cell_type": "markdown",
   "metadata": {},
   "source": [
    "#  Automated Parameter Tuning"
   ]
  },
  {
   "cell_type": "code",
   "execution_count": null,
   "metadata": {},
   "outputs": [],
   "source": [
    "ROUNDS = 400\n",
    "\n",
    "ESROUNDS = 50\n",
    "\n",
    "params = {\n",
    "    'max_delta_step' : 0,\n",
    "    'scale_pos_weight' : 1, # calculated for each fold. #neg / #pos\n",
    "    \n",
    "    'max_depth' : 6,\n",
    "    'min_child_weight' : 1,\n",
    "    \n",
    "    'subsample' : 1,\n",
    "    'colsample_bytree' : 1,\n",
    "    \n",
    "    'reg_alpha' : 0,#5\n",
    "    'reg_lambda' : 1,#0.0001,\n",
    "    \n",
    "    'gamma' : 0,\n",
    "    \n",
    "    'eta' : 0.3,\n",
    "    \n",
    "    'objective' : \"binary:logistic\",\n",
    "    'n_jobs' : -1,\n",
    "    'eval_metric' : 'auc',\n",
    "    'random_seed' : seed\n",
    "}"
   ]
  },
  {
   "cell_type": "code",
   "execution_count": null,
   "metadata": {},
   "outputs": [],
   "source": [
    "tuner = xgb_tuner(dtrain, dvalid, params, logging=True, log_file_index=6, rounds=ROUNDS,srounds=ESROUNDS)\n",
    "del dtrain, dvalid"
   ]
  },
  {
   "cell_type": "code",
   "execution_count": null,
   "metadata": {},
   "outputs": [],
   "source": [
    "#--------------------------------------------------------------\n",
    "# Adjusting unbalanced data. [max_delta_step, scale_pos_weight]\n",
    "#--------------------------------------------------------------\n",
    "names = ['max_delta_step', 'scale_pos_weight']\n",
    "grid_params = [\n",
    "    (max_delta_step, scale_pos_weight)\n",
    "    for max_delta_step in [ 0 ]\n",
    "    for scale_pos_weight in [1] #np.arange(4.9,6,.2)  #[ 4, 5, 6, 7, 8 ]   #[26, 1, 1.5, 2, 5, 10]\n",
    "]\n",
    "#best_delta_step, best_pos_weight = tune_params(names, grid_params)\n",
    "##################\n"
   ]
  },
  {
   "cell_type": "code",
   "execution_count": null,
   "metadata": {},
   "outputs": [],
   "source": [
    "\n",
    "p1 = set(np.arange(1,10,2))\n",
    "p2 = set(np.arange(1,10,2))\n",
    "p1.add(2)\n",
    "p1.add(3)\n",
    "p1.add(4)\n"
   ]
  },
  {
   "cell_type": "code",
   "execution_count": null,
   "metadata": {},
   "outputs": [],
   "source": [
    "p1"
   ]
  },
  {
   "cell_type": "code",
   "execution_count": null,
   "metadata": {},
   "outputs": [],
   "source": [
    "#-------------------------------------------------------------------------------\n",
    "names = ['max_depth', 'min_child_weight'] # ------------------------------------\n",
    "#--------------------------------------------------------------------------------\n",
    "grid_params = [\n",
    "    (max_depth, min_child_weight)\n",
    "    for max_depth in np.arange(1,10,2)\n",
    "    for min_child_weight in np.arange(1,10,2)\n",
    "]\n",
    "best_depth, best_child_weight = tuner(names, grid_params)\n",
    "\n",
    "p1 = set(np.arange(1,10,2))\n",
    "p2 = set(np.arange(1,10,2))\n",
    "\n",
    "######################################################################\n",
    "grid_params = [\n",
    "    (max_depth, min_child_weight)\n",
    "    for max_depth in [best_depth-1, best_depth, best_depth+1]\n",
    "    for min_child_weight in [best_child_weight-1, best_child_weight, best_child_weight+1]\n",
    "]\n",
    "best_depth, best_child_weight = tuner(names, grid_params)\n",
    "######################################################################\n",
    "if best_depth == 10 or best_child_weight == 10 :\n",
    "    if best_depth == 10 : max_depth_r = np.arange(10,17,2)\n",
    "    elif best_depth <10 : max_depth_r = [best_depth]\n",
    "    if best_child_weight == 10 : min_child_weight_r = np.arange(10,17,2)\n",
    "    elif best_child_weight < 10 : min_child_weight_r = [best_child_weight]\n",
    "    grid_params = [\n",
    "        (max_depth, min_child_weight)\n",
    "        for max_depth in max_depth_r\n",
    "        for min_child_weight in min_child_weight_r\n",
    "    ]\n",
    "    best_depth, best_child_weight = tuner(names, grid_params)\n",
    "###############################################################\n",
    "if best_depth > 10 or best_child_weight > 10 :\n",
    "    if best_depth > 10 : max_depth_r = [ best_depth-1, best_depth, best_depth+1 ]\n",
    "    else : max_depth_r = [best_depth]\n",
    "    if best_child_weight > 10 : \n",
    "        min_child_weight_r = [best_child_weight-1,best_child_weight,best_child_weight+1]\n",
    "    else : min_child_weight_r = [best_child_weight]\n",
    "    grid_params = [\n",
    "        (max_depth, min_child_weight)\n",
    "        for max_depth in max_depth_r\n",
    "        for min_child_weight in min_child_weight_r\n",
    "    ]\n",
    "    best_depth, best_child_weight = tuner(names, grid_params)\n",
    "################################################################    \n",
    "params['max_depth'] = best_depth\n",
    "params['min_child_weight'] = best_child_weight"
   ]
  },
  {
   "cell_type": "code",
   "execution_count": null,
   "metadata": {},
   "outputs": [],
   "source": []
  },
  {
   "cell_type": "code",
   "execution_count": null,
   "metadata": {},
   "outputs": [],
   "source": []
  },
  {
   "cell_type": "code",
   "execution_count": null,
   "metadata": {},
   "outputs": [],
   "source": []
  },
  {
   "cell_type": "code",
   "execution_count": null,
   "metadata": {},
   "outputs": [],
   "source": [
    "#assert xgb_tuner.cvfolds != None"
   ]
  },
  {
   "cell_type": "code",
   "execution_count": null,
   "metadata": {
    "scrolled": false
   },
   "outputs": [],
   "source": [
    "tuner(names, grid_params)"
   ]
  },
  {
   "cell_type": "markdown",
   "metadata": {},
   "source": [
    "-------------------"
   ]
  },
  {
   "cell_type": "code",
   "execution_count": null,
   "metadata": {
    "scrolled": true
   },
   "outputs": [],
   "source": [
    "#--------------------------------------------------------------\n",
    "# Adjusting unbalanced data. [max_delta_step, scale_pos_weight]\n",
    "#--------------------------------------------------------------\n",
    "names = ('max_delta_step', 'scale_pos_weight')\n",
    "grid_params = [\n",
    "    (max_delta_step, scale_pos_weight)\n",
    "    for max_delta_step in [ 0 ]\n",
    "    for scale_pos_weight in [1] #np.arange(4.9,6,.2)  #[ 4, 5, 6, 7, 8 ]   #[26, 1, 1.5, 2, 5, 10]\n",
    "]\n",
    "best_delta_step, best_pos_weight = tune_params(names, grid_params)\n",
    "##################\n"
   ]
  },
  {
   "cell_type": "code",
   "execution_count": null,
   "metadata": {},
   "outputs": [],
   "source": []
  },
  {
   "cell_type": "code",
   "execution_count": null,
   "metadata": {},
   "outputs": [],
   "source": [
    "#-------------------------------------------------------------------------------\n",
    "names = ['max_depth', 'min_child_weight'] # ------------------------------------\n",
    "#--------------------------------------------------------------------------------\n",
    "grid_params = [\n",
    "    (max_depth, min_child_weight)\n",
    "    for max_depth in np.arange(1,10,2)\n",
    "    for min_child_weight in np.arange(1,10,2)\n",
    "]\n",
    "best_depth, best_child_weight = tuner(names, grid_params)\n",
    "######################################################################\n",
    "grid_params = [\n",
    "    (max_depth, min_child_weight)\n",
    "    for max_depth in [best_depth-1, best_depth, best_depth+1]\n",
    "    for min_child_weight in [best_child_weight-1, best_child_weight, best_child_weight+1]\n",
    "]\n",
    "best_depth, best_child_weight = tuner(names, grid_params)\n",
    "######################################################################\n",
    "if best_depth == 10 or best_child_weight == 10 :\n",
    "    if best_depth == 10 : max_depth_r = np.arange(10,17,2)\n",
    "    elif best_depth <10 : max_depth_r = [best_depth]\n",
    "    if best_child_weight == 10 : min_child_weight_r = np.arange(10,17,2)\n",
    "    elif best_child_weight < 10 : min_child_weight_r = [best_child_weight]\n",
    "    grid_params = [\n",
    "        (max_depth, min_child_weight)\n",
    "        for max_depth in max_depth_r\n",
    "        for min_child_weight in min_child_weight_r\n",
    "    ]\n",
    "    best_depth, best_child_weight = tuner(names, grid_params)\n",
    "###############################################################\n",
    "if best_depth > 10 or best_child_weight > 10 :\n",
    "    if best_depth > 10 : max_depth_r = [ best_depth-1, best_depth, best_depth+1 ]\n",
    "    else : max_depth_r = [best_depth]\n",
    "    if best_child_weight > 10 : \n",
    "        min_child_weight_r = [best_child_weight-1,best_child_weight,best_child_weight+1]\n",
    "    else : min_child_weight_r = [best_child_weight]\n",
    "    grid_params = [\n",
    "        (max_depth, min_child_weight)\n",
    "        for max_depth in max_depth_r\n",
    "        for min_child_weight in min_child_weight_r\n",
    "    ]\n",
    "    best_depth, best_child_weight = tuner(names, grid_params)\n",
    "################################################################    \n",
    "params['max_depth'] = best_depth\n",
    "params['min_child_weight'] = best_child_weight"
   ]
  },
  {
   "cell_type": "code",
   "execution_count": null,
   "metadata": {},
   "outputs": [],
   "source": [
    "#--------------------------------------------------------------------------------------------\n",
    "name = 'gamma'\n",
    "grid_params = np.arange(1,10,2)\n",
    "best_gamma = tune1param(name, grid_params)\n",
    "######\n",
    "grid_params = np.arange(best_gamma-1, best_gamma+1.1, 0.2)\n",
    "best_gamma = tune1param(name, grid_params)\n",
    "#######\n",
    "grid_params = np.arange(best_gamma-.1, best_gamma+.11, 0.1)\n",
    "best_gamma = tune1param(name, grid_params)\n",
    "########\n",
    "params['gamma'] = best_gamma"
   ]
  },
  {
   "cell_type": "code",
   "execution_count": null,
   "metadata": {},
   "outputs": [],
   "source": [
    "#------------------------------------------------------\n",
    "name = 'max_delta_step'\n",
    "grid_params = [1,2]\n",
    "best_delta_step = tune1paramparam(ngrid_params_params grid_params)\n",
    "##########\n",
    "grid_params = np.arange(.1,1,.2)\n",
    "best_delta_step = tune1param(name, grid_params)\n",
    "##########\n",
    "#grid_params = [ best_params[0] - .1, best_params[0], best_params[0] + .1 ]\n",
    "grid_params = [best_delta_step - .1, best_delta_step, best_delta_step + .1]\n",
    "best_delta_step = tune1param(name, grid_params)\n",
    "###########\n",
    "params['max_delta_step'] = best_delta_step"
   ]
  },
  {
   "cell_type": "code",
   "execution_count": null,
   "metadata": {},
   "outputs": [],
   "source": [
    "#---------------------------------------------------------------------------------------\n",
    "names = ('subsample', 'colsample_bytree')\n",
    "grid_params = [\n",
    "    (subsample, colsample_bytree)\n",
    "    for subsample in np.arange(.1,1,.2)\n",
    "    for colsample_bytree in np.arange(.1,1,.2)\n",
    "]\n",
    "best_subsample, best_colsample = tune2param(names, grid_params)\n",
    "\n",
    "grid_params = [\n",
    "    (subsample, colsample_bytree)\n",
    "    for subsample in np.arange(best_subsample-.1,best_subsample+.11, 0.05)\n",
    "    for colsample_bytree in np.arange(best_colsample-.1, best_colsample+.11, 0.05)\n",
    "]\n",
    "best_subsample, best_colsample = tune2param(names, grid_params)\n",
    "params['subsample'] = best_subsample\n",
    "params['col_sample_bytree'] = best_colsample\n"
   ]
  },
  {
   "cell_type": "code",
   "execution_count": null,
   "metadata": {
    "scrolled": true
   },
   "outputs": [],
   "source": [
    "#--------------------------------------------------------------------------------------------\n",
    "names = ('reg_alpha', 'reg_lambda')\n",
    "grid_params = [\n",
    "    (alpha, lambd)\n",
    "    for alpha in np.arange(1,10,2)\n",
    "    for lambd in [ 1 * 10 ** -i for i in [0,1,2,3,4] ]\n",
    "]\n",
    "best_alpha, best_lambd = tune2param(names, grid_params)\n",
    "######\n",
    "grid_params = [\n",
    "    (alpha, best_lambd)\n",
    "    for alpha in np.arange(best_alpha-1, best_alpha+1.1, 0.5)\n",
    "]\n",
    "best_alpha, best_lambd = tune2param(names, grid_params)\n",
    "##########\n",
    "params['reg_alpha'] = best_alpha\n",
    "params['reg_lambda'] = best_lambd\n"
   ]
  },
  {
   "cell_type": "code",
   "execution_count": null,
   "metadata": {},
   "outputs": [],
   "source": [
    "#-----------------------------------------------------------------------------\n",
    "name = 'eta'\n",
    "grid_params = [.1, .2, .3]\n",
    "best_eta = tune1param(name, grid_params)\n",
    "#######\n",
    "params['eta'] = best_eta"
   ]
  },
  {
   "cell_type": "code",
   "execution_count": null,
   "metadata": {},
   "outputs": [],
   "source": [
    "log.close()"
   ]
  },
  {
   "cell_type": "markdown",
   "metadata": {},
   "source": [
    "# Done tuning"
   ]
  },
  {
   "cell_type": "markdown",
   "metadata": {},
   "source": [
    "------------------"
   ]
  },
  {
   "cell_type": "markdown",
   "metadata": {},
   "source": [
    "# Making Submision Data"
   ]
  },
  {
   "cell_type": "code",
   "execution_count": null,
   "metadata": {},
   "outputs": [],
   "source": [
    "tune1param('eta', [.1])\n",
    "#----------\n",
    "test_preds = []\n",
    "for p in test_preds_dict.values() :\n",
    "    if len(test_preds) == 0 :\n",
    "        test_preds = p\n",
    "    else :\n",
    "        test_preds += p\n",
    "test_preds /= len(test_preds_dict)\n",
    "#---------\n",
    "try :\n",
    "    _ = len(ids)\n",
    "except :\n",
    "    ids = np.load('../../nn/data/test_ids.npy')\n",
    "\n",
    "with open('../data/submission.csv', 'wb') as f :\n",
    "\tf.write('id,target')\n",
    "    \n",
    "\tfor i,p in zip(ids,test_preds) :\n",
    "\t\tf.write('\\n%d,%.4f'%(i,p))"
   ]
  }
 ],
 "metadata": {
  "kernelspec": {
   "display_name": "Python 2",
   "language": "python",
   "name": "python2"
  },
  "language_info": {
   "codemirror_mode": {
    "name": "ipython",
    "version": 2
   },
   "file_extension": ".py",
   "mimetype": "text/x-python",
   "name": "python",
   "nbconvert_exporter": "python",
   "pygments_lexer": "ipython2",
   "version": "2.7.14"
  }
 },
 "nbformat": 4,
 "nbformat_minor": 2
}
