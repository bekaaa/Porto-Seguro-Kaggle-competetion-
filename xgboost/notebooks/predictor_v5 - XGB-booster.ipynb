{
 "cells": [
  {
   "cell_type": "code",
   "execution_count": null,
   "metadata": {
    "scrolled": true
   },
   "outputs": [],
   "source": [
    "import numpy as np\n",
    "from sklearn.model_selection import train_test_split\n",
    "import xgboost as xgb\n",
    "#from sklearn.metrics import roc_auc_score\n",
    "#import matplotlib\n",
    "#import matplotlib.pyplot as py\n",
    "\n",
    "#import log\n",
    "from xgb_tuner import xgb_tuner\n",
    "\n",
    "#%matplotlib inline\n",
    "seed = 0\n",
    "np.random.seed(seed)"
   ]
  },
  {
   "cell_type": "code",
   "execution_count": null,
   "metadata": {},
   "outputs": [],
   "source": [
    "# preparing training data.\n",
    "train_sample_size = 10000\n",
    "val_size = 3000\n",
    "\n",
    "train = np.load('../../nn/data/train_scaled.npy')\n",
    "\n",
    "#train = train[:train_sample_size,:]\n",
    "labels = train[:,0]   \n",
    "train = train[:,1:]\n",
    "\n",
    "zero_important_features = [3, 5, 15, 22, 23, 24, 25, 26, 35, 39, 45, 48, 49, 56, 57, 58, 59, 60,\\\n",
    "                           62, 68, 71, 72, 73, 74, 79, 80, 83, 88, 91, 94, 95, 96, 97, 118, 119, 120]\n",
    "\n",
    "above_0_important_features = [ i for i in range(train.shape[1]) if i not in zero_important_features ]\n",
    "train = train[:, above_0_important_features]\n",
    "\n",
    "x_train, x_valid, y_train, y_valid = train_test_split(train,labels,random_state=seed,test_size=val_size)\n",
    "\n",
    "dtrain = xgb.DMatrix(x_train, label=y_train)\n",
    "dvalid = xgb.DMatrix(x_valid, label=y_valid)\n",
    "\n",
    "del train, labels, x_train, x_valid, y_train, y_valid"
   ]
  },
  {
   "cell_type": "code",
   "execution_count": null,
   "metadata": {},
   "outputs": [],
   "source": [
    "# preparing test data.\n",
    "if 0 :\n",
    "    test = np.load('../../nn/data/test_scaled.npy')\n",
    "    test = test[:, above_0_important_features]\n",
    "    dtest = xgb.DMatrix(test)\n",
    "    del test"
   ]
  },
  {
   "cell_type": "code",
   "execution_count": null,
   "metadata": {},
   "outputs": [],
   "source": [
    "from xgb_parameterizing import parametizer"
   ]
  },
  {
   "cell_type": "code",
   "execution_count": null,
   "metadata": {},
   "outputs": [],
   "source": [
    "def preproc(train, test=None) :\n",
    "    \n",
    "    from sklearn.model_selection import train_test_split\n",
    "    import xgboost as xgb\n",
    "    \n",
    "    train_sample_size = 5000\n",
    "    dev_size = 5000\n",
    "    \n",
    "    #train = train[:train_sample_size,:]\n",
    "    \n",
    "    labels = train[:,0]\n",
    "    train = train[:,1:]\n",
    "    \n",
    "    zero_important_features = [3, 5, 15, 22, 23, 24, 25, 26, 35, 39, 45, 48, 49, 56, 57, 58, 59, 60,\\\n",
    "                           62, 68, 71, 72, 73, 74, 79, 80, 83, 88, 91, 94, 95, 96, 97, 118, 119, 120]\n",
    "\n",
    "    above_0_important_features = [ i for i in range(train.shape[1]) if i not in zero_important_features ]\n",
    "    train = train[:, above_0_important_features]\n",
    "    \n",
    "    \n",
    "    x_train, x_dev, y_train, y_dev = train_test_split(train,labels,random_state=0,test_size=dev_size)\n",
    "\n",
    "    dtrain = xgb.DMatrix(x_train, label=y_train)\n",
    "    dvalid = xgb.DMatrix(x_dev, label=y_dev)\n",
    "    dtest  = xgb.DMatrix(test) if test else None\n",
    "\n",
    "    del train, labels, x_train, x_dev, y_train, y_dev, test\n",
    "    return dtrain, dvalid, dtest"
   ]
  },
  {
   "cell_type": "code",
   "execution_count": null,
   "metadata": {},
   "outputs": [],
   "source": [
    "rizer = parametizer('../../nn/data/train_scaled.npy', preproc=preproc, log_file_index=0)"
   ]
  },
  {
   "cell_type": "code",
   "execution_count": null,
   "metadata": {
    "scrolled": false
   },
   "outputs": [],
   "source": [
    "\n",
    "rizer.doall()"
   ]
  },
  {
   "cell_type": "code",
   "execution_count": null,
   "metadata": {
    "scrolled": false
   },
   "outputs": [],
   "source": []
  },
  {
   "cell_type": "markdown",
   "metadata": {},
   "source": []
  },
  {
   "cell_type": "code",
   "execution_count": null,
   "metadata": {},
   "outputs": [],
   "source": [
    "rizer.tune_model_complexity()\n"
   ]
  },
  {
   "cell_type": "markdown",
   "metadata": {},
   "source": [
    "#  Automated Parameter Tuning"
   ]
  },
  {
   "cell_type": "code",
   "execution_count": null,
   "metadata": {},
   "outputs": [],
   "source": [
    "ROUNDS = 400\n",
    "\n",
    "ESROUNDS = 50\n",
    "\n",
    "params = {\n",
    "    'max_delta_step' : 0,\n",
    "    'scale_pos_weight' : 1, # calculated for each fold. #neg / #pos\n",
    "    \n",
    "    'max_depth' : 6,\n",
    "    'min_child_weight' : 1,\n",
    "    \n",
    "    'subsample' : 1,\n",
    "    'colsample_bytree' : 1,\n",
    "    \n",
    "    'reg_alpha' : 0,#5\n",
    "    'reg_lambda' : 1,#0.0001,\n",
    "    \n",
    "    'gamma' : 0,\n",
    "    \n",
    "    'eta' : 0.3,\n",
    "    \n",
    "    'objective' : \"binary:logistic\",\n",
    "    'n_jobs' : -1,\n",
    "    'eval_metric' : 'auc',\n",
    "    'random_seed' : seed\n",
    "}"
   ]
  },
  {
   "cell_type": "code",
   "execution_count": null,
   "metadata": {},
   "outputs": [],
   "source": [
    "tuner = xgb_tuner(dtrain, dvalid, params, logging=True, log_file_index=6, rounds=ROUNDS,srounds=ESROUNDS)\n",
    "del dtrain, dvalid"
   ]
  },
  {
   "cell_type": "code",
   "execution_count": null,
   "metadata": {},
   "outputs": [],
   "source": [
    "#--------------------------------------------------------------\n",
    "# Adjusting unbalanced data. [max_delta_step, scale_pos_weight]\n",
    "#--------------------------------------------------------------\n",
    "names = ['max_delta_step', 'scale_pos_weight']\n",
    "grid_params = [\n",
    "    (max_delta_step, scale_pos_weight)\n",
    "    for max_delta_step in [ 0 ]\n",
    "    for scale_pos_weight in [1] #np.arange(4.9,6,.2)  #[ 4, 5, 6, 7, 8 ]   #[26, 1, 1.5, 2, 5, 10]\n",
    "]\n",
    "#best_delta_step, best_pos_weight = tune_params(names, grid_params)\n",
    "##################\n"
   ]
  },
  {
   "cell_type": "code",
   "execution_count": null,
   "metadata": {},
   "outputs": [],
   "source": [
    "\n",
    "p1 = set(np.arange(1,10,2))\n",
    "p2 = set(np.arange(1,10,2))\n",
    "p1.add(2)\n",
    "p1.add(3)\n",
    "p1.add(4)\n"
   ]
  },
  {
   "cell_type": "code",
   "execution_count": null,
   "metadata": {},
   "outputs": [],
   "source": [
    "p1"
   ]
  },
  {
   "cell_type": "code",
   "execution_count": null,
   "metadata": {},
   "outputs": [],
   "source": [
    "#-------------------------------------------------------------------------------\n",
    "names = ['max_depth', 'min_child_weight'] # ------------------------------------\n",
    "#--------------------------------------------------------------------------------\n",
    "grid_params = [\n",
    "    (max_depth, min_child_weight)\n",
    "    for max_depth in np.arange(1,10,2)\n",
    "    for min_child_weight in np.arange(1,10,2)\n",
    "]\n",
    "best_depth, best_child_weight = tuner(names, grid_params)\n",
    "\n",
    "p1 = set(np.arange(1,10,2))\n",
    "p2 = set(np.arange(1,10,2))\n",
    "\n",
    "######################################################################\n",
    "grid_params = [\n",
    "    (max_depth, min_child_weight)\n",
    "    for max_depth in [best_depth-1, best_depth, best_depth+1]\n",
    "    for min_child_weight in [best_child_weight-1, best_child_weight, best_child_weight+1]\n",
    "]\n",
    "best_depth, best_child_weight = tuner(names, grid_params)\n",
    "######################################################################\n",
    "if best_depth == 10 or best_child_weight == 10 :\n",
    "    if best_depth == 10 : max_depth_r = np.arange(10,17,2)\n",
    "    elif best_depth <10 : max_depth_r = [best_depth]\n",
    "    if best_child_weight == 10 : min_child_weight_r = np.arange(10,17,2)\n",
    "    elif best_child_weight < 10 : min_child_weight_r = [best_child_weight]\n",
    "    grid_params = [\n",
    "        (max_depth, min_child_weight)\n",
    "        for max_depth in max_depth_r\n",
    "        for min_child_weight in min_child_weight_r\n",
    "    ]\n",
    "    best_depth, best_child_weight = tuner(names, grid_params)\n",
    "###############################################################\n",
    "if best_depth > 10 or best_child_weight > 10 :\n",
    "    if best_depth > 10 : max_depth_r = [ best_depth-1, best_depth, best_depth+1 ]\n",
    "    else : max_depth_r = [best_depth]\n",
    "    if best_child_weight > 10 : \n",
    "        min_child_weight_r = [best_child_weight-1,best_child_weight,best_child_weight+1]\n",
    "    else : min_child_weight_r = [best_child_weight]\n",
    "    grid_params = [\n",
    "        (max_depth, min_child_weight)\n",
    "        for max_depth in max_depth_r\n",
    "        for min_child_weight in min_child_weight_r\n",
    "    ]\n",
    "    best_depth, best_child_weight = tuner(names, grid_params)\n",
    "################################################################    \n",
    "params['max_depth'] = best_depth\n",
    "params['min_child_weight'] = best_child_weight"
   ]
  },
  {
   "cell_type": "code",
   "execution_count": null,
   "metadata": {},
   "outputs": [],
   "source": []
  },
  {
   "cell_type": "code",
   "execution_count": null,
   "metadata": {},
   "outputs": [],
   "source": []
  },
  {
   "cell_type": "code",
   "execution_count": null,
   "metadata": {},
   "outputs": [],
   "source": []
  },
  {
   "cell_type": "code",
   "execution_count": null,
   "metadata": {},
   "outputs": [],
   "source": [
    "#assert xgb_tuner.cvfolds != None"
   ]
  },
  {
   "cell_type": "code",
   "execution_count": null,
   "metadata": {
    "scrolled": false
   },
   "outputs": [],
   "source": [
    "tuner(names, grid_params)"
   ]
  },
  {
   "cell_type": "markdown",
   "metadata": {},
   "source": [
    "-------------------"
   ]
  },
  {
   "cell_type": "code",
   "execution_count": null,
   "metadata": {
    "scrolled": true
   },
   "outputs": [],
   "source": [
    "#--------------------------------------------------------------\n",
    "# Adjusting unbalanced data. [max_delta_step, scale_pos_weight]\n",
    "#--------------------------------------------------------------\n",
    "names = ('max_delta_step', 'scale_pos_weight')\n",
    "grid_params = [\n",
    "    (max_delta_step, scale_pos_weight)\n",
    "    for max_delta_step in [ 0 ]\n",
    "    for scale_pos_weight in [1] #np.arange(4.9,6,.2)  #[ 4, 5, 6, 7, 8 ]   #[26, 1, 1.5, 2, 5, 10]\n",
    "]\n",
    "best_delta_step, best_pos_weight = tune_params(names, grid_params)\n",
    "##################\n"
   ]
  },
  {
   "cell_type": "code",
   "execution_count": null,
   "metadata": {},
   "outputs": [],
   "source": []
  },
  {
   "cell_type": "code",
   "execution_count": null,
   "metadata": {},
   "outputs": [],
   "source": [
    "#-------------------------------------------------------------------------------\n",
    "names = ['max_depth', 'min_child_weight'] # ------------------------------------\n",
    "#--------------------------------------------------------------------------------\n",
    "grid_params = [\n",
    "    (max_depth, min_child_weight)\n",
    "    for max_depth in np.arange(1,10,2)\n",
    "    for min_child_weight in np.arange(1,10,2)\n",
    "]\n",
    "best_depth, best_child_weight = tuner(names, grid_params)\n",
    "######################################################################\n",
    "grid_params = [\n",
    "    (max_depth, min_child_weight)\n",
    "    for max_depth in [best_depth-1, best_depth, best_depth+1]\n",
    "    for min_child_weight in [best_child_weight-1, best_child_weight, best_child_weight+1]\n",
    "]\n",
    "best_depth, best_child_weight = tuner(names, grid_params)\n",
    "######################################################################\n",
    "if best_depth == 10 or best_child_weight == 10 :\n",
    "    if best_depth == 10 : max_depth_r = np.arange(10,17,2)\n",
    "    elif best_depth <10 : max_depth_r = [best_depth]\n",
    "    if best_child_weight == 10 : min_child_weight_r = np.arange(10,17,2)\n",
    "    elif best_child_weight < 10 : min_child_weight_r = [best_child_weight]\n",
    "    grid_params = [\n",
    "        (max_depth, min_child_weight)\n",
    "        for max_depth in max_depth_r\n",
    "        for min_child_weight in min_child_weight_r\n",
    "    ]\n",
    "    best_depth, best_child_weight = tuner(names, grid_params)\n",
    "###############################################################\n",
    "if best_depth > 10 or best_child_weight > 10 :\n",
    "    if best_depth > 10 : max_depth_r = [ best_depth-1, best_depth, best_depth+1 ]\n",
    "    else : max_depth_r = [best_depth]\n",
    "    if best_child_weight > 10 : \n",
    "        min_child_weight_r = [best_child_weight-1,best_child_weight,best_child_weight+1]\n",
    "    else : min_child_weight_r = [best_child_weight]\n",
    "    grid_params = [\n",
    "        (max_depth, min_child_weight)\n",
    "        for max_depth in max_depth_r\n",
    "        for min_child_weight in min_child_weight_r\n",
    "    ]\n",
    "    best_depth, best_child_weight = tuner(names, grid_params)\n",
    "################################################################    \n",
    "params['max_depth'] = best_depth\n",
    "params['min_child_weight'] = best_child_weight"
   ]
  },
  {
   "cell_type": "code",
   "execution_count": null,
   "metadata": {},
   "outputs": [],
   "source": [
    "#--------------------------------------------------------------------------------------------\n",
    "name = 'gamma'\n",
    "grid_params = np.arange(1,10,2)\n",
    "best_gamma = tune1param(name, grid_params)\n",
    "######\n",
    "grid_params = np.arange(best_gamma-1, best_gamma+1.1, 0.2)\n",
    "best_gamma = tune1param(name, grid_params)\n",
    "#######\n",
    "grid_params = np.arange(best_gamma-.1, best_gamma+.11, 0.1)\n",
    "best_gamma = tune1param(name, grid_params)\n",
    "########\n",
    "params['gamma'] = best_gamma"
   ]
  },
  {
   "cell_type": "code",
   "execution_count": null,
   "metadata": {},
   "outputs": [],
   "source": [
    "#------------------------------------------------------\n",
    "name = 'max_delta_step'\n",
    "grid_params = [1,2]\n",
    "best_delta_step = tune1paramparam(ngrid_params_params grid_params)\n",
    "##########\n",
    "grid_params = np.arange(.1,1,.2)\n",
    "best_delta_step = tune1param(name, grid_params)\n",
    "##########\n",
    "#grid_params = [ best_params[0] - .1, best_params[0], best_params[0] + .1 ]\n",
    "grid_params = [best_delta_step - .1, best_delta_step, best_delta_step + .1]\n",
    "best_delta_step = tune1param(name, grid_params)\n",
    "###########\n",
    "params['max_delta_step'] = best_delta_step"
   ]
  },
  {
   "cell_type": "code",
   "execution_count": null,
   "metadata": {},
   "outputs": [],
   "source": [
    "#---------------------------------------------------------------------------------------\n",
    "names = ('subsample', 'colsample_bytree')\n",
    "grid_params = [\n",
    "    (subsample, colsample_bytree)\n",
    "    for subsample in np.arange(.1,1,.2)\n",
    "    for colsample_bytree in np.arange(.1,1,.2)\n",
    "]\n",
    "best_subsample, best_colsample = tune2param(names, grid_params)\n",
    "\n",
    "grid_params = [\n",
    "    (subsample, colsample_bytree)\n",
    "    for subsample in np.arange(best_subsample-.1,best_subsample+.11, 0.05)\n",
    "    for colsample_bytree in np.arange(best_colsample-.1, best_colsample+.11, 0.05)\n",
    "]\n",
    "best_subsample, best_colsample = tune2param(names, grid_params)\n",
    "params['subsample'] = best_subsample\n",
    "params['col_sample_bytree'] = best_colsample\n"
   ]
  },
  {
   "cell_type": "code",
   "execution_count": null,
   "metadata": {
    "scrolled": true
   },
   "outputs": [],
   "source": [
    "#--------------------------------------------------------------------------------------------\n",
    "names = ('reg_alpha', 'reg_lambda')\n",
    "grid_params = [\n",
    "    (alpha, lambd)\n",
    "    for alpha in np.arange(1,10,2)\n",
    "    for lambd in [ 1 * 10 ** -i for i in [0,1,2,3,4] ]\n",
    "]\n",
    "best_alpha, best_lambd = tune2param(names, grid_params)\n",
    "######\n",
    "grid_params = [\n",
    "    (alpha, best_lambd)\n",
    "    for alpha in np.arange(best_alpha-1, best_alpha+1.1, 0.5)\n",
    "]\n",
    "best_alpha, best_lambd = tune2param(names, grid_params)\n",
    "##########\n",
    "params['reg_alpha'] = best_alpha\n",
    "params['reg_lambda'] = best_lambd\n"
   ]
  },
  {
   "cell_type": "code",
   "execution_count": null,
   "metadata": {},
   "outputs": [],
   "source": [
    "#-----------------------------------------------------------------------------\n",
    "name = 'eta'\n",
    "grid_params = [.1, .2, .3]\n",
    "best_eta = tune1param(name, grid_params)\n",
    "#######\n",
    "params['eta'] = best_eta"
   ]
  },
  {
   "cell_type": "code",
   "execution_count": null,
   "metadata": {},
   "outputs": [],
   "source": [
    "log.close()"
   ]
  },
  {
   "cell_type": "markdown",
   "metadata": {},
   "source": [
    "# Done tuning"
   ]
  },
  {
   "cell_type": "markdown",
   "metadata": {},
   "source": [
    "------------------"
   ]
  },
  {
   "cell_type": "markdown",
   "metadata": {},
   "source": [
    "# Making Submision Data"
   ]
  },
  {
   "cell_type": "code",
   "execution_count": null,
   "metadata": {},
   "outputs": [],
   "source": [
    "tune1param('eta', [.1])\n",
    "#----------\n",
    "test_preds = []\n",
    "for p in test_preds_dict.values() :\n",
    "    if len(test_preds) == 0 :\n",
    "        test_preds = p\n",
    "    else :\n",
    "        test_preds += p\n",
    "test_preds /= len(test_preds_dict)\n",
    "#---------\n",
    "try :\n",
    "    _ = len(ids)\n",
    "except :\n",
    "    ids = np.load('../../nn/data/test_ids.npy')\n",
    "\n",
    "with open('../data/submission.csv', 'wb') as f :\n",
    "\tf.write('id,target')\n",
    "    \n",
    "\tfor i,p in zip(ids,test_preds) :\n",
    "\t\tf.write('\\n%d,%.4f'%(i,p))"
   ]
  }
 ],
 "metadata": {
  "kernelspec": {
   "display_name": "Python 2",
   "language": "python",
   "name": "python2"
  },
  "language_info": {
   "codemirror_mode": {
    "name": "ipython",
    "version": 2
   },
   "file_extension": ".py",
   "mimetype": "text/x-python",
   "name": "python",
   "nbconvert_exporter": "python",
   "pygments_lexer": "ipython2",
   "version": "2.7.14"
  }
 },
 "nbformat": 4,
 "nbformat_minor": 2
}
