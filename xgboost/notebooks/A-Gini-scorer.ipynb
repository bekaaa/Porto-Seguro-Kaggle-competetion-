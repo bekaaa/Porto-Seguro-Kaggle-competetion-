{
 "cells": [
  {
   "cell_type": "code",
   "execution_count": 1,
   "metadata": {},
   "outputs": [],
   "source": [
    "import numpy as np\n",
    "from sklearn.metrics import make_scorer\n",
    "from sklearn.model_selection import GridSearchCV, StratifiedKFold\n",
    "from xgboost import XGBClassifier\n",
    "import cPickle as pickle\n",
    "np.random.seed = 0\n",
    "seed = 0"
   ]
  },
  {
   "cell_type": "code",
   "execution_count": 2,
   "metadata": {},
   "outputs": [],
   "source": [
    "train = np.load('../../nn/data/train_scaled.npy')\n",
    "test = np.load('../../nn/data/test_scaled.npy')"
   ]
  },
  {
   "cell_type": "code",
   "execution_count": 3,
   "metadata": {},
   "outputs": [],
   "source": [
    "labels = train[:,0]\n",
    "train = train[:,1:]"
   ]
  },
  {
   "cell_type": "code",
   "execution_count": null,
   "metadata": {},
   "outputs": [],
   "source": [
    "def gini(actual, pred):\n",
    "    assert (len(actual) == len(pred))\n",
    "    all = np.asarray(np.c_[actual, pred, np.arange(len(actual))], dtype=np.float)\n",
    "    all = all[np.lexsort((all[:, 2], -1 * all[:, 1]))]\n",
    "    totalLosses = all[:, 0].sum()\n",
    "    giniSum = all[:, 0].cumsum().sum() / totalLosses\n",
    "\n",
    "    giniSum -= (len(actual) + 1) / 2.\n",
    "    return giniSum / len(actual)\n",
    "\n",
    "\n",
    "def gini_normalized(actual, pred):\n",
    "    return gini(actual, pred) / gini(actual, actual)\n",
    "\n",
    "#gini_scorer = make_scorer(gini_normalized, greater_is_better = True)"
   ]
  },
  {
   "cell_type": "code",
   "execution_count": null,
   "metadata": {},
   "outputs": [],
   "source": [
    "#import sys\n",
    "#sys.path.append('../py')\n",
    "#import xgboost_optimizer"
   ]
  },
  {
   "cell_type": "code",
   "execution_count": null,
   "metadata": {},
   "outputs": [],
   "source": []
  },
  {
   "cell_type": "code",
   "execution_count": 4,
   "metadata": {},
   "outputs": [],
   "source": [
    "# from CPMP's kernel https://www.kaggle.com/cpmpml/extremely-fast-gini-computation\n",
    "\n",
    "def eval_gini(y_true, y_prob):\n",
    "    y_true = np.asarray(y_true)\n",
    "    y_true = y_true[np.argsort(y_prob)]\n",
    "    ntrue = 0\n",
    "    gini = 0\n",
    "    delta = 0\n",
    "    n = len(y_true)\n",
    "    for i in range(n-1, -1, -1):\n",
    "        y_i = y_true[i]\n",
    "        ntrue += y_i\n",
    "        gini += y_i * delta\n",
    "        delta += 1 - y_i\n",
    "    gini = 1 - 2 * gini / (ntrue * (n - ntrue))\n",
    "    return gini\n",
    "\n",
    "\n",
    "\n",
    "# Funcitons from olivier's kernel\n",
    "# https://www.kaggle.com/ogrellier/xgb-classifier-upsampling-lb-0-283\n",
    "\n",
    "def gini_xgb(preds, dtrain):\n",
    "    labels = dtrain.get_label()\n",
    "    gini_score = -eval_gini(labels, preds)\n",
    "    return [('gini', gini_score)]\n"
   ]
  },
  {
   "cell_type": "code",
   "execution_count": 5,
   "metadata": {},
   "outputs": [],
   "source": [
    "MAX_ROUNDS = 400\n",
    "OPTIMIZE_ROUNDS = False\n",
    "LEARNING_RATE = 0.07\n",
    "EARLY_STOPPING_ROUNDS = 50  \n",
    "\n",
    "params = {\n",
    "    'n_estimators' : MAX_ROUNDS,\n",
    "    'objective' : \"binary:logistic\",\n",
    "    'learning_rate' : LEARNING_RATE, \n",
    "    'scale_pos_weight' : 1.6,\n",
    "    'subsample' : .8,\n",
    "    'colsample_bytree' : .8,\n",
    "    'min_child_weight' : 6,\n",
    "    'max_depth' : 4,\n",
    "    'gamma' : 10,\n",
    "    'reg_alpha' : 8,\n",
    "    'reg_lambda' : 1.3,\n",
    "    'n_jobs' : 4,\n",
    "    'eval_metric' : 'auc'\n",
    "}\n",
    "model = XGBClassifier(**params)"
   ]
  },
  {
   "cell_type": "code",
   "execution_count": 6,
   "metadata": {},
   "outputs": [
    {
     "name": "stdout",
     "output_type": "stream",
     "text": [
      "\n",
      "Fold  0\n",
      "('  Best N trees = ', 246)\n",
      "('  Best gini = ', -0.284295)\n",
      "('  Gini = ', 0.28385665619858058)\n",
      "It took :  469 seconds\n",
      "\n",
      "Fold  1\n",
      "('  Best N trees = ', 272)\n",
      "('  Best gini = ', -0.283461)\n",
      "('  Gini = ', 0.28293167449632617)\n",
      "It took :  488 seconds\n",
      "\n",
      "Fold  2\n",
      "('  Best N trees = ', 400)\n",
      "('  Best gini = ', -0.284466)\n",
      "('  Gini = ', 0.28446646049829594)\n",
      "It took :  601 seconds\n",
      "\n",
      "Fold  3\n",
      "('  Best N trees = ', 326)\n",
      "('  Best gini = ', -0.280621)\n",
      "('  Gini = ', 0.28047873418360059)\n",
      "It took :  565 seconds\n",
      "\n",
      "Fold  4\n",
      "('  Best N trees = ', 344)\n",
      "('  Best gini = ', -0.282837)\n",
      "('  Gini = ', 0.2822144268377248)\n",
      "It took :  599 seconds\n"
     ]
    }
   ],
   "source": [
    "test_pred = np.zeros(test.shape[0])\n",
    "K = 5\n",
    "kfold = StratifiedKFold(n_splits=K, shuffle=True, random_state=seed)\n",
    "for i, (train_indices, valid_indices) in enumerate(kfold.split(train,labels.reshape(-1))) :\n",
    "    \n",
    "    x_train, y_train = train[train_indices], labels[train_indices]\n",
    "    x_valid, y_valid = train[valid_indices], labels[valid_indices]\n",
    "    \n",
    "    eval_set = [(x_valid, y_valid)]\n",
    "    st = np.datetime64('now')\n",
    "    print \"\\nFold \", i \n",
    "    _ = model.fit(x_train, y_train, eval_set=eval_set, eval_metric=gini_xgb, \n",
    "              early_stopping_rounds=EARLY_STOPPING_ROUNDS, verbose=False)\n",
    "    #_ = model.fit(x_train, y_train)\n",
    "    \n",
    "    print( \"  Best N trees = \", model.best_ntree_limit )\n",
    "    print( \"  Best gini = \", model.best_score )\n",
    "    \n",
    "    pred = model.predict_proba(x_valid)[:,1]\n",
    "    print( \"  Gini = \", eval_gini(y_valid, pred) )\n",
    "    print \"It took : \", np.datetime64('now') - st\n",
    "    \n",
    "    test_pred += model.predict_proba(test)[:,1]\n",
    "test_pred /= K"
   ]
  },
  {
   "cell_type": "code",
   "execution_count": null,
   "metadata": {},
   "outputs": [],
   "source": [
    "temp = test_pred"
   ]
  },
  {
   "cell_type": "code",
   "execution_count": 7,
   "metadata": {},
   "outputs": [],
   "source": [
    "ids = np.load('../../nn/data/test_ids.npy')"
   ]
  },
  {
   "cell_type": "code",
   "execution_count": 8,
   "metadata": {},
   "outputs": [],
   "source": [
    "with open('../data/submission.csv', 'wb') as f :\n",
    "\tf.write('id,target')\n",
    "\tfor i,p in zip(ids,test_pred) :\n",
    "\t\tf.write('\\n%d,%.4f'%(i,p))"
   ]
  },
  {
   "cell_type": "code",
   "execution_count": 9,
   "metadata": {},
   "outputs": [],
   "source": [
    "with open('../data/model.pkl','wb') as f :\n",
    "    pickle.dump(model, f)"
   ]
  },
  {
   "cell_type": "code",
   "execution_count": null,
   "metadata": {},
   "outputs": [],
   "source": [
    "temp[:10]"
   ]
  },
  {
   "cell_type": "code",
   "execution_count": null,
   "metadata": {},
   "outputs": [],
   "source": [
    "train_pred = model.predict_proba(train)[:,1]"
   ]
  },
  {
   "cell_type": "code",
   "execution_count": null,
   "metadata": {
    "scrolled": true
   },
   "outputs": [],
   "source": [
    "eval_gini(labels, train_pred)"
   ]
  },
  {
   "cell_type": "code",
   "execution_count": null,
   "metadata": {},
   "outputs": [],
   "source": [
    "temp2 = np.zeros(temp.shape[0])\n",
    "for i in range(temp.shape[0]) :\n",
    "    if temp[i] >= 0.5 : temp2[i] = 1\n"
   ]
  },
  {
   "cell_type": "code",
   "execution_count": null,
   "metadata": {},
   "outputs": [],
   "source": [
    "sum([1 for i in test_pred if i >= 0.5])"
   ]
  },
  {
   "cell_type": "code",
   "execution_count": null,
   "metadata": {},
   "outputs": [],
   "source": [
    "test = np.load('../../nn/data/test_scaled_del.npy')"
   ]
  },
  {
   "cell_type": "code",
   "execution_count": null,
   "metadata": {},
   "outputs": [],
   "source": [
    "p = model.predict_proba(test)[:,1]"
   ]
  },
  {
   "cell_type": "code",
   "execution_count": null,
   "metadata": {},
   "outputs": [],
   "source": [
    "eval_gini(labels[:10000], p)"
   ]
  },
  {
   "cell_type": "code",
   "execution_count": null,
   "metadata": {},
   "outputs": [],
   "source": [
    "with open('../data/model.pkl', 'rb') as f:\n",
    "    model = pickle.load(f)"
   ]
  },
  {
   "cell_type": "code",
   "execution_count": null,
   "metadata": {},
   "outputs": [],
   "source": [
    "test[0]"
   ]
  },
  {
   "cell_type": "code",
   "execution_count": null,
   "metadata": {},
   "outputs": [],
   "source": [
    "train[:10000][0]"
   ]
  },
  {
   "cell_type": "code",
   "execution_count": null,
   "metadata": {},
   "outputs": [],
   "source": []
  }
 ],
 "metadata": {
  "kernelspec": {
   "display_name": "Python 2",
   "language": "python",
   "name": "python2"
  },
  "language_info": {
   "codemirror_mode": {
    "name": "ipython",
    "version": 2
   },
   "file_extension": ".py",
   "mimetype": "text/x-python",
   "name": "python",
   "nbconvert_exporter": "python",
   "pygments_lexer": "ipython2",
   "version": "2.7.13"
  }
 },
 "nbformat": 4,
 "nbformat_minor": 2
}
