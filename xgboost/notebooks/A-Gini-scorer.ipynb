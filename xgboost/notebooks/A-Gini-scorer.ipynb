{
 "cells": [
  {
   "cell_type": "code",
   "execution_count": 1,
   "metadata": {},
   "outputs": [],
   "source": [
    "import numpy as np\n",
    "from sklearn.metrics import make_scorer\n",
    "from sklearn.model_selection import GridSearchCV, StratifiedKFold\n",
    "from xgboost import XGBClassifier\n",
    "import cPickle as pickle\n",
    "np.random.seed = 0\n",
    "seed = 0"
   ]
  },
  {
   "cell_type": "code",
   "execution_count": 44,
   "metadata": {},
   "outputs": [],
   "source": [
    "#train = np.load('../../nn/data/train_scaled.npy')\n",
    "test_sub = np.load('../../nn/data/test_scaled.npy')"
   ]
  },
  {
   "cell_type": "code",
   "execution_count": 3,
   "metadata": {},
   "outputs": [],
   "source": [
    "labels = train[:,0]\n",
    "train = train[:,1:]"
   ]
  },
  {
   "cell_type": "code",
   "execution_count": 24,
   "metadata": {},
   "outputs": [],
   "source": [
    "test_size = 3000\n",
    "#test_idx = np.random.randint(0, train.shape[0], test_size)\n",
    "test_data = train[:test_size,]\n",
    "test_labels = labels[:test_size,]\n",
    "train_data = train[test_size:,]\n",
    "train_labels = labels[test_size:,]"
   ]
  },
  {
   "cell_type": "code",
   "execution_count": null,
   "metadata": {},
   "outputs": [],
   "source": [
    "#import sys\n",
    "#sys.path.append('../py')\n",
    "#import xgboost_optimizer"
   ]
  },
  {
   "cell_type": "code",
   "execution_count": 29,
   "metadata": {},
   "outputs": [],
   "source": [
    "# from CPMP's kernel https://www.kaggle.com/cpmpml/extremely-fast-gini-computation\n",
    "\n",
    "def eval_gini(y_true, y_prob):\n",
    "    y_true = np.asarray(y_true)\n",
    "    y_true = y_true[np.argsort(y_prob)]\n",
    "    ntrue = 0\n",
    "    gini = 0\n",
    "    delta = 0\n",
    "    n = len(y_true)\n",
    "    for i in range(n-1, -1, -1):\n",
    "        y_i = y_true[i]\n",
    "        ntrue += y_i\n",
    "        gini += y_i * delta\n",
    "        delta += 1 - y_i\n",
    "    gini = 1 - 2 * gini / (ntrue * (n - ntrue))\n",
    "    return gini\n",
    "\n",
    "\n",
    "\n",
    "# Funcitons from olivier's kernel\n",
    "# https://www.kaggle.com/ogrellier/xgb-classifier-upsampling-lb-0-283\n",
    "\n",
    "def gini_xgb(preds, dtrain):\n",
    "    labels = dtrain.get_label()\n",
    "    gini_score = -eval_gini(labels, preds)\n",
    "    return [('gini', gini_score)]\n"
   ]
  },
  {
   "cell_type": "code",
   "execution_count": 39,
   "metadata": {},
   "outputs": [],
   "source": [
    "MAX_ROUNDS = 400\n",
    "OPTIMIZE_ROUNDS = False\n",
    "LEARNING_RATE = 0.07\n",
    "EARLY_STOPPING_ROUNDS = 50  \n",
    "\n",
    "params = {\n",
    "    'n_estimators' : MAX_ROUNDS,\n",
    "    'objective' : \"binary:logistic\",\n",
    "    'learning_rate' : LEARNING_RATE, \n",
    "    'scale_pos_weight' : 1.6,\n",
    "    'subsample' : .8,\n",
    "    'colsample_bytree' : .8,\n",
    "    'min_child_weight' : 6,\n",
    "    'max_depth' : 4,\n",
    "    'gamma' : 10,\n",
    "    'reg_alpha' : 8,\n",
    "    'reg_lambda' : 1.3,\n",
    "    'n_jobs' : -1,\n",
    "    'eval_metric' : 'auc'\n",
    "}\n",
    "model = XGBClassifier(**params)"
   ]
  },
  {
   "cell_type": "code",
   "execution_count": 40,
   "metadata": {},
   "outputs": [
    {
     "name": "stdout",
     "output_type": "stream",
     "text": [
      "\n",
      "Fold  0\n",
      "('  Best N trees = ', 182)\n",
      "('  Best gini = ', -0.276029)\n",
      "('  Gini = ', 0.27599497377305682)\n",
      "It took :  564 seconds\n",
      "\n",
      "Fold  1\n",
      "('  Best N trees = ', 202)\n",
      "('  Best gini = ', -0.277393)\n",
      "('  Gini = ', 0.27710313624184202)\n",
      "It took :  597 seconds\n"
     ]
    }
   ],
   "source": [
    "test_pred = np.zeros(test_data.shape[0])\n",
    "K = 2\n",
    "kfold = StratifiedKFold(n_splits=K, shuffle=True, random_state=seed)\n",
    "for i, (train_indices, valid_indices) in enumerate(kfold.split(train_data,train_labels.reshape(-1))) :\n",
    "    \n",
    "    x_train, y_train = train_data[train_indices], train_labels[train_indices]\n",
    "    x_valid, y_valid = train_data[valid_indices], train_labels[valid_indices]\n",
    "    \n",
    "    eval_set = [(x_valid, y_valid)]\n",
    "    \n",
    "    st = np.datetime64('now')\n",
    "    print \"\\nFold \", i \n",
    "    \n",
    "    _ = model.fit(x_train, y_train, eval_set=eval_set, eval_metric=gini_xgb, \n",
    "              early_stopping_rounds=EARLY_STOPPING_ROUNDS, verbose=False)\n",
    "    #_ = model.fit(x_train, y_train)\n",
    "    \n",
    "    print( \"  Best N trees = \", model.best_ntree_limit )\n",
    "    print( \"  Best gini = \", model.best_score )\n",
    "    \n",
    "    pred = model.predict_proba(x_valid)[:,1]\n",
    "    print( \"  Gini = \", eval_gini(y_valid, pred) )\n",
    "    print \"It took : \", np.datetime64('now') - st\n",
    "    \n",
    "    test_pred += model.predict_proba(test_data)[:,1]\n",
    "test_pred /= K"
   ]
  },
  {
   "cell_type": "code",
   "execution_count": null,
   "metadata": {},
   "outputs": [],
   "source": [
    "temp = test_pred"
   ]
  },
  {
   "cell_type": "code",
   "execution_count": 49,
   "metadata": {},
   "outputs": [],
   "source": [
    "ids = np.load('../../nn/data/test_ids.npy')"
   ]
  },
  {
   "cell_type": "code",
   "execution_count": 50,
   "metadata": {},
   "outputs": [],
   "source": [
    "with open('../data/submission.csv', 'wb') as f :\n",
    "\tf.write('id,target')\n",
    "\tfor i,p in zip(ids,test_pred) :\n",
    "\t\tf.write('\\n%d,%.4f'%(i,p))"
   ]
  },
  {
   "cell_type": "code",
   "execution_count": 43,
   "metadata": {},
   "outputs": [],
   "source": [
    "with open('../data/model.pkl','wb') as f :\n",
    "    pickle.dump(model, f)"
   ]
  },
  {
   "cell_type": "markdown",
   "metadata": {},
   "source": [
    "-----------"
   ]
  },
  {
   "cell_type": "markdown",
   "metadata": {},
   "source": [
    "# Draft"
   ]
  },
  {
   "cell_type": "code",
   "execution_count": 25,
   "metadata": {
    "scrolled": true
   },
   "outputs": [],
   "source": [
    "with open('../data/model.pkl', 'rb') as f:\n",
    "    model = pickle.load(f)"
   ]
  },
  {
   "cell_type": "code",
   "execution_count": 47,
   "metadata": {},
   "outputs": [],
   "source": [
    "test_pred = model.predict_proba(test_sub)[:,1]"
   ]
  },
  {
   "cell_type": "code",
   "execution_count": 46,
   "metadata": {},
   "outputs": [
    {
     "data": {
      "text/plain": [
       "0.34985846050996006"
      ]
     },
     "execution_count": 46,
     "metadata": {},
     "output_type": "execute_result"
    }
   ],
   "source": [
    "gini_normalized(test_labels, test_pred)"
   ]
  },
  {
   "cell_type": "code",
   "execution_count": 42,
   "metadata": {},
   "outputs": [
    {
     "data": {
      "text/plain": [
       "0.35030414451303804"
      ]
     },
     "execution_count": 42,
     "metadata": {},
     "output_type": "execute_result"
    }
   ],
   "source": [
    "eval_gini(test_labels, test_pred)"
   ]
  },
  {
   "cell_type": "code",
   "execution_count": null,
   "metadata": {},
   "outputs": [],
   "source": []
  },
  {
   "cell_type": "code",
   "execution_count": null,
   "metadata": {},
   "outputs": [],
   "source": []
  },
  {
   "cell_type": "code",
   "execution_count": null,
   "metadata": {},
   "outputs": [],
   "source": []
  },
  {
   "cell_type": "code",
   "execution_count": null,
   "metadata": {},
   "outputs": [],
   "source": []
  },
  {
   "cell_type": "code",
   "execution_count": null,
   "metadata": {},
   "outputs": [],
   "source": []
  },
  {
   "cell_type": "code",
   "execution_count": null,
   "metadata": {},
   "outputs": [],
   "source": []
  }
 ],
 "metadata": {
  "kernelspec": {
   "display_name": "Python 2",
   "language": "python",
   "name": "python2"
  },
  "language_info": {
   "codemirror_mode": {
    "name": "ipython",
    "version": 2
   },
   "file_extension": ".py",
   "mimetype": "text/x-python",
   "name": "python",
   "nbconvert_exporter": "python",
   "pygments_lexer": "ipython2",
   "version": "2.7.13"
  }
 },
 "nbformat": 4,
 "nbformat_minor": 2
}
