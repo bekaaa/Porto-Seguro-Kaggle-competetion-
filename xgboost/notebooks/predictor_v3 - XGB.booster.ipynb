{
 "cells": [
  {
   "cell_type": "code",
   "execution_count": 2,
   "metadata": {
    "scrolled": true
   },
   "outputs": [],
   "source": [
    "import numpy as np\n",
    "from sklearn.model_selection import train_test_split\n",
    "import xgboost as xgb\n",
    "\n",
    "import matplotlib\n",
    "import matplotlib.pyplot as py\n",
    "\n",
    "import log\n",
    "\n",
    "%matplotlib inline\n",
    "seed = 0\n",
    "np.random.seed(seed)"
   ]
  },
  {
   "cell_type": "code",
   "execution_count": 3,
   "metadata": {},
   "outputs": [],
   "source": [
    "# preparing training data.\n",
    "train_sample_size = 1000\n",
    "test_size = 0.0001\n",
    "\n",
    "train = np.load('../../nn/data/train_scaled.npy')\n",
    "\n",
    "#train = train[:train_sample_size,:]\n",
    "labels = train[:,0]   \n",
    "train = train[:,1:]\n",
    "\n",
    "zero_important_features = [3, 5, 15, 22, 23, 24, 25, 26, 35, 39, 45, 48, 49, 56, 57, 58, 59, 60,\\\n",
    "                           62, 68, 71, 72, 73, 74, 79, 80, 83, 88, 91, 94, 95, 96, 97, 118, 119, 120]\n",
    "\n",
    "above_0_important_features = [ i for i in range(train.shape[1]) if i not in zero_important_features ]\n",
    "train = train[:, above_0_important_features]\n",
    "\n",
    "x_train, x_valid, y_train, y_valid = train_test_split(train,labels,random_state=seed,test_size=test_size)\n",
    "\n",
    "dtrain = xgb.DMatrix(x_train, label=y_train)\n",
    "dvalid = xgb.DMatrix(x_valid, label=y_valid)\n",
    "\n",
    "del train, labels, x_train, x_valid, y_train, y_valid"
   ]
  },
  {
   "cell_type": "code",
   "execution_count": null,
   "metadata": {},
   "outputs": [],
   "source": [
    "# preparing test data.\n",
    "if 0 :\n",
    "    test = np.load('../../nn/data/test_scaled.npy')\n",
    "    test = test[:, above_0_important_features]\n",
    "    dtest = xgb.DMatrix(test)\n",
    "    del test"
   ]
  },
  {
   "cell_type": "code",
   "execution_count": 4,
   "metadata": {},
   "outputs": [],
   "source": [
    "# from CPMP's kernel https://www.kaggle.com/cpmpml/extremely-fast-gini-computation\n",
    "\n",
    "def gini(y_true, y_prob):\n",
    "    y_true = np.asarray(y_true)    \n",
    "    y_true = y_true[np.argsort(y_prob)]\n",
    "    ntrue = 0\n",
    "    gini = 0\n",
    "    delta = 0\n",
    "    n = len(y_true)\n",
    "    for i in range(n-1, -1, -1):\n",
    "        \n",
    "        y_i = y_true[i]\n",
    "        \n",
    "        ntrue += y_i\n",
    "        gini += y_i * delta\n",
    "        delta += 1 - y_i\n",
    "    gini = 1 - 2 * gini / (ntrue * (n - ntrue))\n",
    "    \n",
    "    return gini\n",
    "\n",
    "\n",
    "# Funcitons from olivier's kernel\n",
    "# https://www.kaggle.com/ogrellier/xgb-classifier-upsampling-lb-0-283\n",
    "\n",
    "def gini_xgb(preds, dtrain):\n",
    "    labels = dtrain.get_label()\n",
    "    gini_score = gini(labels, preds)\n",
    "    return [('gini', gini_score)]\n",
    "\n",
    "\n"
   ]
  },
  {
   "cell_type": "markdown",
   "metadata": {},
   "source": [
    "## Trying Xgb.booster mode"
   ]
  },
  {
   "cell_type": "code",
   "execution_count": null,
   "metadata": {},
   "outputs": [],
   "source": [
    "ROUNDS = 400\n",
    "ESROUNDS = 50\n",
    "params = {\n",
    "    'max_delta_step' : 0,\n",
    "    'scale_pos_weight' : 1, #1,\n",
    "    \n",
    "    'max_depth' : 10,\n",
    "    'min_child_weight' : 7,\n",
    "    \n",
    "    'subsample' : 1,\n",
    "    'colsample_bytree' : 1,\n",
    "    \n",
    "    'reg_alpha' : 0,\n",
    "    'reg_lambda' : 1,\n",
    "    \n",
    "    'gamma' : 0,\n",
    "    \n",
    "    'eta' : 0.3,\n",
    "    \n",
    "    'objective' : \"binary:logistic\",\n",
    "    'n_jobs' : -1,\n",
    "    'eval_metric' : 'auc',\n",
    "    'random_seed' : seed\n",
    "}"
   ]
  },
  {
   "cell_type": "code",
   "execution_count": null,
   "metadata": {},
   "outputs": [],
   "source": [
    "t = np.datetime64('now')\n",
    "model = xgb.train(params, dtrain,\n",
    "                  num_boost_round=ROUNDS,\n",
    "                  early_stopping_rounds=ESROUNDS,\n",
    "                  evals = [(dvalid, 'eval')],\n",
    "                  feval = (gini_xgb), maximize = True,\n",
    "                  verbose_eval = 10\n",
    "                 )\n",
    "print np.datetime64('now') - t "
   ]
  },
  {
   "cell_type": "code",
   "execution_count": null,
   "metadata": {},
   "outputs": [],
   "source": [
    "dvalid.num_row()"
   ]
  },
  {
   "cell_type": "code",
   "execution_count": null,
   "metadata": {},
   "outputs": [],
   "source": [
    "labels[labels == 1].shape[0] / float(labels.shape[0]) * 100"
   ]
  },
  {
   "cell_type": "code",
   "execution_count": null,
   "metadata": {
    "scrolled": false
   },
   "outputs": [],
   "source": [
    "t = np.datetime64('now')\n",
    "cv_results = xgb.cv(params, dtrain, \n",
    "                    num_boost_round=ROUNDS, early_stopping_rounds=ESROUNDS, seed=seed,\n",
    "                    nfold=3, stratified = True,\n",
    "                    #feval=gini_xgb, maximize=True,\n",
    "                    verbose_eval = 10,\n",
    "                    as_pandas = False\n",
    "                   )\n",
    "print np.datetime64('now') - t"
   ]
  },
  {
   "cell_type": "code",
   "execution_count": null,
   "metadata": {
    "scrolled": true
   },
   "outputs": [],
   "source": [
    "train_sc, test_sc, n_trees, step_time = step_cv({})"
   ]
  },
  {
   "cell_type": "code",
   "execution_count": null,
   "metadata": {},
   "outputs": [],
   "source": []
  },
  {
   "cell_type": "markdown",
   "metadata": {},
   "source": [
    "#  Automated Parameter Tuning"
   ]
  },
  {
   "cell_type": "code",
   "execution_count": 5,
   "metadata": {},
   "outputs": [],
   "source": [
    "ROUNDS = 400\n",
    "ESROUNDS = 50\n",
    "params = {\n",
    "    'max_delta_step' : 0,\n",
    "    'scale_pos_weight' : 1, #1,\n",
    "    \n",
    "    'max_depth' : 10,\n",
    "    'min_child_weight' : 7,\n",
    "    \n",
    "    'subsample' : 1,\n",
    "    'colsample_bytree' : 1,\n",
    "    \n",
    "    'reg_alpha' : 0,\n",
    "    'reg_lambda' : 1,\n",
    "    \n",
    "    'gamma' : 0,\n",
    "    \n",
    "    'eta' : 0.3,\n",
    "    \n",
    "    'objective' : \"binary:logistic\",\n",
    "    'n_jobs' : -1,\n",
    "    'eval_metric' : 'auc',\n",
    "    'random_seed' : seed\n",
    "}"
   ]
  },
  {
   "cell_type": "code",
   "execution_count": 6,
   "metadata": {},
   "outputs": [],
   "source": [
    "def step_cv(parameters) : \n",
    "    \n",
    "    for p,v in parameters.items() :\n",
    "        if p not in params.keys() :\n",
    "            raise \"Error %s not in parameters\" % p\n",
    "        params[p] = v\n",
    "    \n",
    "    t = np.datetime64('now')\n",
    "    \n",
    "    cv_results = xgb.cv(params, dvalid, \n",
    "                    num_boost_round=ROUNDS, early_stopping_rounds=ESROUNDS, seed=seed,\n",
    "                    nfold=3, stratified = True,\n",
    "                    verbose_eval = False\n",
    "                    )\n",
    "    \n",
    "    return (np.max(cv_results['test-auc-mean']),\n",
    "            np.max(cv_results['train-auc-mean']),\n",
    "            np.argmax(cv_results['test-auc-mean']),\n",
    "            (np.datetime64('now') - t).astype('int') / 60.\n",
    "            )"
   ]
  },
  {
   "cell_type": "code",
   "execution_count": 16,
   "metadata": {},
   "outputs": [],
   "source": [
    "def tune2param(names, values) :\n",
    "    best_score = -1\n",
    "    log.msg('**** Grid Start *********')\n",
    "    for p1, p2 in values :\n",
    "        \n",
    "        log.msg('CV with %s = %f, and %s = %f' % (names[0], p1, names[1], p2))\n",
    "        train_sc, test_sc, n_trees, step_time = step_cv({names[0]:p1,names[1]:p2})\n",
    "        log.msg('train score : %.3f, test score : %.3f, n_trees : %d, step time : %1f minutes'\\\n",
    "               % (train_sc, test_sc, n_trees, step_time) )\n",
    "        if test_sc > best_score :\n",
    "            best_score = test_sc\n",
    "            best_train = train_sc\n",
    "            best_n_trees = n_trees\n",
    "            best_params = (p1, p2)\n",
    "            \n",
    "    log.msg('****** End of grid *********')\n",
    "    msg =   'best test score : %.4f, '\\\n",
    "            'best train score : %.4f, '\\\n",
    "            'best %s = %.1f, '\\\n",
    "            'best %s = %.1f '\\\n",
    "            'and n_trees = %d'\\\n",
    "           % ( best_score, best_train,\\\n",
    "              names[0], best_params[0],\\\n",
    "              names[1], best_params[1],\\\n",
    "              best_n_trees )\n",
    "    log.msg(msg)\n",
    "    print msg\n",
    "    return best_params\n",
    "\n",
    "def tune1param(name, values) :\n",
    "    best_score = -1\n",
    "    log.msg('**** Grid Start *********')\n",
    "    for p in values :\n",
    "        \n",
    "        log.msg('CV with %s = %f' % (name, p))\n",
    "        train_sc, test_sc, n_trees, step_time = step_cv({name:p})\n",
    "        log.msg('train score : %.3f, test score : %.3f, n_trees : %d, step time : %1f minutes'\\\n",
    "               % (train_sc, test_sc, n_trees, step_time) )\n",
    "        if test_sc > best_score :\n",
    "            best_score = test_sc\n",
    "            best_train = train_sc\n",
    "            best_n_trees = n_trees\n",
    "            best_param = p\n",
    "            \n",
    "    log.msg('****** End of grid *********')\n",
    "    msg =   'best test score : %.4f, '\\\n",
    "            'best train score : %.4f, '\\\n",
    "            'best %s = %.1f, '\\\n",
    "            'and n_trees = %d' \\\n",
    "           % ( best_score, best_train, name, best_param, best_n_trees )\n",
    "    log.msg(msg)\n",
    "    print msg\n",
    "    return best_param"
   ]
  },
  {
   "cell_type": "code",
   "execution_count": 8,
   "metadata": {},
   "outputs": [
    {
     "data": {
      "text/plain": [
       "'Error: log is already closed.'"
      ]
     },
     "execution_count": 8,
     "metadata": {},
     "output_type": "execute_result"
    }
   ],
   "source": [
    "log.LOG_PATH = './logs/'\n",
    "try :\n",
    "    log.close()\n",
    "except :\n",
    "    pass\n",
    "log.init('tuning_params-test.log')\n",
    "    \n",
    "log.msg('------------------initialized-----------------')"
   ]
  },
  {
   "cell_type": "code",
   "execution_count": 13,
   "metadata": {},
   "outputs": [
    {
     "name": "stdout",
     "output_type": "stream",
     "text": [
      "best test score : 1.0000,best train score : 0.5789best max_depth = 1.0,best min_child_weight = 1.0 and n_trees = 30\n",
      "best test score : 1.0000,best train score : 0.7096best max_depth = 1.0,best min_child_weight = 0.0 and n_trees = 63\n"
     ]
    }
   ],
   "source": [
    "#-------------------------------------------------------------------------------\n",
    "names = ('max_depth', 'min_child_weight')\n",
    "grid_params = [\n",
    "    (max_depth, min_child_weight)\n",
    "    for max_depth in np.arange(1,10,2)\n",
    "    for min_child_weight in np.arange(1,10,2)\n",
    "]\n",
    "best_depth, best_child_weight = tune2param(names, grid_params)\n",
    "#####\n",
    "grid_params = [\n",
    "    (max_depth, min_child_weight)\n",
    "    for max_depth in [best_depth-1, best_depth, best_depth+1]\n",
    "    for min_child_weight in [best_child_weight-1, best_child_weight, best_child_weight+1]\n",
    "]\n",
    "best_depth, best_child_weight = tune2param(names, grid_params)\n",
    "#######\n",
    "if best_depth == 10 or best_child_weight == 10 :\n",
    "    if best_depth == 10 : max_depth_r = np.arange(10,17,2)\n",
    "    elif best_depth <10 : max_depth_r = [best_depth]\n",
    "    if best_child_weight == 10 : min_child_weight_r = np.arange(10,17,2)\n",
    "    elif best_child_weight < 10 : min_child_weight_r = [best_child_weight]\n",
    "    grid_params = [\n",
    "        (max_depth, min_child_weight)\n",
    "        for max_depth in max_depth_r\n",
    "        for min_child_weight in min_child_weight_r\n",
    "    ]\n",
    "    best_depth, best_child_weight = tune2param(names, grid_params)\n",
    "##########\n",
    "if best_depth > 10 or best_child_weight > 10 :\n",
    "    if best_depth > 10 : max_depth_r = [ best_depth-1, best_depth, best_depth+1 ]\n",
    "    else : max_depth_r = [best_depth]\n",
    "    if best_child_weight > 10 : \n",
    "        min_child_weight_r = [best_child_weight-1,best_child_weight,best_child_weight+1]\n",
    "    else : min_child_weight_r = [best_child_weight]\n",
    "    grid_params = [\n",
    "        (max_depth, min_child_weight)\n",
    "        for max_depth in max_depth_r\n",
    "        for min_child_weight in min_child_weight_r\n",
    "    ]\n",
    "    best_depth, best_child_weight = tune2param(names, grid_params)\n",
    "###########    \n",
    "params['max_depth'] = best_depth\n",
    "params['min_child_weight'] = best_child_weight"
   ]
  },
  {
   "cell_type": "code",
   "execution_count": null,
   "metadata": {},
   "outputs": [],
   "source": [
    "#---------------------------------------------------------------------------------------\n",
    "names = ('subsample', 'colsample_bytree')\n",
    "grid_params = [\n",
    "    (subsample, colsample_bytree)\n",
    "    for subsample in np.arange(.1,1,.2)\n",
    "    for colsample_bytree in np.arange(.1,1,.2)\n",
    "]\n",
    "best_subsample, best_colsample = tune2param(names, grid_params)\n",
    "\n",
    "grid_params = [\n",
    "    (subsample, colsample_bytree)\n",
    "    for subsample in np.arange(best_subsample-.1,best_subsample+.11, 0.05)\n",
    "    for colsample_bytree in np.arange(best_colsample-.1, best_colsample+.11, 0.05)\n",
    "]\n",
    "best_subsample, best_colsample = tune2param(names, grid_params)\n",
    "params['subsample'] = best_subsample\n",
    "params['col_sample_bytree'] = best_colsample\n"
   ]
  },
  {
   "cell_type": "code",
   "execution_count": null,
   "metadata": {},
   "outputs": [],
   "source": [
    "#--------------------------------------------------------------------------------------------\n",
    "names = ('reg_alpha', 'reg_lambda')\n",
    "grid_params = [\n",
    "    (alpha, lambd)\n",
    "    for alpha in np.arange(1,10,2)\n",
    "    for lambd in [ 1 * 10 ** -i for i in [0,1,2,3,4] ]\n",
    "]\n",
    "best_alpha, best_lambd = tune2param(names, grid_params)\n",
    "######\n",
    "grid_params = [\n",
    "    (alpha, best_lambd)\n",
    "    for alpha in np.arange(best_alpha-1, best_alpha+11, 0.5)\n",
    "]\n",
    "best_alpha, best_lambd = tune2param(names, grid_params)\n",
    "##########\n",
    "params['reg_alpha'] = best_alpha\n",
    "params['reg_lambda'] = best_lambd\n"
   ]
  },
  {
   "cell_type": "code",
   "execution_count": 17,
   "metadata": {},
   "outputs": [
    {
     "name": "stdout",
     "output_type": "stream",
     "text": [
      "best test score : 0.6111, best train score : 0.4727, best gamma = 1.0, and n_trees = 0\n",
      "best test score : 1.0000, best train score : 0.7096, best gamma = 0.0, and n_trees = 87\n",
      "best test score : 1.0000, best train score : 0.7096, best eta = 0.2, and n_trees = 87\n"
     ]
    }
   ],
   "source": [
    "#--------------------------------------------------------------------------------------------\n",
    "name = 'gamma'\n",
    "grid_params = np.arange(1,10,2)\n",
    "best_gamma = tune1param(name, grid_params)\n",
    "######\n",
    "grid_params = np.arange(best_gamma-1, best_gamma+11, 0.5)\n",
    "best_gamma = tune1param(name, grid_params)\n",
    "#######\n",
    "params['gamma'] = best_gamma\n",
    "#-----------------------------------------------------------------------------\n",
    "name = 'eta'\n",
    "grid_params = [.1, .2, .3]\n",
    "best_eta = tune1param(name, grid_params)\n",
    "#######\n",
    "params['eta'] = best_eta"
   ]
  },
  {
   "cell_type": "code",
   "execution_count": null,
   "metadata": {},
   "outputs": [],
   "source": [
    "log.close()"
   ]
  },
  {
   "cell_type": "markdown",
   "metadata": {},
   "source": [
    "# Done tuning"
   ]
  },
  {
   "cell_type": "markdown",
   "metadata": {},
   "source": [
    "------------------"
   ]
  },
  {
   "cell_type": "code",
   "execution_count": null,
   "metadata": {},
   "outputs": [],
   "source": [
    "(gini(dtrain.get_label(),model.predict(dtrain)) + 1 ) / 2"
   ]
  },
  {
   "cell_type": "code",
   "execution_count": null,
   "metadata": {},
   "outputs": [],
   "source": [
    "np.argmax(cv_results['train-gini-mean'])"
   ]
  },
  {
   "cell_type": "code",
   "execution_count": null,
   "metadata": {},
   "outputs": [],
   "source": [
    "pred = model.predict(dtest)"
   ]
  },
  {
   "cell_type": "code",
   "execution_count": null,
   "metadata": {},
   "outputs": [],
   "source": [
    "pred"
   ]
  },
  {
   "cell_type": "code",
   "execution_count": null,
   "metadata": {},
   "outputs": [],
   "source": []
  },
  {
   "cell_type": "code",
   "execution_count": null,
   "metadata": {},
   "outputs": [],
   "source": [
    "try :\n",
    "    _ = len(ids)\n",
    "except :\n",
    "    ids = np.load('../../nn/data/test_ids.npy')\n",
    "\n",
    "with open('../data/submission1.csv', 'wb') as f :\n",
    "\tf.write('id,target')\n",
    "    \n",
    "\tfor i,p in zip(ids,pred) :\n",
    "\t\tf.write('\\n%d,%.4f'%(i,p))"
   ]
  },
  {
   "cell_type": "code",
   "execution_count": null,
   "metadata": {},
   "outputs": [],
   "source": []
  },
  {
   "cell_type": "code",
   "execution_count": null,
   "metadata": {},
   "outputs": [],
   "source": []
  },
  {
   "cell_type": "code",
   "execution_count": null,
   "metadata": {},
   "outputs": [],
   "source": []
  },
  {
   "cell_type": "code",
   "execution_count": null,
   "metadata": {},
   "outputs": [],
   "source": []
  },
  {
   "cell_type": "code",
   "execution_count": null,
   "metadata": {},
   "outputs": [],
   "source": []
  },
  {
   "cell_type": "code",
   "execution_count": null,
   "metadata": {},
   "outputs": [],
   "source": []
  },
  {
   "cell_type": "code",
   "execution_count": null,
   "metadata": {},
   "outputs": [],
   "source": []
  },
  {
   "cell_type": "code",
   "execution_count": null,
   "metadata": {},
   "outputs": [],
   "source": []
  },
  {
   "cell_type": "code",
   "execution_count": null,
   "metadata": {},
   "outputs": [],
   "source": []
  },
  {
   "cell_type": "code",
   "execution_count": null,
   "metadata": {},
   "outputs": [],
   "source": []
  },
  {
   "cell_type": "code",
   "execution_count": null,
   "metadata": {},
   "outputs": [],
   "source": []
  },
  {
   "cell_type": "code",
   "execution_count": null,
   "metadata": {},
   "outputs": [],
   "source": []
  },
  {
   "cell_type": "code",
   "execution_count": null,
   "metadata": {},
   "outputs": [],
   "source": []
  },
  {
   "cell_type": "code",
   "execution_count": null,
   "metadata": {},
   "outputs": [],
   "source": []
  },
  {
   "cell_type": "code",
   "execution_count": null,
   "metadata": {},
   "outputs": [],
   "source": []
  },
  {
   "cell_type": "code",
   "execution_count": null,
   "metadata": {},
   "outputs": [],
   "source": []
  }
 ],
 "metadata": {
  "kernelspec": {
   "display_name": "Python 2",
   "language": "python",
   "name": "python2"
  },
  "language_info": {
   "codemirror_mode": {
    "name": "ipython",
    "version": 2
   },
   "file_extension": ".py",
   "mimetype": "text/x-python",
   "name": "python",
   "nbconvert_exporter": "python",
   "pygments_lexer": "ipython2",
   "version": "2.7.13"
  }
 },
 "nbformat": 4,
 "nbformat_minor": 2
}
