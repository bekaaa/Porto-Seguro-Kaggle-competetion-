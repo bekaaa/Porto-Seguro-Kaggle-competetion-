{
 "cells": [
  {
   "cell_type": "code",
   "execution_count": 1,
   "metadata": {},
   "outputs": [],
   "source": [
    "import numpy as np\n",
    "from sklearn.metrics import make_scorer\n",
    "from sklearn.model_selection import GridSearchCV, StratifiedKFold\n",
    "from xgboost import XGBClassifier\n",
    "import xgboost as xgb\n",
    "import matplotlib\n",
    "import matplotlib.pyplot as py\n",
    "import cPickle as pickle\n",
    "np.random.seed = 0\n",
    "%matplotlib inline\n",
    "seed = 0"
   ]
  },
  {
   "cell_type": "code",
   "execution_count": 2,
   "metadata": {},
   "outputs": [],
   "source": [
    "train = np.load('../../nn/data/train_scaled.npy')\n",
    "\n",
    "#test_sub = np.load('../../nn/data/test_scaled.npy')"
   ]
  },
  {
   "cell_type": "code",
   "execution_count": 3,
   "metadata": {},
   "outputs": [],
   "source": [
    "labels = train[:,0]   \n",
    "train = train[:,1:]"
   ]
  },
  {
   "cell_type": "code",
   "execution_count": 4,
   "metadata": {},
   "outputs": [],
   "source": [
    "zero_important_features = [3, 5, 15, 22, 23, 24, 25, 26, 35, 39, 45, 48, 49, 56, 57, 58, 59, 60,\\\n",
    "                           62, 68, 71, 72, 73, 74, 79, 80, 83, 88, 91, 94, 95, 96, 97, 118, 119, 120]\n",
    "                           #6, 22, 27, 34, 46,\n",
    "                           #5, 24, 31, 43, 50]\n",
    "\n",
    "above_0_important_features = [ i for i in range(train.shape[1]) if i not in zero_important_features ]\n",
    "train = train[:, above_0_important_features]\n",
    "#test_sub = test_sub[:, above_0_important_features]"
   ]
  },
  {
   "cell_type": "code",
   "execution_count": null,
   "metadata": {},
   "outputs": [],
   "source": [
    "selected_features_indices = [0, 1, 2, 4, 5, 6, 7, 8, 10, 12, 16, 18, 19, 20, 21, 27, 28, 29,\\\n",
    "                             31, 32, 33, 38, 40, 41, 42, 43, 51, 52, 55, 69, 75, 84, 85, 87,\\\n",
    "                             89, 90, 98, 99, 100, 101, 102, 103, 104, 105, 106, 107, 108, 109,\\\n",
    "                             110, 111, 112, 113, 114, 115, 116]\n",
    "train = train[:,selected_features_indices]"
   ]
  },
  {
   "cell_type": "code",
   "execution_count": null,
   "metadata": {},
   "outputs": [],
   "source": [
    "test_sub = test_sub[:,selected_features_indices]"
   ]
  },
  {
   "cell_type": "code",
   "execution_count": 4,
   "metadata": {},
   "outputs": [],
   "source": [
    "test_size = 100000\n",
    "\n",
    "\n",
    "#test_idx = np.random.randint(0, train.shape[0], test_size)\n",
    "dev_data = train[:test_size,]\n",
    "dev_labels = labels[:test_size,]\n",
    "\n",
    "train_data = train[test_size:,]\n",
    "train_labels = labels[test_size:,]\n",
    "\n"
   ]
  },
  {
   "cell_type": "code",
   "execution_count": 5,
   "metadata": {},
   "outputs": [],
   "source": [
    "del train, labels\n",
    "\n",
    "\n"
   ]
  },
  {
   "cell_type": "code",
   "execution_count": 6,
   "metadata": {},
   "outputs": [
    {
     "data": {
      "text/plain": [
       "(495212, 123)"
      ]
     },
     "execution_count": 6,
     "metadata": {},
     "output_type": "execute_result"
    }
   ],
   "source": [
    "train_data.shape\n"
   ]
  },
  {
   "cell_type": "code",
   "execution_count": 7,
   "metadata": {},
   "outputs": [],
   "source": [
    "# from CPMP's kernel https://www.kaggle.com/cpmpml/extremely-fast-gini-computation\n",
    "\n",
    "def gini(y_true, y_prob):\n",
    "    y_true = np.asarray(y_true)    \n",
    "    y_true = y_true[np.argsort(y_prob)]\n",
    "    ntrue = 0\n",
    "    gini = 0\n",
    "    delta = 0\n",
    "    n = len(y_true)\n",
    "    for i in range(n-1, -1, -1):\n",
    "        \n",
    "        y_i = y_true[i]\n",
    "        \n",
    "        ntrue += y_i\n",
    "        gini += y_i * delta\n",
    "        delta += 1 - y_i\n",
    "    gini = 1 - 2 * gini / (ntrue * (n - ntrue))\n",
    "    \n",
    "    return gini\n",
    "\n",
    "\n",
    "# Funcitons from olivier's kernel\n",
    "# https://www.kaggle.com/ogrellier/xgb-classifier-upsampling-lb-0-283\n",
    "\n",
    "def gini_xgb(preds, dtrain):\n",
    "    labels = dtrain.get_label()\n",
    "    gini_score = - gini(labels, preds)\n",
    "    return [('gini', gini_score)]\n",
    "\n",
    "\n"
   ]
  },
  {
   "cell_type": "code",
   "execution_count": 8,
   "metadata": {},
   "outputs": [],
   "source": [
    "MAX_ROUNDS = 400\n",
    "OPTIMIZE_ROUNDS = False\n",
    "\n",
    "EARLY_STOPPING_ROUNDS = 50  \n",
    "\n",
    "params = {\n",
    "    'max_delta_step' : 0.4,\n",
    "    'scale_pos_weight' : 1.6, ##\n",
    "    \n",
    "    'min_child_weight' : 1, ##6\n",
    "    'max_depth' : 2, ##4\n",
    "    \n",
    "    'gamma' : 9.8,##10\n",
    "    \n",
    "    \n",
    "    'subsample' : .6,##.8\n",
    "    'colsample_bytree' : .9,##.8\n",
    "    'colsample_bylevel' : 1,\n",
    "    \n",
    "    'reg_alpha' : 5,##8, 4\n",
    "    'reg_lambda' : 1,##1.3, 0.0006\n",
    "    \n",
    "    'learning_rate' : 0.1, ##\n",
    "    'n_estimators' : 400,\n",
    "    'objective' : \"binary:logistic\",\n",
    "    'n_jobs' : -1,\n",
    "    'eval_metric' : \"auc\"\n",
    "    #'random_seed' : seed\n",
    "}\n"
   ]
  },
  {
   "cell_type": "code",
   "execution_count": null,
   "metadata": {
    "scrolled": false
   },
   "outputs": [],
   "source": [
    "model = XGBClassifier(**params)\n",
    "test_pred = np.zeros(test_sub.shape[0])\n",
    "feature_imp = []\n",
    "K = 5\n",
    "\n",
    "kfold = StratifiedKFold(n_splits=K, shuffle=True, random_state=seed)\n",
    "\n",
    "for i, (train_indices, valid_indices) in enumerate(kfold.split(train,labels.reshape(-1))) :\n",
    "#for i in range(K):\n",
    "    x_train, y_train = train[train_indices], labels[train_indices]\n",
    "    x_valid, y_valid = train[valid_indices], labels[valid_indices]\n",
    "    \n",
    "    eval_set = [(x_valid, y_valid)]\n",
    "    #model = XGBClassifier(**params)\n",
    "    st = np.datetime64('now')\n",
    "    print \"\\nFold %d of %d \" % (i+1, K) \n",
    "    \n",
    "    _ = model.fit(x_train, y_train, eval_set=eval_set, eval_metric=gini_xgb, \n",
    "              early_stopping_rounds=EARLY_STOPPING_ROUNDS, verbose=False)\n",
    "    #_ = model.fit(train_data,train_labels, verbose=False)\n",
    "\n",
    "    print( \"  Best N trees = \", model.best_ntree_limit )\n",
    "    print( \"  Best gini = \", - model.best_score )\n",
    "    \n",
    "    #pred = model.predict_proba(train_data)[:,1]\n",
    "    #print \"  Train score = \", gini(train_labels, pred)\n",
    "    #pred = model.predict_proba(dev_data)[:,1]\n",
    "    #print( \"  Dev score = \", gini(dev_labels, pred) )\n",
    "    print \"It took : \", np.datetime64('now') - st\n",
    "    \n",
    "    #feature_imp.append(model.feature_importances_)\n",
    "    \n",
    "    test_pred += model.predict_proba(test_sub)[:,1]\n",
    "    #if i == 4 :\n",
    "    #    test_pred_5 = test_pred.copy()\n",
    "    #    test_pred_5 /= 5\n",
    "    #    print \"  Writing submission after 5 iterations..\"\n",
    "    #    with open('../data/submission.csv', 'wb') as f :\n",
    "    #        f.write('id,target')\n",
    "    #        for x,p in zip(ids,test_pred_5) :\n",
    "    #            f.write('\\n%d,%.4f'%(x,p))\n",
    "        \n",
    "    \n",
    "test_pred /= K"
   ]
  },
  {
   "cell_type": "code",
   "execution_count": null,
   "metadata": {},
   "outputs": [],
   "source": []
  },
  {
   "cell_type": "code",
   "execution_count": 9,
   "metadata": {},
   "outputs": [
    {
     "name": "stdout",
     "output_type": "stream",
     "text": [
      "\n",
      "Fold 1 of 3 \n",
      "  Train score =  0.298014910624\n",
      "('  Dev score = ', 0.28171471832755657)\n",
      "It took :  275 seconds\n",
      "\n",
      "Fold 2 of 3 \n"
     ]
    },
    {
     "ename": "KeyboardInterrupt",
     "evalue": "",
     "output_type": "error",
     "traceback": [
      "\u001b[0;31m---------------------------------------------------------------------------\u001b[0m",
      "\u001b[0;31mKeyboardInterrupt\u001b[0m                         Traceback (most recent call last)",
      "\u001b[0;32m<ipython-input-9-85e44a9fa88c>\u001b[0m in \u001b[0;36m<module>\u001b[0;34m()\u001b[0m\n\u001b[1;32m     10\u001b[0m     \u001b[0;32mprint\u001b[0m \u001b[0;34m\"\\nFold %d of %d \"\u001b[0m \u001b[0;34m%\u001b[0m \u001b[0;34m(\u001b[0m\u001b[0mi\u001b[0m\u001b[0;34m+\u001b[0m\u001b[0;36m1\u001b[0m\u001b[0;34m,\u001b[0m \u001b[0mK\u001b[0m\u001b[0;34m)\u001b[0m\u001b[0;34m\u001b[0m\u001b[0m\n\u001b[1;32m     11\u001b[0m \u001b[0;34m\u001b[0m\u001b[0m\n\u001b[0;32m---> 12\u001b[0;31m     \u001b[0m_\u001b[0m \u001b[0;34m=\u001b[0m \u001b[0mmodel\u001b[0m\u001b[0;34m.\u001b[0m\u001b[0mfit\u001b[0m\u001b[0;34m(\u001b[0m\u001b[0mtrain_data\u001b[0m\u001b[0;34m,\u001b[0m\u001b[0mtrain_labels\u001b[0m\u001b[0;34m,\u001b[0m \u001b[0mverbose\u001b[0m\u001b[0;34m=\u001b[0m\u001b[0mFalse\u001b[0m\u001b[0;34m)\u001b[0m\u001b[0;34m\u001b[0m\u001b[0m\n\u001b[0m\u001b[1;32m     13\u001b[0m \u001b[0;34m\u001b[0m\u001b[0m\n\u001b[1;32m     14\u001b[0m \u001b[0;34m\u001b[0m\u001b[0m\n",
      "\u001b[0;32m/usr/lib/python2.7/site-packages/xgboost-0.6-py2.7.egg/xgboost/sklearn.pyc\u001b[0m in \u001b[0;36mfit\u001b[0;34m(self, X, y, sample_weight, eval_set, eval_metric, early_stopping_rounds, verbose)\u001b[0m\n\u001b[1;32m    498\u001b[0m                               \u001b[0mearly_stopping_rounds\u001b[0m\u001b[0;34m=\u001b[0m\u001b[0mearly_stopping_rounds\u001b[0m\u001b[0;34m,\u001b[0m\u001b[0;34m\u001b[0m\u001b[0m\n\u001b[1;32m    499\u001b[0m                               \u001b[0mevals_result\u001b[0m\u001b[0;34m=\u001b[0m\u001b[0mevals_result\u001b[0m\u001b[0;34m,\u001b[0m \u001b[0mobj\u001b[0m\u001b[0;34m=\u001b[0m\u001b[0mobj\u001b[0m\u001b[0;34m,\u001b[0m \u001b[0mfeval\u001b[0m\u001b[0;34m=\u001b[0m\u001b[0mfeval\u001b[0m\u001b[0;34m,\u001b[0m\u001b[0;34m\u001b[0m\u001b[0m\n\u001b[0;32m--> 500\u001b[0;31m                               verbose_eval=verbose)\n\u001b[0m\u001b[1;32m    501\u001b[0m \u001b[0;34m\u001b[0m\u001b[0m\n\u001b[1;32m    502\u001b[0m         \u001b[0mself\u001b[0m\u001b[0;34m.\u001b[0m\u001b[0mobjective\u001b[0m \u001b[0;34m=\u001b[0m \u001b[0mxgb_options\u001b[0m\u001b[0;34m[\u001b[0m\u001b[0;34m\"objective\"\u001b[0m\u001b[0;34m]\u001b[0m\u001b[0;34m\u001b[0m\u001b[0m\n",
      "\u001b[0;32m/usr/lib/python2.7/site-packages/xgboost-0.6-py2.7.egg/xgboost/training.pyc\u001b[0m in \u001b[0;36mtrain\u001b[0;34m(params, dtrain, num_boost_round, evals, obj, feval, maximize, early_stopping_rounds, evals_result, verbose_eval, xgb_model, callbacks, learning_rates)\u001b[0m\n\u001b[1;32m    202\u001b[0m                            \u001b[0mevals\u001b[0m\u001b[0;34m=\u001b[0m\u001b[0mevals\u001b[0m\u001b[0;34m,\u001b[0m\u001b[0;34m\u001b[0m\u001b[0m\n\u001b[1;32m    203\u001b[0m                            \u001b[0mobj\u001b[0m\u001b[0;34m=\u001b[0m\u001b[0mobj\u001b[0m\u001b[0;34m,\u001b[0m \u001b[0mfeval\u001b[0m\u001b[0;34m=\u001b[0m\u001b[0mfeval\u001b[0m\u001b[0;34m,\u001b[0m\u001b[0;34m\u001b[0m\u001b[0m\n\u001b[0;32m--> 204\u001b[0;31m                            xgb_model=xgb_model, callbacks=callbacks)\n\u001b[0m\u001b[1;32m    205\u001b[0m \u001b[0;34m\u001b[0m\u001b[0m\n\u001b[1;32m    206\u001b[0m \u001b[0;34m\u001b[0m\u001b[0m\n",
      "\u001b[0;32m/usr/lib/python2.7/site-packages/xgboost-0.6-py2.7.egg/xgboost/training.pyc\u001b[0m in \u001b[0;36m_train_internal\u001b[0;34m(params, dtrain, num_boost_round, evals, obj, feval, xgb_model, callbacks)\u001b[0m\n\u001b[1;32m     72\u001b[0m         \u001b[0;31m# Skip the first update if it is a recovery step.\u001b[0m\u001b[0;34m\u001b[0m\u001b[0;34m\u001b[0m\u001b[0m\n\u001b[1;32m     73\u001b[0m         \u001b[0;32mif\u001b[0m \u001b[0mversion\u001b[0m \u001b[0;34m%\u001b[0m \u001b[0;36m2\u001b[0m \u001b[0;34m==\u001b[0m \u001b[0;36m0\u001b[0m\u001b[0;34m:\u001b[0m\u001b[0;34m\u001b[0m\u001b[0m\n\u001b[0;32m---> 74\u001b[0;31m             \u001b[0mbst\u001b[0m\u001b[0;34m.\u001b[0m\u001b[0mupdate\u001b[0m\u001b[0;34m(\u001b[0m\u001b[0mdtrain\u001b[0m\u001b[0;34m,\u001b[0m \u001b[0mi\u001b[0m\u001b[0;34m,\u001b[0m \u001b[0mobj\u001b[0m\u001b[0;34m)\u001b[0m\u001b[0;34m\u001b[0m\u001b[0m\n\u001b[0m\u001b[1;32m     75\u001b[0m             \u001b[0mbst\u001b[0m\u001b[0;34m.\u001b[0m\u001b[0msave_rabit_checkpoint\u001b[0m\u001b[0;34m(\u001b[0m\u001b[0;34m)\u001b[0m\u001b[0;34m\u001b[0m\u001b[0m\n\u001b[1;32m     76\u001b[0m             \u001b[0mversion\u001b[0m \u001b[0;34m+=\u001b[0m \u001b[0;36m1\u001b[0m\u001b[0;34m\u001b[0m\u001b[0m\n",
      "\u001b[0;32m/usr/lib/python2.7/site-packages/xgboost-0.6-py2.7.egg/xgboost/core.pyc\u001b[0m in \u001b[0;36mupdate\u001b[0;34m(self, dtrain, iteration, fobj)\u001b[0m\n\u001b[1;32m    825\u001b[0m         \u001b[0;32mif\u001b[0m \u001b[0mfobj\u001b[0m \u001b[0;32mis\u001b[0m \u001b[0mNone\u001b[0m\u001b[0;34m:\u001b[0m\u001b[0;34m\u001b[0m\u001b[0m\n\u001b[1;32m    826\u001b[0m             _check_call(_LIB.XGBoosterUpdateOneIter(self.handle, ctypes.c_int(iteration),\n\u001b[0;32m--> 827\u001b[0;31m                                                     dtrain.handle))\n\u001b[0m\u001b[1;32m    828\u001b[0m         \u001b[0;32melse\u001b[0m\u001b[0;34m:\u001b[0m\u001b[0;34m\u001b[0m\u001b[0m\n\u001b[1;32m    829\u001b[0m             \u001b[0mpred\u001b[0m \u001b[0;34m=\u001b[0m \u001b[0mself\u001b[0m\u001b[0;34m.\u001b[0m\u001b[0mpredict\u001b[0m\u001b[0;34m(\u001b[0m\u001b[0mdtrain\u001b[0m\u001b[0;34m)\u001b[0m\u001b[0;34m\u001b[0m\u001b[0m\n",
      "\u001b[0;31mKeyboardInterrupt\u001b[0m: "
     ]
    }
   ],
   "source": [
    "model = XGBClassifier(**params)\n",
    "#test_pred = np.zeros(test_sub.shape[0])\n",
    "feature_imp = []\n",
    "K = 3\n",
    "\n",
    "for i in range(K):\n",
    "    \n",
    "    model = XGBClassifier(**params)\n",
    "    st = np.datetime64('now')\n",
    "    print \"\\nFold %d of %d \" % (i+1, K) \n",
    "    \n",
    "    _ = model.fit(train_data,train_labels, verbose=False)\n",
    "\n",
    "    \n",
    "    pred = model.predict_proba(train_data)[:,1]\n",
    "    print \"  Train score = \", gini(train_labels, pred)\n",
    "    pred = model.predict_proba(dev_data)[:,1]\n",
    "    print( \"  Dev score = \", gini(dev_labels, pred) )\n",
    "    print \"It took : \", np.datetime64('now') - st\n",
    "    \n",
    "    feature_imp.append(model.feature_importances_)\n",
    "    \n",
    "    #test_pred += model.predict_proba(test_sub)[:,1]\n",
    "    #if i == 4 :\n",
    "    #    test_pred_5 = test_pred.copy()\n",
    "    #    test_pred_5 /= 5\n",
    "    #    print \"  Writing submission after 5 iterations..\"\n",
    "    #    with open('../data/submission.csv', 'wb') as f :\n",
    "    #        f.write('id,target')\n",
    "    #        for x,p in zip(ids,test_pred_5) :\n",
    "    #            f.write('\\n%d,%.4f'%(x,p))\n",
    "        \n",
    "    \n",
    "#test_pred /= K"
   ]
  },
  {
   "cell_type": "code",
   "execution_count": null,
   "metadata": {},
   "outputs": [],
   "source": []
  },
  {
   "cell_type": "code",
   "execution_count": null,
   "metadata": {},
   "outputs": [],
   "source": [
    "ids = np.load('../../nn/data/test_ids.npy')"
   ]
  },
  {
   "cell_type": "code",
   "execution_count": null,
   "metadata": {},
   "outputs": [],
   "source": [
    "with open('../data/submission1.csv', 'wb') as f :\n",
    "\tf.write('id,target')\n",
    "    \n",
    "\tfor i,p in zip(ids,test_pred) :\n",
    "\t\tf.write('\\n%d,%.4f'%(i,p))"
   ]
  },
  {
   "cell_type": "code",
   "execution_count": null,
   "metadata": {},
   "outputs": [],
   "source": [
    "with open('../data/model.pkl','wb') as f :\n",
    "    pickle.dump(model, f)"
   ]
  },
  {
   "cell_type": "markdown",
   "metadata": {},
   "source": [
    "-----------"
   ]
  },
  {
   "cell_type": "markdown",
   "metadata": {},
   "source": [
    "# Choosing features by importance\n"
   ]
  },
  {
   "cell_type": "code",
   "execution_count": null,
   "metadata": {},
   "outputs": [],
   "source": [
    "from sklearn.feature_selection import SelectFromModel\n",
    "from beautifultable import BeautifulTable\n",
    "\n"
   ]
  },
  {
   "cell_type": "code",
   "execution_count": null,
   "metadata": {
    "scrolled": true
   },
   "outputs": [],
   "source": [
    "with open('../data/model.pkl', 'rb') as f:\n",
    "    model = pickle.load(f)\n",
    "    \n",
    "    \n",
    "    \n",
    "    "
   ]
  },
  {
   "cell_type": "code",
   "execution_count": null,
   "metadata": {
    "scrolled": true
   },
   "outputs": [],
   "source": [
    "thresholds = np.sort([ f for f in set(i  for i in model.feature_importances_ if i > 0)])\n",
    "zero_imp = sum([ 1  for i in model.feature_importances_ if i == 0])\n",
    "\n",
    "print( \"There are %d features with importance of 0, And they are removed.\\nRemaining %d features.\"\\\n",
    "     % (zero_imp, train_data.shape[1] - zero_imp) )\n",
    "                      \n",
    "for thresh in thresholds :\n",
    "    selection = SelectFromModel(model, threshold=thresh, prefit=True)\n",
    "    selected_X = selection.transform(train_data)\n",
    "      \n",
    "    selection_model = XGBClassifier(**params)\n",
    "    _ = selection_model.fit(selected_X, train_labels)\n",
    "    \n",
    "    selected_test = selection.transform(test_data)\n",
    "    test_pred = selection_model.predict_proba(selected_test)[:,1]\n",
    "    test_score = gini(test_labels, test_pred)\n",
    "    \n",
    "    print( \"Threshold=%.5f, n=%d, Gini=%.3f\" %(thresh, selected_X.shape[1], test_score) )\n",
    "    \n",
    "    \n"
   ]
  },
  {
   "cell_type": "code",
   "execution_count": null,
   "metadata": {},
   "outputs": [],
   "source": [
    "#thresholds_to_test = thresholds[ (thresholds >= 0.00528) & (thresholds <= 0.00998)  ]\n",
    "\n",
    "\n",
    "#thresholds_to_test = [ 0.00528169,  0.00586854,  0.0064554 ,  0.00704225,  0.00762911,\n",
    "\n",
    "#        0.00880282,  0.00938967,  0.00997653 ]\n",
    "\n",
    "thresholds_to_test = [0.000586, 0.00293, 0.00411, 0.00528 ]\n"
   ]
  },
  {
   "cell_type": "code",
   "execution_count": null,
   "metadata": {
    "scrolled": true
   },
   "outputs": [],
   "source": [
    "K = 5\n",
    "SModel = XGBClassifier(**params)\n",
    "\n",
    "\n",
    "for thresh in thresholds_to_test :\n",
    "    \n",
    "    \n",
    "    selection = SelectFromModel(model, threshold=thresh, prefit=True)\n",
    "    selected_X = selection.transform(train_data)\n",
    "    selected_test = selection.transform(test_data)\n",
    "    test_pred = np.zeros(test_data.shape[0])\n",
    "\n",
    "    \n",
    "    kfold = StratifiedKFold(n_splits=K, shuffle=True, random_state=seed)\n",
    "    \n",
    "    print( \"\\n---------------\\nThreshold=%.5f, n=%d .\" %(thresh, selected_X.shape[1]) )\n",
    "    Ntrees, best_score, valid_score = [], [], []\n",
    "    st = np.datetime64('now')\n",
    "    \n",
    "    for i, (train_indices, valid_indices) in enumerate(kfold.split(train_data,train_labels.reshape(-1))) :\n",
    "    \n",
    "        x_train, y_train = selected_X[train_indices], train_labels[train_indices]\n",
    "        x_valid, y_valid = selected_X[valid_indices], train_labels[valid_indices]\n",
    "    \n",
    "        eval_set = [(x_valid, y_valid)]\n",
    "    \n",
    "        print \".\"\n",
    "        \n",
    "    \n",
    "        _ = SModel.fit(x_train, y_train, eval_set=eval_set, eval_metric=gini_xgb, \n",
    "                       \n",
    "              early_stopping_rounds=EARLY_STOPPING_ROUNDS, verbose=False)\n",
    "\n",
    "        Ntrees.append(SModel.best_ntree_limit)\n",
    "        best_score.append(SModel.best_score)\n",
    "        pred = SModel.predict_proba(x_valid)[:,1]\n",
    "        valid_score.append(gini(y_valid, pred))\n",
    "        \n",
    "        test_pred += SModel.predict_proba(selected_test)[:,1]\n",
    "    \n",
    "    table = BeautifulTable()\n",
    "    table.append_column('fold', range(K))\n",
    "    table.append_column('best N trees', Ntrees)\n",
    "    \n",
    "    table.append_column('best score', best_score)\n",
    "    \n",
    "    table.append_column('valid score', valid_score)\n",
    "    print(table)\n",
    "    test_pred /= K\n",
    "    print \"  It took : \", np.datetime64('now') - st\n",
    "    print \"Gini score for test data is %.3f\" % gini(test_labels, test_pred)\n",
    "    \n",
    "    \n",
    "    \n"
   ]
  },
  {
   "cell_type": "code",
   "execution_count": null,
   "metadata": {},
   "outputs": [],
   "source": [
    "# choosen threshold is 0.00411, n=54 .\n",
    "#f_imp = [ [i,j] for i,j in enumerate(model.feature_importances_) ] \n",
    "#f_imp = sorted(f_imp,key= lambda d:d[1], reverse=True)[:55]\n",
    "\n",
    "\n",
    "#selected_features_indices = [ i[0] for i in f_imp ]\n",
    "selected_features_indices = [0, 1, 2, 4, 5, 6, 7, 8, 10, 12, 16, 18, 19, 20, 21, 27, 28, 29,\\\n",
    "                             31, 32, 33, 38, 40, 41, 42, 43, 51, 52, 55, 69, 75, 84, 85, 87,\\\n",
    "                             89, 90, 98, 99, 100, 101, 102, 103, 104, 105, 106, 107, 108, 109,\\\n",
    "                             110, 111, 112, 113, 114, 115, 116]"
   ]
  },
  {
   "cell_type": "code",
   "execution_count": null,
   "metadata": {},
   "outputs": [],
   "source": [
    "feature_imp[0][0]\n"
   ]
  },
  {
   "cell_type": "code",
   "execution_count": null,
   "metadata": {},
   "outputs": [],
   "source": [
    "feature_imp_set = []\n",
    "for feature in feature_imp :\n",
    "    \n",
    "    feature_imp_set.append([ (i,j) for i,j in enumerate(feature) ])"
   ]
  },
  {
   "cell_type": "code",
   "execution_count": null,
   "metadata": {},
   "outputs": [],
   "source": [
    "zero_imp = [ [], [], [] ]\n",
    "for i,feature in enumerate(feature_imp) :\n",
    "    for j,imp in enumerate(feature) :\n",
    "        if imp == 0 :\n",
    "            zero_imp[i].append(j)"
   ]
  },
  {
   "cell_type": "code",
   "execution_count": null,
   "metadata": {},
   "outputs": [],
   "source": [
    "zero_imp"
   ]
  },
  {
   "cell_type": "markdown",
   "metadata": {},
   "source": [
    "------"
   ]
  },
  {
   "cell_type": "markdown",
   "metadata": {},
   "source": [
    "# Paramters Tuning"
   ]
  },
  {
   "cell_type": "code",
   "execution_count": null,
   "metadata": {},
   "outputs": [],
   "source": [
    "from sklearn.model_selection import GridSearchCV"
   ]
  },
  {
   "cell_type": "code",
   "execution_count": null,
   "metadata": {},
   "outputs": [],
   "source": [
    "MAX_ROUNDS = 400\n",
    "def custom_gini(y_true, y_pred):\n",
    "    return gini(y_true, y_pred[:,1])\n",
    "gini_scorer = make_scorer(custom_gini, greater_is_better = True, needs_proba=True)\n",
    "\n",
    "\n",
    "params = {\n",
    "    'max_delta_step' : 0.4,\n",
    "    'scale_pos_weight' : 1.4, ##\n",
    "    \n",
    "    'max_depth' : 2, ##4\n",
    "    'min_child_weight' : 1, ##6\n",
    "    \n",
    "    'gamma' : 9.8,##10\n",
    "    \n",
    "    \n",
    "    'subsample' : .6,##.8\n",
    "    'colsample_bytree' : .9,##.8\n",
    "    'colsample_bylevel' : 1,\n",
    "    \n",
    "    'reg_alpha' : 5,##8, 4\n",
    "    'reg_lambda' : 1,##1.3, 0.0006\n",
    "    \n",
    "    'learning_rate' : 0.1, ##\n",
    "    'n_estimators' : 400,\n",
    "    'objective' : \"binary:logistic\",\n",
    "    'n_jobs' : -1,\n",
    "    'eval_metric' : \"auc\",\n",
    "    'random_seed' : seed\n",
    "}"
   ]
  },
  {
   "cell_type": "code",
   "execution_count": null,
   "metadata": {},
   "outputs": [],
   "source": [
    "# paramters combinations\n",
    "cv_params1 = {\n",
    "    'n_estimators' : [300,400,500],\n",
    "    'learning_rate' : [0.1, 0.2, 0.3]\n",
    "    \n",
    "}\n",
    "cv_params2 = {\n",
    "    #'max_delta_step': [0, 0.3, 0.4, 0.5]\n",
    "    #'scale_pos_weight': [1,1.2,1.4,1.6,1.8,2]\n",
    "    'scale_pos_weight' : [1.3,1.4,1.5]\n",
    "}\n",
    "cv_params3 = {\n",
    "    'max_depth' : range(2,11,2),\n",
    "    'min_child_weight': range(1,8,2)\n",
    "}\n",
    "cv_params4 = {\n",
    "    'max_depth' : [2,3,4],\n",
    "    'min_child_weight': [1,2,3]\n",
    "}\n",
    "cv_params5 = {\n",
    "    'gamma': [9.8,9.1,10]\n",
    "    \n",
    "}\n",
    "cv_params6 = {\n",
    "    'subsample': [0.56, 0.58, 0.6],\n",
    "    'colsample_bytree': [ 0.7, 0.8, 0.9 ]\n",
    "}\n",
    "cv_params7 = {\n",
    " 'subsample':[.35,.4,.45],\n",
    " 'colsample_bylevel':[.35,.4,.45]\n",
    "}\n",
    "cv_params8 = {\n",
    " 'subsample':[.35,.4,.45],\n",
    " 'colsample_bylevel':[.35,.4,.45]\n",
    "}\n",
    "cv_params9 = {\n",
    " #'reg_alpha':[5,6,7],\n",
    " #'reg_lambda':[.0007, 0.008, 0.001, 0.1, 1]\n",
    "    'reg_lambda' : [1, 1.5, 2]\n",
    "    \n",
    "}\n",
    "\n"
   ]
  },
  {
   "cell_type": "code",
   "execution_count": null,
   "metadata": {
    "scrolled": false
   },
   "outputs": [],
   "source": [
    "\n",
    "model = XGBClassifier(**params)\n",
    "\n",
    "gsearch = GridSearchCV(model, param_grid = cv_params3,\n",
    "                       \n",
    "    cv = 3, verbose = 50, scoring=gini_scorer)\n",
    "\n",
    "\n",
    "_ = gsearch.fit(train_data[:100000], train_labels[:100000])\n",
    "\n",
    "print \"best parameters : \", gsearch.best_params_, \"\\nbest score : \", gsearch.best_score_\n",
    "\n",
    "pred = gsearch.predict_proba(dev_data)\n",
    "\n",
    "print \"dev score : \", gini(dev_labels, pred[:,1])\n",
    "print \"train scores : \", gsearch.cv_results_['mean_train_score']\n",
    "print \"test  scores : \", gsearch.cv_results_['mean_test_score']\n",
    "\n"
   ]
  },
  {
   "cell_type": "code",
   "execution_count": null,
   "metadata": {},
   "outputs": [],
   "source": [
    "\n",
    "#model = XGBClassifier(**params)\n",
    "#model.fit(train_data[:100000], train_labels[:100000])\n",
    "pred = model.predict_proba(dev_data)\n",
    "\n",
    "print gini(dev_labels, pred[:,1])\n"
   ]
  },
  {
   "cell_type": "code",
   "execution_count": null,
   "metadata": {},
   "outputs": [],
   "source": [
    "pred = gsearch.predict_proba(test_data)\n",
    "\n",
    "print gini(test_labels, pred[:,1])\n"
   ]
  },
  {
   "cell_type": "code",
   "execution_count": null,
   "metadata": {},
   "outputs": [],
   "source": [
    "print \"train scores : \", gsearch.cv_results_['mean_train_score']\n",
    "print \"test  scores : \", gsearch.cv_results_['mean_test_score']"
   ]
  },
  {
   "cell_type": "code",
   "execution_count": null,
   "metadata": {},
   "outputs": [],
   "source": []
  },
  {
   "cell_type": "code",
   "execution_count": null,
   "metadata": {},
   "outputs": [],
   "source": []
  }
 ],
 "metadata": {
  "kernelspec": {
   "display_name": "Python 3",
   "language": "python",
   "name": "python3"
  },
  "language_info": {
   "codemirror_mode": {
    "name": "ipython",
    "version": 2
   },
   "file_extension": ".py",
   "mimetype": "text/x-python",
   "name": "python",
   "nbconvert_exporter": "python",
   "pygments_lexer": "ipython2",
   "version": "2.7.13"
  }
 },
 "nbformat": 4,
 "nbformat_minor": 2
}
