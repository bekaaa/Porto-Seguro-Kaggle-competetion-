{
 "cells": [
  {
   "cell_type": "markdown",
   "metadata": {},
   "source": [
    "# Redfining features' data-types.  \n",
    "  \n",
    "After some exploration on the dataset I noticed the following :  \n",
    "- All values are set to float even the categorical and boolean.\n",
    "- Some of the categorical features are boolean features ( two categories 0 and 1).\n",
    "- Some of the continues features could be categorized as they have a few number of distinct values.\n",
    "\n",
    "----\n",
    "\n",
    "So what I'm going to do is to define a new data-set with some changes :  \n",
    "- analyse each feature and categorize it either [ continues, boolean or categorical ].\n",
    "- change features names to the format ps_(_cat, bin or cont)_...the rest of the old name ..., the reason for that is to make it easier to find the feature's category using the numpy.str.startwith().\n",
    "- I'll consider any feature with less than 30  distinct value to be categorical otherwise it's continues.\n",
    "- Also I'll change the data-type of them to be [ float for continues, bool for boolean and integer for categorical]\n",
    "- change the values of categorical items to be in range [ 0, number_of_distinct_values_for_this_feature ].\n"
   ]
  },
  {
   "cell_type": "code",
   "execution_count": 1,
   "metadata": {},
   "outputs": [],
   "source": [
    "import pandas as pd\n",
    "import numpy as np\n",
    "import re"
   ]
  },
  {
   "cell_type": "code",
   "execution_count": 2,
   "metadata": {},
   "outputs": [],
   "source": [
    "train = pd.read_csv('./data/train.csv', na_values='-1')\n",
    "test = pd.read_csv('./data/test.csv', na_values='-1')\n",
    "data = test.append(train.drop('target',axis=1))"
   ]
  },
  {
   "cell_type": "code",
   "execution_count": 4,
   "metadata": {},
   "outputs": [],
   "source": [
    "# get lists of features names by their data-type. [ [cont]inues, [bin]ary, [cat]egorical ]\n",
    "counter = 0;\n",
    "datatypes = {\n",
    "    'cont' : [],\n",
    "    'bin' : [],\n",
    "    'cat' : []\n",
    "}\n",
    "\n",
    "def setDatatypes(d) :\n",
    "    global counter\n",
    "    title = data.columns[counter]\n",
    "    counter +=1;\n",
    "    if title in ['target','id'] : return\n",
    "    distictValues = d.value_counts().shape[0]\n",
    "    if distictValues == 2 :\n",
    "        datatypes['bin'].append(title)\n",
    "    elif distictValues <= 30 :\n",
    "        datatypes['cat'].append(title)\n",
    "    else :\n",
    "        datatypes['cont'].append(title)\n",
    "        \n",
    "_ = data.apply(setDatatypes)"
   ]
  },
  {
   "cell_type": "code",
   "execution_count": 5,
   "metadata": {},
   "outputs": [],
   "source": [
    "# Define the new Dataframes\n",
    "new_train = train.copy()\n",
    "new_test = test.copy()\n",
    "del train\n",
    "del test\n",
    "\n",
    "def change_title(old_title, dtype) :\n",
    "    '''\n",
    "    change feature title in newData to format ps_(cat|bin|cont)_.....\n",
    "    '''\n",
    "    pattern = re.compile('^(ps_)([a-z]{3,4}_[0-9]{1,2})')\n",
    "    t = pattern.findall(old_title)[0]\n",
    "    if len(t) == 2 :\n",
    "        new_title = t[0] + dtype + '_' + t[1]\n",
    "        new_train.rename(columns={title:new_title}, inplace=True)\n",
    "        new_test.rename(columns={title:new_title}, inplace=True)\n",
    "        data.rename(columns={title:new_title}, inplace=True)\n",
    "\n",
    "#---------------------------------------------------------------------------------\n",
    "for title in datatypes['bin'] :\n",
    "    # set datatype to bool.\n",
    "    new_train[title] = new_train[title].astype(np.bool)\n",
    "    new_test[title] = new_test[title].astype(np.bool)\n",
    "    change_title(title, 'bin')\n",
    "#-----------------------------------------------------------------------------------\n",
    "for title in datatypes['cat'] :\n",
    "    # fill nan values to -1, the reason is that we can't convert dtype to int if there is any NaN value.\n",
    "    data[title].fillna(-1, inplace=True)\n",
    "    new_train[title].fillna(-1, inplace=True)\n",
    "    new_test[title].fillna(-1, inplace=True)\n",
    "    # convert the values into a range of 0 to length.\n",
    "    values = data[title].value_counts().index.values\n",
    "    values.sort()\n",
    "    if not ( values == range(values.shape[0]) ).all() :\n",
    "        new_values = { str(i):j for i,j in zip(values, range(values.shape[0])) }\n",
    "        new_train[title] = new_train[title].map(lambda d : new_values[str(d)],na_action='ignore')\n",
    "        new_test[title] = new_test[title].map(lambda d : new_values[str(d)],na_action='ignore')\n",
    "        \n",
    "    new_train[title] = new_train[title].astype(np.int16)\n",
    "    new_train[title] = new_test[title].astype(np.int16)\n",
    "    \n",
    "    # change title to format ps_cat_.....\n",
    "    change_title(title, 'cat')\n",
    "#--------------------------------------------------------------------------------------\n",
    "for title in datatypes['cont'] :\n",
    "    change_title(title, 'cont')"
   ]
  },
  {
   "cell_type": "code",
   "execution_count": 11,
   "metadata": {},
   "outputs": [
    {
     "name": "stdout",
     "output_type": "stream",
     "text": [
      "boolean columns :\n",
      "\n",
      "ps_bin_ind_04\n",
      "ps_bin_ind_06\n",
      "ps_bin_ind_07\n",
      "ps_bin_ind_08\n",
      "ps_bin_ind_09\n",
      "ps_bin_ind_10\n",
      "ps_bin_ind_11\n",
      "ps_bin_ind_12\n",
      "ps_bin_ind_13\n",
      "ps_bin_ind_16\n",
      "ps_bin_ind_17\n",
      "ps_bin_ind_18\n",
      "ps_bin_car_02\n",
      "ps_bin_car_03\n",
      "ps_bin_car_05\n",
      "ps_bin_car_07\n",
      "ps_bin_car_08\n",
      "ps_bin_calc_15\n",
      "ps_bin_calc_16\n",
      "ps_bin_calc_17\n",
      "ps_bin_calc_18\n",
      "ps_bin_calc_19\n",
      "ps_bin_calc_20\n",
      "___________________________\n",
      "\n",
      "categorical columns with number of categories :\n",
      "\n",
      "ps_cat_ind_01  :\t8\n",
      "ps_cat_ind_02  :\t5\n",
      "ps_cat_ind_03  :\t12\n",
      "ps_cat_ind_05  :\t8\n",
      "ps_cat_ind_14  :\t5\n",
      "ps_cat_ind_15  :\t14\n",
      "ps_cat_reg_01  :\t10\n",
      "ps_cat_reg_02  :\t19\n",
      "ps_cat_car_01  :\t13\n",
      "ps_cat_car_04  :\t10\n",
      "ps_cat_car_06  :\t18\n",
      "ps_cat_car_09  :\t6\n",
      "ps_cat_car_10  :\t3\n",
      "ps_cat_car_11  :\t5\n",
      "ps_cat_car_15  :\t15\n",
      "ps_cat_calc_01  :\t10\n",
      "ps_cat_calc_02  :\t10\n",
      "ps_cat_calc_03  :\t10\n",
      "ps_cat_calc_04  :\t6\n",
      "ps_cat_calc_05  :\t7\n",
      "ps_cat_calc_06  :\t11\n",
      "ps_cat_calc_07  :\t10\n",
      "ps_cat_calc_08  :\t12\n",
      "ps_cat_calc_09  :\t8\n",
      "ps_cat_calc_10  :\t26\n",
      "ps_cat_calc_11  :\t21\n",
      "ps_cat_calc_12  :\t12\n",
      "ps_cat_calc_13  :\t16\n",
      "ps_cat_calc_14  :\t25\n",
      "___________________________\n",
      "\n",
      "continues columns with number of distinct values :\n",
      "\n",
      "ps_cont_reg_03  :\t5076\n",
      "ps_cont_car_11  :\t104\n",
      "ps_cont_car_12  :\t213\n",
      "ps_cont_car_13  :\t104192\n",
      "ps_cont_car_14  :\t904\n"
     ]
    }
   ],
   "source": [
    "print \"boolean columns :\\n\"\n",
    "for i in [ col for col in  data.columns if col.startswith('ps_bin') ]:\n",
    "    print i\n",
    "print \"___________________________\\n\"\n",
    "print \"categorical columns with number of categories :\\n\"\n",
    "for i in [ [col, data[col].value_counts().shape[0]] for col in data.columns if col.startswith('ps_cat') ] :\n",
    "    print i[0], \" :\\t\", i[1]\n",
    "print \"___________________________\\n\"\n",
    "print \"continues columns with number of distinct values :\\n\"\n",
    "for i in [ [col, data[col].value_counts().shape[0]] for col in data.columns if col.startswith('ps_cont') ] :\n",
    "    print i[0], \" :\\t\", i[1]"
   ]
  },
  {
   "cell_type": "code",
   "execution_count": 7,
   "metadata": {
    "scrolled": false
   },
   "outputs": [],
   "source": [
    "# save data to disk\n",
    "new_train.to_csv('./data/new_train.csv',index=False)\n",
    "new_test.to_csv('./data/new_test.csv',index=False)"
   ]
  },
  {
   "cell_type": "markdown",
   "metadata": {},
   "source": [
    "-----------"
   ]
  }
 ],
 "metadata": {
  "kernelspec": {
   "display_name": "Python 2",
   "language": "python",
   "name": "python2"
  },
  "language_info": {
   "codemirror_mode": {
    "name": "ipython",
    "version": 2
   },
   "file_extension": ".py",
   "mimetype": "text/x-python",
   "name": "python",
   "nbconvert_exporter": "python",
   "pygments_lexer": "ipython2",
   "version": "2.7.13"
  }
 },
 "nbformat": 4,
 "nbformat_minor": 2
}
