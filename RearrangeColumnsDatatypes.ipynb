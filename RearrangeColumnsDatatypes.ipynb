{
 "cells": [
  {
   "cell_type": "markdown",
   "metadata": {},
   "source": [
    "# Redfining features' data-types.  \n",
    "  \n",
    "After some exploration on the dataset I noticed the following :  \n",
    "- All values are set to float even the categorical and boolean.\n",
    "- Some of the categorical features are boolean features ( two categories 0 and 1).\n",
    "- Some of the continues features could be categorized as they have a few number of distinct values.\n",
    "\n",
    "----\n",
    "\n",
    "So what I'm going to do is to define a new data-set with some changes :  \n",
    "- analyse each feature and categorize it either [ continues, boolean or categorical ].\n",
    "- change features names to the format ps_(_cat, bin or cont)_...the rest of the old name ..., the reason for that is to make it easier to find the feature's category using the numpy.str.startwith().\n",
    "- I'll consider any feature with less than 30  distinct value to be categorical otherwise it's continues.\n",
    "- Also I'll change the data-type of them to be [ float for continues, bool for boolean and integer for categorical]\n",
    "- change the values of categorical items to be in range [ 0, number_of_distinct_values_for_this_feature ].\n"
   ]
  },
  {
   "cell_type": "code",
   "execution_count": 1,
   "metadata": {},
   "outputs": [],
   "source": [
    "import pandas as pd\n",
    "import numpy as np\n",
    "import re\n",
    "import seaborn as sns\n",
    "import matplotlib.pyplot as plt"
   ]
  },
  {
   "cell_type": "code",
   "execution_count": null,
   "metadata": {},
   "outputs": [],
   "source": []
  },
  {
   "cell_type": "code",
   "execution_count": null,
   "metadata": {},
   "outputs": [],
   "source": []
  },
  {
   "cell_type": "code",
   "execution_count": 2,
   "metadata": {},
   "outputs": [
    {
     "name": "stdout",
     "output_type": "stream",
     "text": [
      "Data:\t (1488028, 57)\n"
     ]
    }
   ],
   "source": [
    "data = pd.read_csv('./data/data')\n",
    "print('Data:\\t', data.shape)"
   ]
  },
  {
   "cell_type": "code",
   "execution_count": 3,
   "metadata": {},
   "outputs": [],
   "source": [
    "# get lists of features names by their data-type. [ [cont]inues and [cat]egorical ]\n",
    "counter = 0;\n",
    "datatypes = {\n",
    "    'cont' : [],\n",
    "    'cat' : []\n",
    "}\n",
    "\n",
    "def setDatatypes(d) :\n",
    "    global counter\n",
    "    title = data.columns[counter]\n",
    "    counter +=1;\n",
    "    if title in ['target','id'] : return\n",
    "    distictValues = d.value_counts().shape[0]\n",
    "    \n",
    "    if distictValues <= 30 :\n",
    "        datatypes['cat'].append(title)\n",
    "    else :\n",
    "        datatypes['cont'].append(title)\n",
    "        \n",
    "_ = data.apply(setDatatypes)"
   ]
  },
  {
   "cell_type": "code",
   "execution_count": null,
   "metadata": {},
   "outputs": [],
   "source": [
    "datatypes['cont']"
   ]
  },
  {
   "cell_type": "code",
   "execution_count": 4,
   "metadata": {},
   "outputs": [],
   "source": [
    "\n",
    "\n",
    "def change_title(old_title, dtype) :\n",
    "    '''\n",
    "    change feature title in newData to format ps_(cat|cont)_.....\n",
    "    '''\n",
    "    pattern = re.compile('^(ps_)([a-z]{3,4}_[0-9]{1,2})')\n",
    "    t = pattern.findall(old_title)[0]\n",
    "    if len(t) == 2 :\n",
    "        new_title = t[0] + dtype + '_' + t[1]\n",
    "        data.rename(columns={old_title:new_title}, inplace=True)\n",
    "\n",
    "#-----------------------------------------------------------------------------------\n",
    "for feature in datatypes['cat'] :\n",
    "    categories = data[feature].value_counts().index.values\n",
    "    categories.sort()\n",
    "    data[feature] = pd.Categorical(data[feature]).codes\n",
    "    change_title(feature, 'cat')\n",
    "#--------------------------------------------------------------------------------------\n",
    "for feature in datatypes['cont'] :\n",
    "    change_title(feature, 'cont')"
   ]
  },
  {
   "cell_type": "code",
   "execution_count": null,
   "metadata": {},
   "outputs": [],
   "source": []
  },
  {
   "cell_type": "code",
   "execution_count": 5,
   "metadata": {},
   "outputs": [
    {
     "name": "stdout",
     "output_type": "stream",
     "text": [
      "___________________________\n",
      "\n",
      "categorical columns with number of categories :\n",
      "\n",
      "ps_cat_ind_01  :\t 8\n",
      "ps_cat_ind_02  :\t 5\n",
      "ps_cat_ind_03  :\t 12\n",
      "ps_cat_ind_04  :\t 3\n",
      "ps_cat_ind_05  :\t 8\n",
      "ps_cat_ind_06  :\t 2\n",
      "ps_cat_ind_07  :\t 2\n",
      "ps_cat_ind_08  :\t 2\n",
      "ps_cat_ind_09  :\t 2\n",
      "ps_cat_ind_10  :\t 2\n",
      "ps_cat_ind_11  :\t 2\n",
      "ps_cat_ind_12  :\t 2\n",
      "ps_cat_ind_13  :\t 2\n",
      "ps_cat_ind_14  :\t 5\n",
      "ps_cat_ind_15  :\t 14\n",
      "ps_cat_ind_16  :\t 2\n",
      "ps_cat_ind_17  :\t 2\n",
      "ps_cat_ind_18  :\t 2\n",
      "ps_cat_reg_01  :\t 10\n",
      "ps_cat_reg_02  :\t 19\n",
      "ps_cat_car_01  :\t 13\n",
      "ps_cat_car_02  :\t 3\n",
      "ps_cat_car_03  :\t 3\n",
      "ps_cat_car_04  :\t 10\n",
      "ps_cat_car_05  :\t 3\n",
      "ps_cat_car_06  :\t 18\n",
      "ps_cat_car_07  :\t 3\n",
      "ps_cat_car_08  :\t 2\n",
      "ps_cat_car_09  :\t 6\n",
      "ps_cat_car_10  :\t 3\n",
      "ps_cat_car_11  :\t 5\n",
      "ps_cat_car_15  :\t 15\n",
      "ps_cat_calc_01  :\t 10\n",
      "ps_cat_calc_02  :\t 10\n",
      "ps_cat_calc_03  :\t 10\n",
      "ps_cat_calc_04  :\t 6\n",
      "ps_cat_calc_05  :\t 7\n",
      "ps_cat_calc_06  :\t 11\n",
      "ps_cat_calc_07  :\t 10\n",
      "ps_cat_calc_08  :\t 12\n",
      "ps_cat_calc_09  :\t 8\n",
      "ps_cat_calc_10  :\t 26\n",
      "ps_cat_calc_11  :\t 21\n",
      "ps_cat_calc_12  :\t 12\n",
      "ps_cat_calc_13  :\t 16\n",
      "ps_cat_calc_14  :\t 25\n",
      "ps_cat_calc_15  :\t 2\n",
      "ps_cat_calc_16  :\t 2\n",
      "ps_cat_calc_17  :\t 2\n",
      "ps_cat_calc_18  :\t 2\n",
      "ps_cat_calc_19  :\t 2\n",
      "ps_cat_calc_20  :\t 2\n",
      "Total number of categories =  386\n",
      "___________________________\n",
      "\n",
      "continues columns with number of distinct values :\n",
      "\n",
      "ps_cont_reg_03 : \tvalue_counts: 5077 \tMin: -1.0 \tMax 4.42 \tMean: 0.55 \tMedian: 0.72\n",
      "ps_cont_car_11 : \tvalue_counts: 104 \tMin: 1 \tMax 104 \tMean: 62.26 \tMedian: 65.0\n",
      "ps_cont_car_12 : \tvalue_counts: 214 \tMin: -1.0 \tMax 1.26 \tMean: 0.38 \tMedian: 0.37\n",
      "ps_cont_car_13 : \tvalue_counts: 104192 \tMin: 0.25 \tMax 4.03 \tMean: 0.81 \tMedian: 0.77\n",
      "ps_cont_car_14 : \tvalue_counts: 905 \tMin: -1.0 \tMax 0.64 \tMean: 0.28 \tMedian: 0.37\n"
     ]
    }
   ],
   "source": [
    "total_categos = 0\n",
    "print (\"___________________________\\n\")\n",
    "print (\"categorical columns with number of categories :\\n\")\n",
    "for i in [ [col, data[col].value_counts().shape[0]]\\\n",
    "          for col in data.columns if col.startswith('ps_cat') ] :\n",
    "    \n",
    "    print (i[0], \" :\\t\", i[1])\n",
    "    total_categos += i[1]\n",
    "\n",
    "print('Total number of categories = ', total_categos)\n",
    "print(\"___________________________\\n\")\n",
    "print (\"continues columns with number of distinct values :\\n\")\n",
    "for i in [ [col, data[col].value_counts().shape[0]]\\\n",
    "          for col in data.columns if col.startswith('ps_cont') ] :\n",
    "    \n",
    "    print (i[0], \": \\tvalue_counts:\", i[1], '\\tMin:',data[i[0]].min().round(2), '\\tMax', data[i[0]].max().round(2),\n",
    "          '\\tMean:', data[i[0]].mean().round(2), '\\tMedian:', data[i[0]].median().round(2))"
   ]
  },
  {
   "cell_type": "code",
   "execution_count": 15,
   "metadata": {
    "scrolled": false
   },
   "outputs": [],
   "source": [
    "# save data to disk\n",
    "#data.to_csv('./data/ready_data.csv', index=False)\n",
    "data = pd.read_csv('./data/ready_data.csv')"
   ]
  },
  {
   "cell_type": "code",
   "execution_count": 39,
   "metadata": {},
   "outputs": [
    {
     "name": "stderr",
     "output_type": "stream",
     "text": [
      "/home/beka/.local/lib/python3.6/site-packages/ipykernel_launcher.py:9: UserWarning: Matplotlib is currently using module://ipykernel.pylab.backend_inline, which is a non-GUI backend, so cannot show the figure.\n",
      "  if __name__ == '__main__':\n"
     ]
    },
    {
     "data": {
      "image/png": "[encoded data removed]",
      "text/plain": [
       "<Figure size 576x432 with 5 Axes>"
      ]
     },
     "metadata": {
      "needs_background": "light"
     },
     "output_type": "display_data"
    }
   ],
   "source": [
    "from sklearn.preprocessing import MinMaxScaler\n",
    "cont = [ feature for feature in data.columns if feature.startswith('ps_cont') ]\n",
    "fig, axs = plt.subplots(nrows=5, ncols=1, figsize=(8,6))\n",
    "\n",
    "for feature, ax in zip(cont, range(5)) :\n",
    "    norm = MinMaxScaler()\n",
    "    enc_data[feature] = norm.fit_transform(data[feature].values.reshape((-1,1)))\n",
    "    sns.distplot(enc_data[feature], rug=True, ax=axs[ax])\n",
    "fig.show()"
   ]
  },
  {
   "cell_type": "code",
   "execution_count": 36,
   "metadata": {},
   "outputs": [],
   "source": [
    "# define OneHotEncoder classifier.\n",
    "from sklearn.preprocessing import OneHotEncoder\n",
    "import pickle\n",
    "#encoders = []\n",
    "enc_data = data[cont].copy()\n",
    "\n",
    "cat = [ feature for feature in data.columns if feature.startswith('ps_cat') ]\n",
    "for feature in cat :\n",
    "        enc = OneHotEncoder(sparse=False)\n",
    "        encoded = enc.fit_transform(data[feature].values.reshape((-1,1)))\n",
    "        #encoders.append(enc)\n",
    "        enc_data = pd.concat((enc_data, pd.DataFrame(encoded)), axis=1)\n",
    "    \n",
    "#with open('./data/OneHotEncoder.clf', 'wb') as f:\n",
    "#    pickle.dump(file=f, obj=encoders)\n",
    "enc_data.columns = range(enc_data.columns.shape[0])\n"
   ]
  },
  {
   "cell_type": "code",
   "execution_count": 43,
   "metadata": {},
   "outputs": [
    {
     "data": {
      "text/plain": [
       "array([[0.31678161, 0.10679612, 0.61812582, ..., 0.        , 0.        ,\n",
       "        1.        ],\n",
       "       [0.32563331, 0.17475728, 0.58113883, ..., 1.        , 1.        ,\n",
       "        0.        ],\n",
       "       [0.        , 0.57281553, 0.58113883, ..., 1.        , 1.        ,\n",
       "        0.        ],\n",
       "       ...,\n",
       "       [0.29672682, 0.15533981, 0.60671951, ..., 0.        , 1.        ,\n",
       "        0.        ],\n",
       "       [0.35418662, 0.26213592, 0.6125178 , ..., 0.        , 1.        ,\n",
       "        0.        ],\n",
       "       [0.36731826, 0.45631068, 0.58113883, ..., 0.        , 1.        ,\n",
       "        0.        ]])"
      ]
     },
     "execution_count": 43,
     "metadata": {},
     "output_type": "execute_result"
    }
   ],
   "source": [
    "arr_data"
   ]
  },
  {
   "cell_type": "code",
   "execution_count": 40,
   "metadata": {
    "collapsed": true
   },
   "outputs": [
    {
     "ename": "KeyboardInterrupt",
     "evalue": "",
     "output_type": "error",
     "traceback": [
      "\u001b[0;31m---------------------------------------------------------------------------\u001b[0m",
      "\u001b[0;31mKeyboardInterrupt\u001b[0m                         Traceback (most recent call last)",
      "\u001b[0;32m<ipython-input-40-7de8e83f847c>\u001b[0m in \u001b[0;36m<module>\u001b[0;34m\u001b[0m\n\u001b[0;32m----> 1\u001b[0;31m \u001b[0menc_data\u001b[0m\u001b[0;34m.\u001b[0m\u001b[0mto_csv\u001b[0m\u001b[0;34m(\u001b[0m\u001b[0;34m'./data/ready_data.csv'\u001b[0m\u001b[0;34m,\u001b[0m \u001b[0mindex\u001b[0m\u001b[0;34m=\u001b[0m\u001b[0;32mFalse\u001b[0m\u001b[0;34m)\u001b[0m\u001b[0;34m\u001b[0m\u001b[0;34m\u001b[0m\u001b[0m\n\u001b[0m",
      "\u001b[0;32m~/.local/lib/python3.6/site-packages/pandas/core/generic.py\u001b[0m in \u001b[0;36mto_csv\u001b[0;34m(self, path_or_buf, sep, na_rep, float_format, columns, header, index, index_label, mode, encoding, compression, quoting, quotechar, line_terminator, chunksize, date_format, doublequote, escapechar, decimal)\u001b[0m\n\u001b[1;32m   3226\u001b[0m             \u001b[0mdecimal\u001b[0m\u001b[0;34m=\u001b[0m\u001b[0mdecimal\u001b[0m\u001b[0;34m,\u001b[0m\u001b[0;34m\u001b[0m\u001b[0;34m\u001b[0m\u001b[0m\n\u001b[1;32m   3227\u001b[0m         )\n\u001b[0;32m-> 3228\u001b[0;31m         \u001b[0mformatter\u001b[0m\u001b[0;34m.\u001b[0m\u001b[0msave\u001b[0m\u001b[0;34m(\u001b[0m\u001b[0;34m)\u001b[0m\u001b[0;34m\u001b[0m\u001b[0;34m\u001b[0m\u001b[0m\n\u001b[0m\u001b[1;32m   3229\u001b[0m \u001b[0;34m\u001b[0m\u001b[0m\n\u001b[1;32m   3230\u001b[0m         \u001b[0;32mif\u001b[0m \u001b[0mpath_or_buf\u001b[0m \u001b[0;32mis\u001b[0m \u001b[0;32mNone\u001b[0m\u001b[0;34m:\u001b[0m\u001b[0;34m\u001b[0m\u001b[0;34m\u001b[0m\u001b[0m\n",
      "\u001b[0;32m~/.local/lib/python3.6/site-packages/pandas/io/formats/csvs.py\u001b[0m in \u001b[0;36msave\u001b[0;34m(self)\u001b[0m\n\u001b[1;32m    200\u001b[0m                 \u001b[0mself\u001b[0m\u001b[0;34m.\u001b[0m\u001b[0mwriter\u001b[0m \u001b[0;34m=\u001b[0m \u001b[0mUnicodeWriter\u001b[0m\u001b[0;34m(\u001b[0m\u001b[0mf\u001b[0m\u001b[0;34m,\u001b[0m \u001b[0;34m**\u001b[0m\u001b[0mwriter_kwargs\u001b[0m\u001b[0;34m)\u001b[0m\u001b[0;34m\u001b[0m\u001b[0;34m\u001b[0m\u001b[0m\n\u001b[1;32m    201\u001b[0m \u001b[0;34m\u001b[0m\u001b[0m\n\u001b[0;32m--> 202\u001b[0;31m             \u001b[0mself\u001b[0m\u001b[0;34m.\u001b[0m\u001b[0m_save\u001b[0m\u001b[0;34m(\u001b[0m\u001b[0;34m)\u001b[0m\u001b[0;34m\u001b[0m\u001b[0;34m\u001b[0m\u001b[0m\n\u001b[0m\u001b[1;32m    203\u001b[0m \u001b[0;34m\u001b[0m\u001b[0m\n\u001b[1;32m    204\u001b[0m         \u001b[0;32mfinally\u001b[0m\u001b[0;34m:\u001b[0m\u001b[0;34m\u001b[0m\u001b[0;34m\u001b[0m\u001b[0m\n",
      "\u001b[0;32m~/.local/lib/python3.6/site-packages/pandas/io/formats/csvs.py\u001b[0m in \u001b[0;36m_save\u001b[0;34m(self)\u001b[0m\n\u001b[1;32m    322\u001b[0m                 \u001b[0;32mbreak\u001b[0m\u001b[0;34m\u001b[0m\u001b[0;34m\u001b[0m\u001b[0m\n\u001b[1;32m    323\u001b[0m \u001b[0;34m\u001b[0m\u001b[0m\n\u001b[0;32m--> 324\u001b[0;31m             \u001b[0mself\u001b[0m\u001b[0;34m.\u001b[0m\u001b[0m_save_chunk\u001b[0m\u001b[0;34m(\u001b[0m\u001b[0mstart_i\u001b[0m\u001b[0;34m,\u001b[0m \u001b[0mend_i\u001b[0m\u001b[0;34m)\u001b[0m\u001b[0;34m\u001b[0m\u001b[0;34m\u001b[0m\u001b[0m\n\u001b[0m\u001b[1;32m    325\u001b[0m \u001b[0;34m\u001b[0m\u001b[0m\n\u001b[1;32m    326\u001b[0m     \u001b[0;32mdef\u001b[0m \u001b[0m_save_chunk\u001b[0m\u001b[0;34m(\u001b[0m\u001b[0mself\u001b[0m\u001b[0;34m,\u001b[0m \u001b[0mstart_i\u001b[0m\u001b[0;34m,\u001b[0m \u001b[0mend_i\u001b[0m\u001b[0;34m)\u001b[0m\u001b[0;34m:\u001b[0m\u001b[0;34m\u001b[0m\u001b[0;34m\u001b[0m\u001b[0m\n",
      "\u001b[0;32m~/.local/lib/python3.6/site-packages/pandas/io/formats/csvs.py\u001b[0m in \u001b[0;36m_save_chunk\u001b[0;34m(self, start_i, end_i)\u001b[0m\n\u001b[1;32m    338\u001b[0m                 \u001b[0mdecimal\u001b[0m\u001b[0;34m=\u001b[0m\u001b[0mself\u001b[0m\u001b[0;34m.\u001b[0m\u001b[0mdecimal\u001b[0m\u001b[0;34m,\u001b[0m\u001b[0;34m\u001b[0m\u001b[0;34m\u001b[0m\u001b[0m\n\u001b[1;32m    339\u001b[0m                 \u001b[0mdate_format\u001b[0m\u001b[0;34m=\u001b[0m\u001b[0mself\u001b[0m\u001b[0;34m.\u001b[0m\u001b[0mdate_format\u001b[0m\u001b[0;34m,\u001b[0m\u001b[0;34m\u001b[0m\u001b[0;34m\u001b[0m\u001b[0m\n\u001b[0;32m--> 340\u001b[0;31m                 \u001b[0mquoting\u001b[0m\u001b[0;34m=\u001b[0m\u001b[0mself\u001b[0m\u001b[0;34m.\u001b[0m\u001b[0mquoting\u001b[0m\u001b[0;34m,\u001b[0m\u001b[0;34m\u001b[0m\u001b[0;34m\u001b[0m\u001b[0m\n\u001b[0m\u001b[1;32m    341\u001b[0m             )\n\u001b[1;32m    342\u001b[0m \u001b[0;34m\u001b[0m\u001b[0m\n",
      "\u001b[0;32m~/.local/lib/python3.6/site-packages/pandas/core/internals/blocks.py\u001b[0m in \u001b[0;36mto_native_types\u001b[0;34m(self, slicer, na_rep, float_format, decimal, quoting, **kwargs)\u001b[0m\n\u001b[1;32m   2130\u001b[0m \u001b[0;34m\u001b[0m\u001b[0m\n\u001b[1;32m   2131\u001b[0m             \u001b[0;32mif\u001b[0m \u001b[0;32mnot\u001b[0m \u001b[0mquoting\u001b[0m\u001b[0;34m:\u001b[0m\u001b[0;34m\u001b[0m\u001b[0;34m\u001b[0m\u001b[0m\n\u001b[0;32m-> 2132\u001b[0;31m                 \u001b[0mvalues\u001b[0m \u001b[0;34m=\u001b[0m \u001b[0mvalues\u001b[0m\u001b[0;34m.\u001b[0m\u001b[0mastype\u001b[0m\u001b[0;34m(\u001b[0m\u001b[0mstr\u001b[0m\u001b[0;34m)\u001b[0m\u001b[0;34m\u001b[0m\u001b[0;34m\u001b[0m\u001b[0m\n\u001b[0m\u001b[1;32m   2133\u001b[0m             \u001b[0;32melse\u001b[0m\u001b[0;34m:\u001b[0m\u001b[0;34m\u001b[0m\u001b[0;34m\u001b[0m\u001b[0m\n\u001b[1;32m   2134\u001b[0m                 \u001b[0mvalues\u001b[0m \u001b[0;34m=\u001b[0m \u001b[0mnp\u001b[0m\u001b[0;34m.\u001b[0m\u001b[0marray\u001b[0m\u001b[0;34m(\u001b[0m\u001b[0mvalues\u001b[0m\u001b[0;34m,\u001b[0m \u001b[0mdtype\u001b[0m\u001b[0;34m=\u001b[0m\u001b[0;34m\"object\"\u001b[0m\u001b[0;34m)\u001b[0m\u001b[0;34m\u001b[0m\u001b[0;34m\u001b[0m\u001b[0m\n",
      "\u001b[0;31mKeyboardInterrupt\u001b[0m: "
     ]
    }
   ],
   "source": [
    "enc_data.to_csv('./data/ready_data.csv', index=False)"
   ]
  },
  {
   "cell_type": "code",
   "execution_count": 63,
   "metadata": {},
   "outputs": [],
   "source": [
    "arr_data = enc_data.values\n",
    "np.save('./data/ready_data.npy', arr_data)"
   ]
  },
  {
   "cell_type": "code",
   "execution_count": 56,
   "metadata": {},
   "outputs": [],
   "source": [
    "corrT = enc_data.corr()\n",
    "corrT[corrT == 1] = 0\n",
    "corrT = corrT[corrT.abs() >= 0.8].dropna(how='all').dropna(how='all',axis=1)"
   ]
  },
  {
   "cell_type": "code",
   "execution_count": 57,
   "metadata": {},
   "outputs": [
    {
     "name": "stdout",
     "output_type": "stream",
     "text": [
      "14 \t&\t  15 \t=\t -0.8332067652460312\n",
      "30 \t&\t  111 \t=\t 0.8227306804042553\n",
      "31 \t&\t  32 \t=\t -0.9996849983102093\n",
      "41 \t&\t  42 \t=\t -1.0\n",
      "43 \t&\t  44 \t=\t -1.0\n",
      "45 \t&\t  46 \t=\t -1.0\n",
      "47 \t&\t  48 \t=\t -1.0\n",
      "49 \t&\t  50 \t=\t -1.0\n",
      "51 \t&\t  52 \t=\t -1.0\n",
      "53 \t&\t  54 \t=\t -1.0\n",
      "53 \t&\t  57 \t=\t 0.937284990871276\n",
      "53 \t&\t  58 \t=\t -0.8579081224344746\n",
      "54 \t&\t  57 \t=\t -0.937284990871276\n",
      "54 \t&\t  58 \t=\t 0.8579081224344746\n",
      "55 \t&\t  56 \t=\t -1.0\n",
      "57 \t&\t  58 \t=\t -0.9277009367633379\n",
      "76 \t&\t  77 \t=\t -1.0\n",
      "78 \t&\t  79 \t=\t -1.0\n",
      "80 \t&\t  81 \t=\t -1.0\n",
      "125 \t&\t  126 \t=\t -0.9999761922525835\n",
      "132 \t&\t  176 \t=\t 0.8997608449393274\n",
      "162 \t&\t  163 \t=\t -0.8429748320404173\n",
      "164 \t&\t  165 \t=\t -1.0\n",
      "167 \t&\t  169 \t=\t -0.8423766315005258\n",
      "172 \t&\t  173 \t=\t -0.9825193870617137\n",
      "379 \t&\t  380 \t=\t -1.0\n",
      "381 \t&\t  382 \t=\t -1.0\n",
      "383 \t&\t  384 \t=\t -1.0\n",
      "385 \t&\t  386 \t=\t -1.0\n",
      "387 \t&\t  388 \t=\t -1.0\n",
      "389 \t&\t  390 \t=\t -1.0\n"
     ]
    }
   ],
   "source": [
    "for i in range(corrT.shape[0]):\n",
    "    for j in range(i, corrT.shape[0]):\n",
    "        if not np.isnan(corrT.iloc[i,j]):\n",
    "            print(corrT.columns[i], '\\t&\\t ', corrT.columns[j],'\\t=\\t', corrT.iloc[i,j])"
   ]
  },
  {
   "cell_type": "markdown",
   "metadata": {},
   "source": [
    " Duplicates:\n",
    " 31 32\n",
    "41 \t&\t  42\n",
    "43 \t&\t  44 \t\n",
    "45 \t&\t  46 \t\n",
    "47 \t&\t  48 \t\n",
    "49 \t&\t  50 \t\n",
    "51 \t&\t  52 \t\n",
    "53 \t&\t  54 \t\n",
    "53 \t&\t  57 \n",
    "54 \t&\t  57\n",
    "55 \t&\t  56 \t\n",
    "57 \t&\t  58 \t\n",
    "76 \t&\t  77 \t\n",
    "78 \t&\t  79 \t\n",
    "80 \t&\t  81 \t\n",
    "125 \t&\t  126\n",
    "164 \t&\t  165\n",
    "172 \t&\t  173 \n",
    "379 \t&\t  380 \n",
    "381 \t&\t  382 \n",
    "383 \t&\t  384 \n",
    "385 \t&\t  386 \n",
    "387 \t&\t  388 \n",
    "389 \t&\t  390\n",
    "\n",
    "\n",
    "\n",
    "42,44,46,48,50,52,54,57,56,58,77,79,81,126,165,173,380,382,384,386,388,390"
   ]
  },
  {
   "cell_type": "code",
   "execution_count": 62,
   "metadata": {},
   "outputs": [],
   "source": [
    "# drop cols with more than 93% correlation\n",
    "cols_to_drop = [42,44,46,48,50,52,54,57,56,58,77,79,81,126,165,173,380,382,384,386,388,390]\n",
    "enc_data.drop(columns=cols_to_drop, inplace=True)"
   ]
  },
  {
   "cell_type": "code",
   "execution_count": 50,
   "metadata": {},
   "outputs": [],
   "source": [
    "arr_data = enc_data.values\n",
    "np.save('./data/ready_data.npy', arr_data)"
   ]
  },
  {
   "cell_type": "code",
   "execution_count": 64,
   "metadata": {},
   "outputs": [
    {
     "data": {
      "text/plain": [
       "(1488028, 369)"
      ]
     },
     "execution_count": 64,
     "metadata": {},
     "output_type": "execute_result"
    }
   ],
   "source": [
    "enc_data.shape"
   ]
  },
  {
   "cell_type": "code",
   "execution_count": null,
   "metadata": {},
   "outputs": [],
   "source": [
    "\n"
   ]
  },
  {
   "cell_type": "markdown",
   "metadata": {},
   "source": [
    "-----------"
   ]
  }
 ],
 "metadata": {
  "kernelspec": {
   "display_name": "Python 3",
   "language": "python",
   "name": "python3"
  },
  "language_info": {
   "codemirror_mode": {
    "name": "ipython",
    "version": 3
   },
   "file_extension": ".py",
   "mimetype": "text/x-python",
   "name": "python",
   "nbconvert_exporter": "python",
   "pygments_lexer": "ipython3",
   "version": "3.6.9"
  }
 },
 "nbformat": 4,
 "nbformat_minor": 2
}
